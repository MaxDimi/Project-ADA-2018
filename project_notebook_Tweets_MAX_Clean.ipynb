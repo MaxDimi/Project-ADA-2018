{
 "cells": [
  {
   "cell_type": "markdown",
   "metadata": {},
   "source": [
    "# Project -- Analysing IRA tweets --"
   ]
  },
  {
   "cell_type": "code",
   "execution_count": 1,
   "metadata": {},
   "outputs": [],
   "source": [
    "import pandas as pd\n",
    "import numpy as np\n",
    "import scipy as sp\n",
    "import seaborn as sns\n",
    "import re\n",
    "import string\n",
    "import matplotlib.pyplot as plt\n",
    "import matplotlib.patches as mpatches\n",
    "import glob\n",
    "from translate import Translator\n",
    "import spacy\n",
    "import findspark\n",
    "import nltk\n",
    "import nltk.classify.util\n",
    "from nltk.classify import NaiveBayesClassifier\n",
    "from nltk.corpus import names\n",
    "from urllib.parse import urlparse\n",
    "import requests\n",
    "from unshortenit import UnshortenIt\n",
    " \n",
    "findspark.init()\n",
    "\n",
    "import networkx as nx\n",
    "\n",
    "from pyspark import SparkContext\n",
    "\n",
    "from pyspark.sql import *\n",
    "from pyspark.sql.functions import to_timestamp, isnan\n",
    "from pyspark.mllib.stat import Statistics\n",
    "from pyspark.sql.functions import explode\n",
    "from pyspark.sql.functions import col, when, length\n",
    "\n",
    "import warnings # comment if you want to get the warnings from Searborn... ;) \n",
    "warnings.filterwarnings(\"ignore\")\n",
    "%matplotlib inline\n",
    "\n",
    "spark = SparkSession.builder.getOrCreate()"
   ]
  },
  {
   "cell_type": "code",
   "execution_count": 2,
   "metadata": {},
   "outputs": [],
   "source": [
    "# set up data directory\n",
    "DATA_DIR = 'data/'"
   ]
  },
  {
   "cell_type": "markdown",
   "metadata": {},
   "source": [
    "There are two main parts in this current *Jupyter Notebook* :\n",
    "\n",
    "* 1) **GETTING TO KNOW OUR MAIN DATASETS**. We intend to understand what contain our datasets (features and their dtypes) and to clean them in order to be ready for interpretation. We also may want to split or create new sub-datasets if there are interesting opportunities to do so.\n",
    "\n",
    "\n",
    "* 2) **DESCRIPTIVE STATISTICS AND PROJECT FEASABILITY**. In this part of the notebook we want to give summary statistics about the datasets we will need the most for our project. Furthermore we will try to figure out whether or not our objectives of Milestone 1 are still feasible after the reading of our datasets. "
   ]
  },
  {
   "cell_type": "markdown",
   "metadata": {},
   "source": [
    "## 1. GETTING TO KNOW OUR MAIN DATASETS"
   ]
  },
  {
   "cell_type": "markdown",
   "metadata": {},
   "source": [
    "### loading the data"
   ]
  },
  {
   "cell_type": "code",
   "execution_count": 3,
   "metadata": {},
   "outputs": [],
   "source": [
    "# taking IRAN tweets into account or not \n",
    "include_iran = False"
   ]
  },
  {
   "cell_type": "code",
   "execution_count": 4,
   "metadata": {},
   "outputs": [],
   "source": [
    "# load datasets thanks to Spark CSV reader \n",
    "\n",
    "if include_iran:\n",
    "    \n",
    "    # combine both RUS and IRAN datasets\n",
    "    include_description = 'RUS & IRAN'\n",
    "    \n",
    "    tweets_text_df = spark.read.format(\"csv\").option(\"header\", \"true\").load(DATA_DIR+'*_troll_tweet_text.csv')\n",
    "    tweets_stats_df = spark.read.format(\"csv\").option(\"header\", \"true\").load(DATA_DIR+'*_troll_tweet_stats.csv')\n",
    "    tweets_meta_df = spark.read.format(\"csv\").option(\"header\", \"true\").load(DATA_DIR+'*_troll_tweet_metadata.csv')\n",
    "    tweets_user_df = spark.read.format(\"csv\").option(\"header\", \"true\").load(DATA_DIR+'*_troll_user.csv')\n",
    "\n",
    "else:\n",
    "    \n",
    "    # take only RUS datasets\n",
    "    include_description = 'RUS'\n",
    "    \n",
    "    tweets_text_df = spark.read.format(\"csv\").option(\"header\", \"true\").load(DATA_DIR+'rus_troll_tweet_text.csv')\n",
    "    tweets_stats_df = spark.read.format(\"csv\").option(\"header\", \"true\").load(DATA_DIR+'rus_troll_tweet_stats.csv')\n",
    "    tweets_meta_df = spark.read.format(\"csv\").option(\"header\", \"true\").load(DATA_DIR+'rus_troll_tweet_metadata.csv')\n",
    "    tweets_user_df = spark.read.format(\"csv\").option(\"header\", \"true\").load(DATA_DIR+'rus_troll_user.csv')"
   ]
  },
  {
   "cell_type": "code",
   "execution_count": 5,
   "metadata": {},
   "outputs": [
    {
     "name": "stdout",
     "output_type": "stream",
     "text": [
      " Sizes of the datasets : (RUS)\n",
      " --------------------------------------------------------\n",
      "size of troll_tweet_text : (9041308, 3)\n",
      "size of troll_tweet_stats : (9041308, 17)\n",
      "size of troll_tweet_metadata : (9041308, 6)\n",
      "size of troll_user : (3667, 11)\n"
     ]
    }
   ],
   "source": [
    "# look at the raw global datasets' sizes \n",
    "\n",
    "# n : number of observations\n",
    "n_text = tweets_text_df.count()\n",
    "n_stats = tweets_stats_df.count()\n",
    "n_metadata = tweets_meta_df.count()\n",
    "n_users = tweets_user_df.count()\n",
    "\n",
    "# d : dimensionality of the data \n",
    "d_text = len(tweets_text_df.columns)\n",
    "d_stats = len(tweets_stats_df.columns)\n",
    "d_metadata = len(tweets_meta_df.columns)\n",
    "d_users =  len(tweets_user_df.columns)\n",
    "\n",
    "# print the results \n",
    "print(' Sizes of the datasets : ('+include_description+')')\n",
    "print(' --------------------------------------------------------')\n",
    "print('size of troll_tweet_text : '+str((n_text,d_text)))\n",
    "print('size of troll_tweet_stats : '+str((n_stats,d_stats)))\n",
    "print('size of troll_tweet_metadata : '+str((n_metadata,d_metadata)))\n",
    "print('size of troll_user : '+str((n_users,d_users)))"
   ]
  },
  {
   "cell_type": "markdown",
   "metadata": {},
   "source": [
    "Roughly more than 9M tweets are available from RUS datasets (10M when combining both RUS AND IRAN). If after the cleaning there remains such a large number of data points, it's most likely that our statistical tests will present some significance if there are really underlying correlations, differences ... etc. \n",
    "\n",
    "We can assume, since the number of records for each dataframe is the same and because of the '*a priori*' description of the data, that the rows are ordered in such a way that every tuple of index $i$ in '*troll_tweet_text*' corresponds to the observations at index $i$ for '*troll_tweet_stats*' and '*troll_tweet_metadata*'. "
   ]
  },
  {
   "cell_type": "markdown",
   "metadata": {},
   "source": [
    "### tweets_text"
   ]
  },
  {
   "cell_type": "code",
   "execution_count": 6,
   "metadata": {},
   "outputs": [
    {
     "name": "stdout",
     "output_type": "stream",
     "text": [
      "(9041308, 3)\n"
     ]
    },
    {
     "data": {
      "text/plain": [
       "[('tweetid', 'string'), ('tweet_language', 'string'), ('tweet_text', 'string')]"
      ]
     },
     "execution_count": 6,
     "metadata": {},
     "output_type": "execute_result"
    }
   ],
   "source": [
    "# what does tweets_text look like ? size, dtypes\n",
    "print((n_text,d_text))\n",
    "tweets_text_df.dtypes"
   ]
  },
  {
   "cell_type": "code",
   "execution_count": 7,
   "metadata": {},
   "outputs": [
    {
     "name": "stdout",
     "output_type": "stream",
     "text": [
      "+------------------+--------------+--------------------+\n",
      "|           tweetid|tweet_language|          tweet_text|\n",
      "+------------------+--------------+--------------------+\n",
      "|877919995476496385|            ru|\"RT @ruopentwit: ...|\n",
      "|492388766930444288|            ru|Серебром отколоко...|\n",
      "|719455077589721089|            bg|@kpru С-300 в Ира...|\n",
      "|536179342423105537|            ru|Предлагаю судить ...|\n",
      "|841410788409630720|            bg|Предостережение а...|\n",
      "|834365760776630272|            ru|Двойная утопия, и...|\n",
      "|577490527299457024|            ru|RT @harkovnews: Н...|\n",
      "|596522755379560448|            ru|RT @NovostiNsk: «...|\n",
      "|567357519547207680|            en|As sun and cloud ...|\n",
      "|665533117369876480|            ru|RT @vesti_news: Ш...|\n",
      "+------------------+--------------+--------------------+\n",
      "only showing top 10 rows\n",
      "\n"
     ]
    }
   ],
   "source": [
    "# a quick view\n",
    "tweets_text_df.show(10)"
   ]
  },
  {
   "cell_type": "markdown",
   "metadata": {},
   "source": [
    "***Is there anything to clean at this stage (before playing/dealing with the data) ?*** \n",
    "\n",
    "Below are listed the interventions we needed to perform in order to clean the data :      "
   ]
  },
  {
   "cell_type": "markdown",
   "metadata": {},
   "source": [
    "Unknown *tweet_language* can take both the value 'und', or null. We harmonize this column by setting all NaN to 'und'."
   ]
  },
  {
   "cell_type": "code",
   "execution_count": 8,
   "metadata": {},
   "outputs": [],
   "source": [
    "tweets_text_df = tweets_text_df.fillna('und',['tweet_language'])"
   ]
  },
  {
   "cell_type": "markdown",
   "metadata": {},
   "source": [
    "### tweets_stats"
   ]
  },
  {
   "cell_type": "code",
   "execution_count": 9,
   "metadata": {},
   "outputs": [
    {
     "name": "stdout",
     "output_type": "stream",
     "text": [
      "(9041308, 17)\n"
     ]
    },
    {
     "data": {
      "text/plain": [
       "[('tweetid', 'string'),\n",
       " ('userid', 'string'),\n",
       " ('tweet_time', 'string'),\n",
       " ('in_reply_to_tweetid', 'string'),\n",
       " ('in_reply_to_userid', 'string'),\n",
       " ('quoted_tweet_tweetid', 'string'),\n",
       " ('is_retweet', 'string'),\n",
       " ('retweet_userid', 'string'),\n",
       " ('retweet_tweetid', 'string'),\n",
       " ('quote_count', 'string'),\n",
       " ('reply_count', 'string'),\n",
       " ('like_count', 'string'),\n",
       " ('retweet_count', 'string'),\n",
       " ('hashtags', 'string'),\n",
       " ('urls', 'string'),\n",
       " ('user_mentions', 'string'),\n",
       " ('poll_choices', 'string')]"
      ]
     },
     "execution_count": 9,
     "metadata": {},
     "output_type": "execute_result"
    }
   ],
   "source": [
    "# what does tweets_stats look like ? size, dtypes\n",
    "print((n_stats,d_stats))\n",
    "tweets_stats_df.dtypes"
   ]
  },
  {
   "cell_type": "code",
   "execution_count": 10,
   "metadata": {},
   "outputs": [],
   "source": [
    "# (a view is not adapted in the current context)\n",
    "# tweets_stats_df.show(10)"
   ]
  },
  {
   "cell_type": "markdown",
   "metadata": {},
   "source": [
    "***Is there anything to clean at this stage (before playing/dealing with the data) ?*** \n",
    "\n",
    "Below are listed the interventions we needed to perform in order to clean the data :      "
   ]
  },
  {
   "cell_type": "markdown",
   "metadata": {},
   "source": [
    "We first convert the *tweet_time* into Datetime for ease of use, and we cast some columns into integers. We also create a static sql view of the main dataframe on which we can apply our SQL queries."
   ]
  },
  {
   "cell_type": "code",
   "execution_count": 11,
   "metadata": {},
   "outputs": [],
   "source": [
    "# dtypes transformations : \n",
    "tweets_stats_df = tweets_stats_df.withColumn('tweet_time', to_timestamp(tweets_stats_df.tweet_time))\n",
    "tweets_stats_df = tweets_stats_df.withColumn('quote_count', tweets_stats_df.quote_count.cast('int'))\n",
    "tweets_stats_df = tweets_stats_df.withColumn('reply_count', tweets_stats_df.reply_count.cast('int'))\n",
    "tweets_stats_df = tweets_stats_df.withColumn('like_count', tweets_stats_df.like_count.cast('int'))\n",
    "tweets_stats_df = tweets_stats_df.withColumn('retweet_count', tweets_stats_df.retweet_count.cast('int'))\n",
    "\n",
    "# create a temporary Spark SQL view\n",
    "tweets_stats_df.createOrReplaceTempView(\"tweets_stats_sql\")"
   ]
  },
  {
   "cell_type": "markdown",
   "metadata": {},
   "source": [
    "Now we can start splitting the data into smaller dataframes and remove the useless columns for each of those:\n",
    "* **retweets_df** contains all the posts that are retweets.\n",
    "* **replies_df** contains all the posts that are replies to other tweets.\n",
    "* **normal_tweets_df** contains all the other ('normal') posts.\n",
    "\n",
    "**NB:** some tweets have a value for *in_reply_to_userid* while their *in_reply_to_tweetid* is null (however the inverse never happens). Those are either replies to deleted tweets, or mentions of other users that were treated as replies. We decided to consider them as normal tweets."
   ]
  },
  {
   "cell_type": "code",
   "execution_count": 12,
   "metadata": {},
   "outputs": [
    {
     "name": "stdout",
     "output_type": "stream",
     "text": [
      " Size of the sub-dataset : (RUS)\n",
      " --------------------------------------------------------\n",
      "size of retweets : (3333184, 9)\n"
     ]
    }
   ],
   "source": [
    "# RETWEETS\n",
    "retweets_df = spark.sql(\"SELECT * FROM tweets_stats_sql WHERE is_retweet=True\")\n",
    "\n",
    "# to understand how we selected the columns to remove, uncomment the next two lines\n",
    "# => unique values for the whole column (either null, True , 0 ...)\n",
    "#for col in retweets_df:\n",
    "    #retweets_df.select(col).distinct().show(10)\n",
    "\n",
    "# drop certain features\n",
    "retweets_df = retweets_df.drop('in_reply_to_tweetid', 'in_reply_to_userid', 'is_retweet',\\\n",
    "                               'quote_count', 'reply_count', 'like_count', 'retweet_count',\\\n",
    "                               'poll_choices')\n",
    "\n",
    "# record the size of the created sub-dataset\n",
    "n_retweets = retweets_df.count()\n",
    "d_retweets = len(retweets_df.columns)\n",
    "\n",
    "# print the results\n",
    "print(' Size of the sub-dataset : ('+include_description+')')\n",
    "print(' --------------------------------------------------------')\n",
    "print('size of retweets : '+str((n_retweets,d_retweets)))\n"
   ]
  },
  {
   "cell_type": "code",
   "execution_count": 13,
   "metadata": {},
   "outputs": [
    {
     "name": "stdout",
     "output_type": "stream",
     "text": [
      " Size of the sub-dataset : (RUS)\n",
      " --------------------------------------------------------\n",
      "size of replies : (266208, 14)\n"
     ]
    }
   ],
   "source": [
    "# REPLIES\n",
    "replies_df = spark.sql(\"SELECT * FROM tweets_stats_sql WHERE is_retweet=False AND in_reply_to_tweetid IS NOT NULL\")\n",
    "\n",
    "# to understand how we selected the columns to remove, uncomment the next two lines\n",
    "# => unique values for the whole column (either null, True , 0 ...)\n",
    "#for col in replies_df:\n",
    "    #replies_df.select(col).distinct().show(10)\n",
    "\n",
    "# record the size of the created sub-dataset\n",
    "replies_df = replies_df.drop('retweet_tweetid', 'retweet_userid', 'is_retweet')\n",
    "\n",
    "# record the size of the created sub-dataset\n",
    "n_replies = replies_df.count()\n",
    "d_replies = len(replies_df.columns)\n",
    "\n",
    "# print the results\n",
    "print(' Size of the sub-dataset : ('+include_description+')')\n",
    "print(' --------------------------------------------------------')\n",
    "print('size of replies : '+str((n_replies,d_replies)))"
   ]
  },
  {
   "cell_type": "code",
   "execution_count": 14,
   "metadata": {},
   "outputs": [
    {
     "name": "stdout",
     "output_type": "stream",
     "text": [
      " Size of the sub-dataset : (RUS)\n",
      " --------------------------------------------------------\n",
      "size of normal tweets : (5441916, 13)\n"
     ]
    }
   ],
   "source": [
    "# NORMAL\n",
    "normal_tweets_df = spark.sql(\"SELECT * FROM tweets_stats_sql WHERE is_retweet=False AND in_reply_to_tweetid IS NULL\")\n",
    "\n",
    "# to understand how we selected the columns to remove, uncomment the next two lines\n",
    "# => unique values for the whole column (either null, True , 0 ...)\n",
    "#for col in normal_tweets_df:\n",
    "    #normal_tweets_df.select(col).distinct().show(10)\n",
    "    \n",
    "# record the size of the created sub-dataset\n",
    "normal_tweets_df = normal_tweets_df.drop('in_reply_to_tweetid', 'retweet_tweetid', 'retweet_userid', 'is_retweet')\n",
    "\n",
    "# record the size of the created sub-dataset\n",
    "n_normal = normal_tweets_df.count()\n",
    "d_normal = len(normal_tweets_df.columns)\n",
    "\n",
    "# print the results\n",
    "print(' Size of the sub-dataset : ('+include_description+')')\n",
    "print(' --------------------------------------------------------')\n",
    "print('size of normal tweets : '+str((n_normal,d_normal)))"
   ]
  },
  {
   "cell_type": "markdown",
   "metadata": {},
   "source": [
    "We verify that the number of rows correspond and that we did not duplicate or remove any by accident."
   ]
  },
  {
   "cell_type": "code",
   "execution_count": 15,
   "metadata": {},
   "outputs": [
    {
     "name": "stdout",
     "output_type": "stream",
     "text": [
      "9041308 vs. 9041308\n"
     ]
    }
   ],
   "source": [
    "print(str(n_stats)+' vs. '+str(n_retweets+n_normal+n_replies))"
   ]
  },
  {
   "cell_type": "markdown",
   "metadata": {},
   "source": [
    "### tweets_meta"
   ]
  },
  {
   "cell_type": "code",
   "execution_count": 16,
   "metadata": {},
   "outputs": [
    {
     "name": "stdout",
     "output_type": "stream",
     "text": [
      "(9041308, 6)\n"
     ]
    },
    {
     "data": {
      "text/plain": [
       "[('tweetid', 'string'),\n",
       " ('follower_count', 'string'),\n",
       " ('following_count', 'string'),\n",
       " ('latitude', 'string'),\n",
       " ('longitude', 'string'),\n",
       " ('tweet_client_name', 'string')]"
      ]
     },
     "execution_count": 16,
     "metadata": {},
     "output_type": "execute_result"
    }
   ],
   "source": [
    "# what does tweets_stats look like ? size, dtypes\n",
    "print((n_metadata,d_metadata))\n",
    "tweets_meta_df.dtypes"
   ]
  },
  {
   "cell_type": "code",
   "execution_count": 17,
   "metadata": {},
   "outputs": [
    {
     "name": "stdout",
     "output_type": "stream",
     "text": [
      "+------------------+--------------+---------------+--------+---------+------------------+\n",
      "|           tweetid|follower_count|following_count|latitude|longitude| tweet_client_name|\n",
      "+------------------+--------------+---------------+--------+---------+------------------+\n",
      "|849295393867399169|          4042|           1470|    null|     null|Twitter Web Client|\n",
      "|567280957913587713|           272|            390|    null|     null|          iziaslav|\n",
      "|493095247690612736|            89|            223|    null|     null|          vavilonX|\n",
      "|493892174069903360|            89|            223|    null|     null|          vavilonX|\n",
      "|512503798506721280|            89|            223|    null|     null|          vavilonX|\n",
      "|499624206246871041|            89|            223|    null|     null|          vavilonX|\n",
      "|491828568251707392|            89|            223|    null|     null|          vavilonX|\n",
      "|493768356810731520|            89|            223|    null|     null|          vavilonX|\n",
      "|502221368222814209|            89|            223|    null|     null|          vavilonX|\n",
      "|502380098495213568|            89|            223|    null|     null|          vavilonX|\n",
      "+------------------+--------------+---------------+--------+---------+------------------+\n",
      "only showing top 10 rows\n",
      "\n"
     ]
    }
   ],
   "source": [
    "# a quick view\n",
    "tweets_meta_df.show(10)"
   ]
  },
  {
   "cell_type": "markdown",
   "metadata": {},
   "source": [
    "***Is there anything to clean at this stage (before playing/dealing with the data) ?*** \n",
    "\n",
    "Below are listed the interventions we needed to perform in order to clean the data :      "
   ]
  },
  {
   "cell_type": "markdown",
   "metadata": {},
   "source": [
    "Just as with the previous dataset, we cast some columns into integers and we also create a static sql view of the main dataframe on which we can apply our SQL queries."
   ]
  },
  {
   "cell_type": "code",
   "execution_count": 18,
   "metadata": {},
   "outputs": [],
   "source": [
    "# dtypes transformations : \n",
    "tweets_meta_df = tweets_meta_df.withColumn('follower_count', tweets_meta_df.follower_count.cast('int'))\n",
    "tweets_meta_df = tweets_meta_df.withColumn('following_count', tweets_meta_df.following_count.cast('int'))\n",
    "\n",
    "# NOTE : we do not cast lattitude/longitude columns into integers since we intend to drop both \n",
    "# columns (see below why).\n",
    "\n",
    "# create a temporary Spark SQL view\n",
    "tweets_meta_df.createOrReplaceTempView(\"tweets_meta_sql\")"
   ]
  },
  {
   "cell_type": "markdown",
   "metadata": {},
   "source": [
    "It appears that the number of rows with a non-null *latitude*/*longitude* combination is very small compared to the size of dataset (less than 0.05%). Furthermore, several of them are repeated. We thus consider it rather useless and prefer dropping it."
   ]
  },
  {
   "cell_type": "markdown",
   "metadata": {},
   "source": [
    "@answer : **REPEATED, is it really BAD ?** "
   ]
  },
  {
   "cell_type": "code",
   "execution_count": 19,
   "metadata": {},
   "outputs": [
    {
     "name": "stdout",
     "output_type": "stream",
     "text": [
      "total number of observations for this data set 9041308\n",
      "number of non NULL lattitude records : 4779 and among them 2938 unique coordinates pairs\n"
     ]
    }
   ],
   "source": [
    "temp = spark.sql(\"SELECT * FROM tweets_meta_sql WHERE latitude IS NOT NULL\")\n",
    "print('total number of observations for this data set '+str(n_metadata))\n",
    "print('number of non NULL lattitude records : '+str(temp.count())+ ' and among them '+str(temp.select('latitude', 'longitude').distinct().count())+' unique coordinates pairs')\n",
    "\n",
    "# drop lattitude and longitude \n",
    "tweets_meta_df = tweets_meta_df.drop('latitude', 'longitude')\n",
    "      \n",
    "# override previous TempView\n",
    "tweets_meta_df.createOrReplaceTempView(\"tweets_meta_sql\")"
   ]
  },
  {
   "cell_type": "markdown",
   "metadata": {},
   "source": [
    "The main feature that we can use to split the data here is *tweet_client_name*. When we take a closer look to this column, we discover that there are more than 400 values registered. Many of them seem unidentifiable.\n",
    "\n",
    "However, we can see that a good amount of tweets are sent through official Twitter applications:\n",
    "* **Twitter Web Client** accounts for around one third of the tweets in the dataset.\n",
    "* **TweetDeck**, which allows to manage multiple accounts simultaneously, handles around 7% of the tweets.\n",
    "* **Twitter For Android** is also in the top 15 applications used for those tweets.\n",
    "\n",
    "Most of the other tweets are generated through automated social media managers, such as **twitterfeed** (which had been shut down in 2016), **dlvr.it**, or even **IFTTT**."
   ]
  },
  {
   "cell_type": "code",
   "execution_count": 20,
   "metadata": {},
   "outputs": [
    {
     "name": "stdout",
     "output_type": "stream",
     "text": [
      "number of twitter clients : 334\n",
      "+-------------------+-------+\n",
      "|  tweet_client_name|  count|\n",
      "+-------------------+-------+\n",
      "| Twitter Web Client|2576596|\n",
      "|        twitterfeed|1472547|\n",
      "|          TweetDeck| 612024|\n",
      "|      newtwittersky| 393074|\n",
      "|          bronislav| 308516|\n",
      "|           iziaslav| 299963|\n",
      "|              IFTTT| 291269|\n",
      "|          rostislav| 289475|\n",
      "|        generationπ| 285503|\n",
      "|         Twibble.io| 268402|\n",
      "|    Ohwee Messanger| 240051|\n",
      "|NovaPress Publisher| 204583|\n",
      "|Twitter for Android| 163227|\n",
      "|Приложение для тебя| 159588|\n",
      "|           vavilonX| 148744|\n",
      "+-------------------+-------+\n",
      "only showing top 15 rows\n",
      "\n"
     ]
    }
   ],
   "source": [
    "temp = spark.sql(\"SELECT tweet_client_name, COUNT(*) AS count FROM tweets_meta_sql GROUP BY tweet_client_name ORDER BY count DESC\")\n",
    "print('number of twitter clients : '+str(temp.count()))\n",
    "temp.show(15)"
   ]
  },
  {
   "cell_type": "markdown",
   "metadata": {},
   "source": [
    "Let's have a look on Twitter clients of the kind : *Twitter ... for ....*."
   ]
  },
  {
   "cell_type": "code",
   "execution_count": 21,
   "metadata": {},
   "outputs": [
    {
     "name": "stdout",
     "output_type": "stream",
     "text": [
      "number of such typical twitter clients : 18\n",
      "+--------------------+-------+\n",
      "|   tweet_client_name|  count|\n",
      "+--------------------+-------+\n",
      "|  Twitter Web Client|2576596|\n",
      "| Twitter for Android| 163227|\n",
      "|  Twitter for iPhone|  56168|\n",
      "|Twitter for Andro...|  22126|\n",
      "|    Twitter for iPad|   4432|\n",
      "|Twitter for  Android|   3642|\n",
      "|        Twitter Lite|   2891|\n",
      "|      Twitter Nation|    813|\n",
      "|Twitter for Websites|    762|\n",
      "|Twitter for Nokia...|    442|\n",
      "|Twitter for Black...|     92|\n",
      "| Twitter for Windows|     92|\n",
      "|Twitter for Black...|     71|\n",
      "|Twitterrific for iOS|     21|\n",
      "|Twitter for Windo...|      9|\n",
      "|         Twitter Ads|      6|\n",
      "|Twitter Business ...|      2|\n",
      "|Unfollow Tools fo...|      1|\n",
      "+--------------------+-------+\n",
      "\n"
     ]
    }
   ],
   "source": [
    "temp = spark.sql(\"SELECT tweet_client_name, COUNT(*) AS count FROM tweets_meta_sql WHERE tweet_client_name LIKE '%Twitter%' GROUP BY tweet_client_name ORDER BY count DESC\")\n",
    "print('number of such typical twitter clients : '+str(temp.count()))\n",
    "temp.show()"
   ]
  },
  {
   "cell_type": "markdown",
   "metadata": {},
   "source": [
    "In the end, seeing how messy this dataset is, and how few columns it has, we decided to not split it."
   ]
  },
  {
   "cell_type": "code",
   "execution_count": 22,
   "metadata": {},
   "outputs": [
    {
     "name": "stdout",
     "output_type": "stream",
     "text": [
      "size of troll_tweet_metadata : (9041308, 4)\n"
     ]
    }
   ],
   "source": [
    "# update the dimensionality of this dataset after the drop of columns\n",
    "d_metadata=  len(tweets_meta_df.columns)\n",
    "print('size of troll_tweet_metadata : '+str((n_metadata,d_metadata)))"
   ]
  },
  {
   "cell_type": "markdown",
   "metadata": {},
   "source": [
    "### tweets_user"
   ]
  },
  {
   "cell_type": "code",
   "execution_count": 23,
   "metadata": {},
   "outputs": [
    {
     "name": "stdout",
     "output_type": "stream",
     "text": [
      "(3667, 11)\n"
     ]
    },
    {
     "data": {
      "text/plain": [
       "[('userid', 'string'),\n",
       " ('user_display_name', 'string'),\n",
       " ('user_screen_name', 'string'),\n",
       " ('user_reported_location', 'string'),\n",
       " ('user_profile_description', 'string'),\n",
       " ('user_profile_url', 'string'),\n",
       " ('account_creation_date', 'string'),\n",
       " ('account_language', 'string'),\n",
       " ('follower_count', 'string'),\n",
       " ('following_count', 'string'),\n",
       " ('last_tweet_at', 'string')]"
      ]
     },
     "execution_count": 23,
     "metadata": {},
     "output_type": "execute_result"
    }
   ],
   "source": [
    "# what does tweets_stats look like ? size, dtypes\n",
    "print((n_users,d_users))\n",
    "tweets_user_df.dtypes"
   ]
  },
  {
   "cell_type": "markdown",
   "metadata": {},
   "source": [
    "***Is there anything to clean at this stage (before playing/dealing with the data) ?*** \n",
    "\n",
    "Below are listed the interventions we needed to perform in order to clean the data :      "
   ]
  },
  {
   "cell_type": "markdown",
   "metadata": {},
   "source": [
    "We first convert the dates and integers present in the dataframe. This also treats the wrong encodings in those columns (such as a language ('en') present in *last_tweet_at*."
   ]
  },
  {
   "cell_type": "code",
   "execution_count": 24,
   "metadata": {},
   "outputs": [],
   "source": [
    "# dtypes transformations : \n",
    "tweets_user_df = tweets_user_df.withColumn('account_creation_date', to_timestamp(tweets_user_df.account_creation_date))\n",
    "tweets_user_df = tweets_user_df.withColumn('last_tweet_at', to_timestamp(tweets_user_df.last_tweet_at))\n",
    "tweets_user_df = tweets_user_df.withColumn('follower_count', tweets_user_df.follower_count.cast('int'))\n",
    "tweets_user_df = tweets_user_df.withColumn('following_count', tweets_user_df.following_count.cast('int'))\n",
    "\n",
    "# create a temporary Spark SQL view\n",
    "tweets_user_df.createOrReplaceTempView(\"tweets_user_sql\")"
   ]
  },
  {
   "cell_type": "markdown",
   "metadata": {},
   "source": [
    "There also appear to be some wrong encodings in *account_language*. All languages are represented by a two letters code (except for *en-gb* and *zh-cn*, which correspond respectively to British English and Mainland Chinese). But a very small number of rows contain a date or a text as language.\n",
    "\n",
    "After looking further into that, we discovered that those accounts wrote tweets in many different languages. As it is impossible for us to determine which one is their preferred language, we decided to set those inconsistent values to *'und'*."
   ]
  },
  {
   "cell_type": "code",
   "execution_count": 25,
   "metadata": {},
   "outputs": [
    {
     "name": "stdout",
     "output_type": "stream",
     "text": [
      "number of rows with inconsistent account_language: 3\n",
      "+--------------------+----------------+\n",
      "|              userid|account_language|\n",
      "+--------------------+----------------+\n",
      "|02b81295dbf8951d1...|      2016-01-13|\n",
      "|          1240007161|      2013-03-03|\n",
      "|8e77873eecf19db8d...|      2017-03-21|\n",
      "+--------------------+----------------+\n",
      "\n"
     ]
    }
   ],
   "source": [
    "temp = spark.sql(\"SELECT userid, account_language FROM tweets_user_sql WHERE LENGTH(account_language)>5\")\n",
    "print(\"number of rows with inconsistent account_language: \" + str(temp.count()))\n",
    "temp.show()"
   ]
  },
  {
   "cell_type": "markdown",
   "metadata": {},
   "source": [
    "Let's apply the transformations required by the last comments. "
   ]
  },
  {
   "cell_type": "code",
   "execution_count": 26,
   "metadata": {},
   "outputs": [],
   "source": [
    "# filter on the account_language feature\n",
    "tweets_user_df = tweets_user_df.withColumn('account_language', when(length(col('account_language'))>5, 'und').otherwise(col('account_language')))"
   ]
  },
  {
   "cell_type": "code",
   "execution_count": 27,
   "metadata": {},
   "outputs": [],
   "source": [
    "# create temporary Spark SQL view\n",
    "tweets_user_df.createOrReplaceTempView(\"tweets_user_sql\")"
   ]
  },
  {
   "cell_type": "markdown",
   "metadata": {},
   "source": [
    "Let's check that there are no more 'inconsistent' rows w.r.t our standards."
   ]
  },
  {
   "cell_type": "code",
   "execution_count": 28,
   "metadata": {},
   "outputs": [
    {
     "name": "stdout",
     "output_type": "stream",
     "text": [
      "number of rows with inconsistent account_language: 0\n"
     ]
    }
   ],
   "source": [
    "print(\"number of rows with inconsistent account_language: \" + str(spark.sql(\"SELECT userid, account_language FROM tweets_user_sql WHERE LENGTH(account_language)>5\").count()))"
   ]
  },
  {
   "cell_type": "markdown",
   "metadata": {},
   "source": [
    "We then split this dataframe into two:\n",
    "* **anonymized_user_df** contains all the users that are anonymized.\n",
    "* **exposed_user_df** contains all the other users.\n",
    "\n",
    "This allows us to drop two columns for the anonymized users (users that have a *userid* that's the same as their *user_display_name* and *user_screen_name* : [Google APIs : twitter election integrity](https://storage.googleapis.com/twitter-election-integrity/hashed/Twitter_Elections_Integrity_Datasets_hashed_README.txt)) , which are a majority."
   ]
  },
  {
   "cell_type": "code",
   "execution_count": 29,
   "metadata": {},
   "outputs": [
    {
     "name": "stdout",
     "output_type": "stream",
     "text": [
      "number of records from dataset user : 3667\n",
      "wherein there are 3500 anonymized accounts and 167 exposed accounts\n"
     ]
    }
   ],
   "source": [
    "anonymized_user_df = spark.sql(\"SELECT * FROM tweets_user_sql WHERE userid=user_display_name\")\n",
    "exposed_user_df = spark.sql(\"SELECT * FROM tweets_user_sql WHERE NOT userid=user_display_name\")\n",
    "\n",
    "# drop useless columns \n",
    "anonymized_user_df = anonymized_user_df.drop('user_display_name', 'user_screen_name')\n",
    "\n",
    "# print results + check that there are only two outcomes possible for userid = user_display_name\n",
    "print('number of records from dataset user : '+str(n_users))\n",
    "print('wherein there are '+str(anonymized_user_df.count())+' anonymized accounts and '+\\\n",
    "      str(exposed_user_df.count())+' exposed accounts')"
   ]
  },
  {
   "cell_type": "markdown",
   "metadata": {},
   "source": [
    "### Summary\n",
    "\n",
    "We have generated 4 main dataframes from the data files: *tweets_text_df*, *tweets_stats_df*, *tweets_meta_df*, and *tweets_user_df*. We then cleaned the inconsistent values and split those dataframes into smaller ones when possible and useful. Our data is now organised as follows:\n",
    "\n",
    "* **tweets_text_df**: all the contents from the tweets, with an indication of their language.\n",
    "* **tweets_stats_df**: \n",
    "    * **retweets_df**: all the information about retweets.\n",
    "    * **replies_df**: all the information about replies.\n",
    "    * **normal_tweets_df**: all the information about the other tweets.\n",
    "* **tweets_meta_df**: all the meta information corresponding to each tweets (minus the latitude/longitude).\n",
    "* **tweets_user_df**:\n",
    "    * **anonymized_user_df**: all the information about anonymized users.\n",
    "    * **exposed_user_df**: all the information about users who are not anonymized.\n",
    "    "
   ]
  },
  {
   "cell_type": "markdown",
   "metadata": {},
   "source": [
    "Before digging into some statistics we would like to underline the fact we can handle the data in its current size with the use of Spark. Previous requests did not take that much time with Spark SQL and the fact that our dataset is well partionned among several sub-datasets (data chunks) of interest will prevent us to query on too large files ! If we request very intensive computations on the data that embed many and many accesses to these chunks we will either make use of *Parquet* files or we will ***persist()*** Spark dataframes to keep them on top of the memory.\n",
    "We can tell we won't need to use ADA's cluster."
   ]
  },
  {
   "cell_type": "markdown",
   "metadata": {},
   "source": [
    "## 2.  DESCRIPTIVE STATISTICS OF OUR DATASETS AND PROJECT FEASABILITY"
   ]
  },
  {
   "cell_type": "markdown",
   "metadata": {},
   "source": [
    "As a short reminder, the questions we would like to address with respect to the milestone 1 were  : \n",
    "* 1) Is there a relation between the candidates popularities and the activities of the trolls?\n",
    "* 2) Did the trolls influence the major events of the campaign? Is it the other way around? \n",
    "* 3) Which subjects are discussed by the trolls, and which semantics do they use?\n",
    "* 4) Which media do they tend to talk about and link in their posts?\n",
    "* 5) Do they tend to show direct support or hatred for specific people?\n",
    "* 6) Did the strategy of the trolls change over time?\n",
    "    \n",
    "-------------------------------------------------------------------------------------------------"
   ]
  },
  {
   "cell_type": "code",
   "execution_count": 30,
   "metadata": {},
   "outputs": [],
   "source": [
    "# create temporary Spark SQL views of our data chunks :\n",
    "\n",
    "# normal_tweets_df\n",
    "normal_tweets_df.createOrReplaceTempView(\"normal_tweets_sql\")\n",
    "\n",
    "# tweets_text_df\n",
    "tweets_text_df.createOrReplaceTempView(\"tweets_text_sql\")\n",
    "\n",
    "# tweets_meta_df\n",
    "tweets_meta_df.createOrReplaceTempView(\"tweets_meta_sql\")\n",
    "\n",
    "# tweets_user_df\n",
    "tweets_user_df.createOrReplaceTempView(\"tweets_user_sql\")"
   ]
  },
  {
   "cell_type": "markdown",
   "metadata": {},
   "source": [
    "# NEW STUFF"
   ]
  },
  {
   "cell_type": "markdown",
   "metadata": {},
   "source": [
    "## RETWEETS"
   ]
  },
  {
   "cell_type": "markdown",
   "metadata": {},
   "source": [
    "Let us take a look at the retweets: what was retweeted by and from the trolls, and by who. We are going to take a look at the numbers, and to build a graph with the interesting relationships."
   ]
  },
  {
   "cell_type": "markdown",
   "metadata": {},
   "source": [
    "### Build dataframes"
   ]
  },
  {
   "cell_type": "code",
   "execution_count": 31,
   "metadata": {},
   "outputs": [],
   "source": [
    "retweets_df.createOrReplaceTempView(\"retweets_sql\")"
   ]
  },
  {
   "cell_type": "markdown",
   "metadata": {},
   "source": [
    "#### Retweets and count"
   ]
  },
  {
   "cell_type": "markdown",
   "metadata": {},
   "source": [
    "We first count the number of posts that *userid* retweeted from *retweet_userid*."
   ]
  },
  {
   "cell_type": "code",
   "execution_count": 32,
   "metadata": {},
   "outputs": [
    {
     "name": "stdout",
     "output_type": "stream",
     "text": [
      "844950 3\n",
      "+--------------------+--------------+-----+\n",
      "|              userid|retweet_userid|count|\n",
      "+--------------------+--------------+-----+\n",
      "|a95a911dd6ae864c4...|    2746979823| 9875|\n",
      "|a95a911dd6ae864c4...|       1367531| 2840|\n",
      "|a95a911dd6ae864c4...|      25073877| 2498|\n",
      "|74ceb7c6a46a5beb0...|    2577412818| 1743|\n",
      "|          4859142199|    3312143142| 1624|\n",
      "+--------------------+--------------+-----+\n",
      "only showing top 5 rows\n",
      "\n"
     ]
    }
   ],
   "source": [
    "retweets_edges_df = spark.sql(\"SELECT userid, retweet_userid, COUNT(*) AS count FROM retweets_sql GROUP BY userid, retweet_userid ORDER BY count DESC\")\n",
    "retweets_edges_df.createOrReplaceTempView(\"retweets_edges_sql\")\n",
    "print(retweets_edges_df.count(), len(retweets_edges_df.columns))\n",
    "retweets_edges_df.show(5)"
   ]
  },
  {
   "cell_type": "markdown",
   "metadata": {},
   "source": [
    "#### Outdegree"
   ]
  },
  {
   "cell_type": "markdown",
   "metadata": {},
   "source": [
    "We are now interested in knowing how many retweets each troll performed (outdegree of the retweets graph)."
   ]
  },
  {
   "cell_type": "code",
   "execution_count": 33,
   "metadata": {},
   "outputs": [
    {
     "name": "stdout",
     "output_type": "stream",
     "text": [
      "2975 2\n",
      "+--------------------+---------+\n",
      "|              userid|outdegree|\n",
      "+--------------------+---------+\n",
      "|a95a911dd6ae864c4...|   128897|\n",
      "|cfb0d237487ebe352...|    36894|\n",
      "|          3438999494|    26973|\n",
      "|396b0b6914e425ca5...|    17980|\n",
      "|0994abf9fb8fe1bf6...|    16960|\n",
      "+--------------------+---------+\n",
      "only showing top 5 rows\n",
      "\n"
     ]
    }
   ],
   "source": [
    "retweets_outdegree_df = spark.sql(\"SELECT userid, SUM(count) AS outdegree FROM retweets_edges_sql GROUP BY userid ORDER BY outdegree DESC\")\n",
    "retweets_outdegree_df.createOrReplaceTempView(\"retweets_outdegree_sql\")\n",
    "print(retweets_outdegree_df.count(), len(retweets_outdegree_df.columns))\n",
    "retweets_outdegree_df.show(5)"
   ]
  },
  {
   "cell_type": "code",
   "execution_count": 34,
   "metadata": {},
   "outputs": [
    {
     "name": "stdout",
     "output_type": "stream",
     "text": [
      "+-------+--------------------+------------------+\n",
      "|summary|              userid|         outdegree|\n",
      "+-------+--------------------+------------------+\n",
      "|  count|                2975|              2975|\n",
      "|   mean|1.119043723887934...|1120.3979831932772|\n",
      "| stddev|2.821889341538021...| 3093.046668622982|\n",
      "|    min|004c1875a5f3a8ddf...|                 1|\n",
      "|    max|ffe3cd0f54e1859e0...|            128897|\n",
      "+-------+--------------------+------------------+\n",
      "\n"
     ]
    }
   ],
   "source": [
    "retweets_outdegree_df.describe().show()"
   ]
  },
  {
   "cell_type": "markdown",
   "metadata": {},
   "source": [
    "#### Indegree"
   ]
  },
  {
   "cell_type": "markdown",
   "metadata": {},
   "source": [
    "We do the same for the indegree of the retweets graph."
   ]
  },
  {
   "cell_type": "code",
   "execution_count": 35,
   "metadata": {},
   "outputs": [
    {
     "name": "stdout",
     "output_type": "stream",
     "text": [
      "204289 2\n",
      "+--------------+--------+\n",
      "|retweet_userid|indegree|\n",
      "+--------------+--------+\n",
      "|      34200559|  123830|\n",
      "|      32421706|   79030|\n",
      "|    2570574680|   70395|\n",
      "|     338960856|   67521|\n",
      "|      72525490|   50560|\n",
      "+--------------+--------+\n",
      "only showing top 5 rows\n",
      "\n"
     ]
    }
   ],
   "source": [
    "retweets_indegree_df = spark.sql(\"SELECT retweet_userid, SUM(count) AS indegree FROM retweets_edges_sql GROUP BY retweet_userid ORDER BY indegree DESC\")\n",
    "retweets_indegree_df.createOrReplaceTempView(\"retweets_indegree_sql\")\n",
    "print(retweets_indegree_df.count(), len(retweets_indegree_df.columns))\n",
    "retweets_indegree_df.show(5)"
   ]
  },
  {
   "cell_type": "markdown",
   "metadata": {},
   "source": [
    "#### Reduction\n",
    "\n",
    "The graph is way too big to be manipulated. We reduce it to keep only the nodes that have either retweeted at least once or been retweeted more than 10 times."
   ]
  },
  {
   "cell_type": "code",
   "execution_count": 36,
   "metadata": {},
   "outputs": [
    {
     "name": "stdout",
     "output_type": "stream",
     "text": [
      "16108\n"
     ]
    }
   ],
   "source": [
    "retweets_indegree_small_df = spark.sql(\"SELECT * FROM retweets_indegree_sql WHERE indegree>10\")\n",
    "print(retweets_indegree_small_df.count())"
   ]
  },
  {
   "cell_type": "code",
   "execution_count": 37,
   "metadata": {},
   "outputs": [
    {
     "name": "stdout",
     "output_type": "stream",
     "text": [
      "533060\n"
     ]
    }
   ],
   "source": [
    "retweets_edges_small_df = retweets_edges_df.join(retweets_indegree_small_df, ['retweet_userid'])\n",
    "retweets_edges_small_df = retweets_edges_small_df.join(retweets_outdegree_df, ['userid'])\n",
    "print(retweets_edges_small_df.count())"
   ]
  },
  {
   "cell_type": "code",
   "execution_count": 38,
   "metadata": {},
   "outputs": [
    {
     "name": "stdout",
     "output_type": "stream",
     "text": [
      "+-------+--------------------+--------------------+------------------+------------------+------------------+\n",
      "|summary|              userid|      retweet_userid|             count|          indegree|         outdegree|\n",
      "+-------+--------------------+--------------------+------------------+------------------+------------------+\n",
      "|  count|              533060|              533060|            533060|            533060|            533060|\n",
      "|   mean|2.092886738435057...|3.062322930562337...|  5.58824334971673|2023.8185288710465| 4593.699915581736|\n",
      "| stddev|1.318995774897990...|1.493328410978443...|25.572339631075646| 7701.910473550255|10463.071323139386|\n",
      "|    min|004c1875a5f3a8ddf...|004c1875a5f3a8ddf...|                 1|                11|                 1|\n",
      "|    max|ffe3cd0f54e1859e0...|ffe3cd0f54e1859e0...|              9875|            123830|            128897|\n",
      "+-------+--------------------+--------------------+------------------+------------------+------------------+\n",
      "\n"
     ]
    }
   ],
   "source": [
    "retweets_edges_small_df.describe().show()"
   ]
  },
  {
   "cell_type": "code",
   "execution_count": 39,
   "metadata": {},
   "outputs": [],
   "source": [
    "retweets_edges_small_pd = retweets_edges_small_df.toPandas()"
   ]
  },
  {
   "cell_type": "markdown",
   "metadata": {},
   "source": [
    "### Exposed users"
   ]
  },
  {
   "cell_type": "markdown",
   "metadata": {},
   "source": [
    "To furthermore reduce our graph, we will now focus on users that are not anonymized. We consider them more interesting because we can obtain more information about them and because they were by definition more popular than anonymized accounts."
   ]
  },
  {
   "cell_type": "markdown",
   "metadata": {},
   "source": [
    "#### Exposed source"
   ]
  },
  {
   "cell_type": "code",
   "execution_count": 40,
   "metadata": {},
   "outputs": [],
   "source": [
    "retweets_edges_small_df.createOrReplaceTempView(\"retweets_edges_small_sql\")\n",
    "exposed_user_df.createOrReplaceTempView(\"exposed_user_sql\")\n",
    "retweets_exposed_out = retweets_edges_small_df.join(exposed_user_df, ['userid'])\n",
    "retweets_exposed_out.createOrReplaceTempView(\"retweets_exposed_out_sql\")\n",
    "retweets_exposed_out_df = spark.sql(\"SELECT userid, user_display_name, user_screen_name, retweet_userid, account_language, count, indegree, outdegree FROM retweets_exposed_out_sql\")\n",
    "retweets_exposed_out_pd = retweets_exposed_out_df.toPandas()"
   ]
  },
  {
   "cell_type": "code",
   "execution_count": 41,
   "metadata": {},
   "outputs": [
    {
     "name": "stdout",
     "output_type": "stream",
     "text": [
      "(32804, 8)\n"
     ]
    },
    {
     "data": {
      "text/html": [
       "<div>\n",
       "<style scoped>\n",
       "    .dataframe tbody tr th:only-of-type {\n",
       "        vertical-align: middle;\n",
       "    }\n",
       "\n",
       "    .dataframe tbody tr th {\n",
       "        vertical-align: top;\n",
       "    }\n",
       "\n",
       "    .dataframe thead th {\n",
       "        text-align: right;\n",
       "    }\n",
       "</style>\n",
       "<table border=\"1\" class=\"dataframe\">\n",
       "  <thead>\n",
       "    <tr style=\"text-align: right;\">\n",
       "      <th></th>\n",
       "      <th>userid</th>\n",
       "      <th>user_display_name</th>\n",
       "      <th>user_screen_name</th>\n",
       "      <th>retweet_userid</th>\n",
       "      <th>account_language</th>\n",
       "      <th>count</th>\n",
       "      <th>indegree</th>\n",
       "      <th>outdegree</th>\n",
       "    </tr>\n",
       "  </thead>\n",
       "  <tbody>\n",
       "    <tr>\n",
       "      <th>0</th>\n",
       "      <td>1240007161</td>\n",
       "      <td>Замполит</td>\n",
       "      <td>ComradZampolit</td>\n",
       "      <td>143469704</td>\n",
       "      <td>und</td>\n",
       "      <td>3</td>\n",
       "      <td>25</td>\n",
       "      <td>6323</td>\n",
       "    </tr>\n",
       "    <tr>\n",
       "      <th>1</th>\n",
       "      <td>1240007161</td>\n",
       "      <td>Замполит</td>\n",
       "      <td>ComradZampolit</td>\n",
       "      <td>1715286739</td>\n",
       "      <td>und</td>\n",
       "      <td>2</td>\n",
       "      <td>243</td>\n",
       "      <td>6323</td>\n",
       "    </tr>\n",
       "    <tr>\n",
       "      <th>2</th>\n",
       "      <td>1240007161</td>\n",
       "      <td>Замполит</td>\n",
       "      <td>ComradZampolit</td>\n",
       "      <td>219653959</td>\n",
       "      <td>und</td>\n",
       "      <td>3</td>\n",
       "      <td>65</td>\n",
       "      <td>6323</td>\n",
       "    </tr>\n",
       "    <tr>\n",
       "      <th>3</th>\n",
       "      <td>1240007161</td>\n",
       "      <td>Замполит</td>\n",
       "      <td>ComradZampolit</td>\n",
       "      <td>2302557678</td>\n",
       "      <td>und</td>\n",
       "      <td>2</td>\n",
       "      <td>31</td>\n",
       "      <td>6323</td>\n",
       "    </tr>\n",
       "    <tr>\n",
       "      <th>4</th>\n",
       "      <td>1240007161</td>\n",
       "      <td>Замполит</td>\n",
       "      <td>ComradZampolit</td>\n",
       "      <td>3039501256</td>\n",
       "      <td>und</td>\n",
       "      <td>1</td>\n",
       "      <td>20</td>\n",
       "      <td>6323</td>\n",
       "    </tr>\n",
       "  </tbody>\n",
       "</table>\n",
       "</div>"
      ],
      "text/plain": [
       "       userid user_display_name user_screen_name retweet_userid  \\\n",
       "0  1240007161          Замполит   ComradZampolit      143469704   \n",
       "1  1240007161          Замполит   ComradZampolit     1715286739   \n",
       "2  1240007161          Замполит   ComradZampolit      219653959   \n",
       "3  1240007161          Замполит   ComradZampolit     2302557678   \n",
       "4  1240007161          Замполит   ComradZampolit     3039501256   \n",
       "\n",
       "  account_language  count  indegree  outdegree  \n",
       "0              und      3        25       6323  \n",
       "1              und      2       243       6323  \n",
       "2              und      3        65       6323  \n",
       "3              und      2        31       6323  \n",
       "4              und      1        20       6323  "
      ]
     },
     "execution_count": 41,
     "metadata": {},
     "output_type": "execute_result"
    }
   ],
   "source": [
    "print(retweets_exposed_out_pd.shape)\n",
    "retweets_exposed_out_pd.head()"
   ]
  },
  {
   "cell_type": "markdown",
   "metadata": {},
   "source": [
    "#### Exposed destination"
   ]
  },
  {
   "cell_type": "code",
   "execution_count": 42,
   "metadata": {},
   "outputs": [],
   "source": [
    "retweets_exposed_in = retweets_edges_small_df.join(exposed_user_df.withColumnRenamed('userid', 'retweet_userid'), ['retweet_userid'])\n",
    "retweets_exposed_in.createOrReplaceTempView(\"retweets_exposed_in_sql\")\n",
    "retweets_exposed_in_df = spark.sql(\"SELECT userid, user_display_name AS retweet_user_display_name, user_screen_name AS retweet_user_screen_name, retweet_userid, account_language AS rt_account_language, count AS rt_count, indegree AS rt_indegree, outdegree AS rt_outdegree FROM retweets_exposed_in_sql\")\n",
    "retweets_exposed_in_pd = retweets_exposed_in_df.toPandas()"
   ]
  },
  {
   "cell_type": "code",
   "execution_count": 43,
   "metadata": {},
   "outputs": [
    {
     "name": "stdout",
     "output_type": "stream",
     "text": [
      "(32605, 8)\n"
     ]
    },
    {
     "data": {
      "text/html": [
       "<div>\n",
       "<style scoped>\n",
       "    .dataframe tbody tr th:only-of-type {\n",
       "        vertical-align: middle;\n",
       "    }\n",
       "\n",
       "    .dataframe tbody tr th {\n",
       "        vertical-align: top;\n",
       "    }\n",
       "\n",
       "    .dataframe thead th {\n",
       "        text-align: right;\n",
       "    }\n",
       "</style>\n",
       "<table border=\"1\" class=\"dataframe\">\n",
       "  <thead>\n",
       "    <tr style=\"text-align: right;\">\n",
       "      <th></th>\n",
       "      <th>userid</th>\n",
       "      <th>retweet_user_display_name</th>\n",
       "      <th>retweet_user_screen_name</th>\n",
       "      <th>retweet_userid</th>\n",
       "      <th>rt_account_language</th>\n",
       "      <th>rt_count</th>\n",
       "      <th>rt_indegree</th>\n",
       "      <th>rt_outdegree</th>\n",
       "    </tr>\n",
       "  </thead>\n",
       "  <tbody>\n",
       "    <tr>\n",
       "      <th>0</th>\n",
       "      <td>202c8708b3ed415e943eade0a8e5bfb0ce7ceaf93fcc46...</td>\n",
       "      <td>Замполит</td>\n",
       "      <td>ComradZampolit</td>\n",
       "      <td>1240007161</td>\n",
       "      <td>und</td>\n",
       "      <td>19</td>\n",
       "      <td>14831</td>\n",
       "      <td>6111</td>\n",
       "    </tr>\n",
       "    <tr>\n",
       "      <th>1</th>\n",
       "      <td>202c8708b3ed415e943eade0a8e5bfb0ce7ceaf93fcc46...</td>\n",
       "      <td>Вестник России</td>\n",
       "      <td>vestnikrus</td>\n",
       "      <td>2481527106</td>\n",
       "      <td>ru</td>\n",
       "      <td>29</td>\n",
       "      <td>15544</td>\n",
       "      <td>6111</td>\n",
       "    </tr>\n",
       "    <tr>\n",
       "      <th>2</th>\n",
       "      <td>202c8708b3ed415e943eade0a8e5bfb0ce7ceaf93fcc46...</td>\n",
       "      <td>Открытая Россия</td>\n",
       "      <td>ruopentwit</td>\n",
       "      <td>2572896396</td>\n",
       "      <td>ru</td>\n",
       "      <td>25</td>\n",
       "      <td>17841</td>\n",
       "      <td>6111</td>\n",
       "    </tr>\n",
       "    <tr>\n",
       "      <th>3</th>\n",
       "      <td>202c8708b3ed415e943eade0a8e5bfb0ce7ceaf93fcc46...</td>\n",
       "      <td>Викулова Татьяна</td>\n",
       "      <td>sinigopajuby</td>\n",
       "      <td>2256210373</td>\n",
       "      <td>en</td>\n",
       "      <td>3</td>\n",
       "      <td>672</td>\n",
       "      <td>6111</td>\n",
       "    </tr>\n",
       "    <tr>\n",
       "      <th>4</th>\n",
       "      <td>202c8708b3ed415e943eade0a8e5bfb0ce7ceaf93fcc46...</td>\n",
       "      <td>Вестник Петербурга</td>\n",
       "      <td>NovostiSPb</td>\n",
       "      <td>508761973</td>\n",
       "      <td>en</td>\n",
       "      <td>35</td>\n",
       "      <td>22366</td>\n",
       "      <td>6111</td>\n",
       "    </tr>\n",
       "  </tbody>\n",
       "</table>\n",
       "</div>"
      ],
      "text/plain": [
       "                                              userid  \\\n",
       "0  202c8708b3ed415e943eade0a8e5bfb0ce7ceaf93fcc46...   \n",
       "1  202c8708b3ed415e943eade0a8e5bfb0ce7ceaf93fcc46...   \n",
       "2  202c8708b3ed415e943eade0a8e5bfb0ce7ceaf93fcc46...   \n",
       "3  202c8708b3ed415e943eade0a8e5bfb0ce7ceaf93fcc46...   \n",
       "4  202c8708b3ed415e943eade0a8e5bfb0ce7ceaf93fcc46...   \n",
       "\n",
       "  retweet_user_display_name retweet_user_screen_name retweet_userid  \\\n",
       "0                  Замполит           ComradZampolit     1240007161   \n",
       "1            Вестник России               vestnikrus     2481527106   \n",
       "2           Открытая Россия               ruopentwit     2572896396   \n",
       "3          Викулова Татьяна             sinigopajuby     2256210373   \n",
       "4        Вестник Петербурга               NovostiSPb      508761973   \n",
       "\n",
       "  rt_account_language  rt_count  rt_indegree  rt_outdegree  \n",
       "0                 und        19        14831          6111  \n",
       "1                  ru        29        15544          6111  \n",
       "2                  ru        25        17841          6111  \n",
       "3                  en         3          672          6111  \n",
       "4                  en        35        22366          6111  "
      ]
     },
     "execution_count": 43,
     "metadata": {},
     "output_type": "execute_result"
    }
   ],
   "source": [
    "print(retweets_exposed_in_pd.shape)\n",
    "retweets_exposed_in_pd.head()"
   ]
  },
  {
   "cell_type": "markdown",
   "metadata": {},
   "source": [
    "#### Join both"
   ]
  },
  {
   "cell_type": "code",
   "execution_count": 44,
   "metadata": {},
   "outputs": [
    {
     "name": "stdout",
     "output_type": "stream",
     "text": [
      "(1145, 14)\n"
     ]
    },
    {
     "data": {
      "text/html": [
       "<div>\n",
       "<style scoped>\n",
       "    .dataframe tbody tr th:only-of-type {\n",
       "        vertical-align: middle;\n",
       "    }\n",
       "\n",
       "    .dataframe tbody tr th {\n",
       "        vertical-align: top;\n",
       "    }\n",
       "\n",
       "    .dataframe thead th {\n",
       "        text-align: right;\n",
       "    }\n",
       "</style>\n",
       "<table border=\"1\" class=\"dataframe\">\n",
       "  <thead>\n",
       "    <tr style=\"text-align: right;\">\n",
       "      <th></th>\n",
       "      <th>userid</th>\n",
       "      <th>retweet_userid</th>\n",
       "      <th>user_display_name</th>\n",
       "      <th>user_screen_name</th>\n",
       "      <th>account_language</th>\n",
       "      <th>count</th>\n",
       "      <th>indegree</th>\n",
       "      <th>outdegree</th>\n",
       "      <th>retweet_user_display_name</th>\n",
       "      <th>retweet_user_screen_name</th>\n",
       "      <th>rt_account_language</th>\n",
       "      <th>rt_count</th>\n",
       "      <th>rt_indegree</th>\n",
       "      <th>rt_outdegree</th>\n",
       "    </tr>\n",
       "  </thead>\n",
       "  <tbody>\n",
       "    <tr>\n",
       "      <th>0</th>\n",
       "      <td>1240007161</td>\n",
       "      <td>2526297190</td>\n",
       "      <td>Замполит</td>\n",
       "      <td>ComradZampolit</td>\n",
       "      <td>und</td>\n",
       "      <td>9</td>\n",
       "      <td>14</td>\n",
       "      <td>6323</td>\n",
       "      <td>АгитПолк</td>\n",
       "      <td>AgitPolk</td>\n",
       "      <td>ru</td>\n",
       "      <td>9</td>\n",
       "      <td>14</td>\n",
       "      <td>6323</td>\n",
       "    </tr>\n",
       "    <tr>\n",
       "      <th>1</th>\n",
       "      <td>2532611755</td>\n",
       "      <td>2882013788</td>\n",
       "      <td>Kathie</td>\n",
       "      <td>KathieMrr</td>\n",
       "      <td>en</td>\n",
       "      <td>105</td>\n",
       "      <td>6082</td>\n",
       "      <td>3433</td>\n",
       "      <td>Giselle Evans</td>\n",
       "      <td>GiselleEvns</td>\n",
       "      <td>en</td>\n",
       "      <td>105</td>\n",
       "      <td>6082</td>\n",
       "      <td>3433</td>\n",
       "    </tr>\n",
       "    <tr>\n",
       "      <th>2</th>\n",
       "      <td>2721995401</td>\n",
       "      <td>2808833544</td>\n",
       "      <td>Мария Можайская</td>\n",
       "      <td>MaryMozhaiskaya</td>\n",
       "      <td>en</td>\n",
       "      <td>9</td>\n",
       "      <td>19753</td>\n",
       "      <td>296</td>\n",
       "      <td>Максим Дементьев</td>\n",
       "      <td>MaxDementiev</td>\n",
       "      <td>ru</td>\n",
       "      <td>9</td>\n",
       "      <td>19753</td>\n",
       "      <td>296</td>\n",
       "    </tr>\n",
       "    <tr>\n",
       "      <th>3</th>\n",
       "      <td>3049228218</td>\n",
       "      <td>3806028575</td>\n",
       "      <td>Вестник Луганска</td>\n",
       "      <td>LuganskNovosti</td>\n",
       "      <td>ru</td>\n",
       "      <td>1</td>\n",
       "      <td>214</td>\n",
       "      <td>213</td>\n",
       "      <td>Вестник Тулы</td>\n",
       "      <td>VestnikTula</td>\n",
       "      <td>ru</td>\n",
       "      <td>1</td>\n",
       "      <td>214</td>\n",
       "      <td>213</td>\n",
       "    </tr>\n",
       "    <tr>\n",
       "      <th>4</th>\n",
       "      <td>508761973</td>\n",
       "      <td>2808833544</td>\n",
       "      <td>Вестник Петербурга</td>\n",
       "      <td>NovostiSPb</td>\n",
       "      <td>en</td>\n",
       "      <td>11</td>\n",
       "      <td>19753</td>\n",
       "      <td>1930</td>\n",
       "      <td>Максим Дементьев</td>\n",
       "      <td>MaxDementiev</td>\n",
       "      <td>ru</td>\n",
       "      <td>11</td>\n",
       "      <td>19753</td>\n",
       "      <td>1930</td>\n",
       "    </tr>\n",
       "  </tbody>\n",
       "</table>\n",
       "</div>"
      ],
      "text/plain": [
       "       userid retweet_userid   user_display_name user_screen_name  \\\n",
       "0  1240007161     2526297190            Замполит   ComradZampolit   \n",
       "1  2532611755     2882013788              Kathie        KathieMrr   \n",
       "2  2721995401     2808833544     Мария Можайская  MaryMozhaiskaya   \n",
       "3  3049228218     3806028575    Вестник Луганска   LuganskNovosti   \n",
       "4   508761973     2808833544  Вестник Петербурга       NovostiSPb   \n",
       "\n",
       "  account_language  count  indegree  outdegree retweet_user_display_name  \\\n",
       "0              und      9        14       6323                  АгитПолк   \n",
       "1               en    105      6082       3433             Giselle Evans   \n",
       "2               en      9     19753        296          Максим Дементьев   \n",
       "3               ru      1       214        213              Вестник Тулы   \n",
       "4               en     11     19753       1930          Максим Дементьев   \n",
       "\n",
       "  retweet_user_screen_name rt_account_language  rt_count  rt_indegree  \\\n",
       "0                 AgitPolk                  ru         9           14   \n",
       "1              GiselleEvns                  en       105         6082   \n",
       "2             MaxDementiev                  ru         9        19753   \n",
       "3              VestnikTula                  ru         1          214   \n",
       "4             MaxDementiev                  ru        11        19753   \n",
       "\n",
       "   rt_outdegree  \n",
       "0          6323  \n",
       "1          3433  \n",
       "2           296  \n",
       "3           213  \n",
       "4          1930  "
      ]
     },
     "execution_count": 44,
     "metadata": {},
     "output_type": "execute_result"
    }
   ],
   "source": [
    "retweets_exposed_df = retweets_exposed_out_df.join(retweets_exposed_in_df, ['userid', 'retweet_userid'])\n",
    "retweets_exposed_pd = retweets_exposed_df.toPandas()\n",
    "print(retweets_exposed_pd.shape)\n",
    "retweets_exposed_pd.head()"
   ]
  },
  {
   "cell_type": "markdown",
   "metadata": {},
   "source": [
    "#### Initialize graph"
   ]
  },
  {
   "cell_type": "code",
   "execution_count": 45,
   "metadata": {},
   "outputs": [],
   "source": [
    "retweet_exposed_graph = nx.from_pandas_edgelist(retweets_exposed_pd, 'userid', 'retweet_userid', edge_attr='count', create_using= nx.DiGraph())"
   ]
  },
  {
   "cell_type": "markdown",
   "metadata": {},
   "source": [
    "#### Node attributes\n",
    "We define several node attributes that can be useful for later visualisation: indegree, outdegree and degree (sum of in and out) ; display and screen name ; account language."
   ]
  },
  {
   "cell_type": "code",
   "execution_count": 46,
   "metadata": {},
   "outputs": [],
   "source": [
    "dict_indeg = dict(zip(retweets_exposed_pd.retweet_userid, retweets_exposed_pd.indegree))\n",
    "dict_outdeg = dict(zip(retweets_exposed_pd.userid, retweets_exposed_pd.outdegree))\n",
    "dict_display = dict(zip(retweets_exposed_pd.retweet_userid, retweets_exposed_pd.retweet_user_display_name))\n",
    "dict_display.update(dict(zip(retweets_exposed_pd.userid, retweets_exposed_pd.user_display_name)))\n",
    "dict_screen = dict(zip(retweets_exposed_pd.retweet_userid, retweets_exposed_pd.retweet_user_screen_name))\n",
    "dict_screen.update(dict(zip(retweets_exposed_pd.userid, retweets_exposed_pd.user_screen_name)))\n",
    "dict_lang = dict(zip(retweets_exposed_pd.retweet_userid, retweets_exposed_pd.rt_account_language))\n",
    "dict_lang.update(dict(zip(retweets_exposed_pd.userid, retweets_exposed_pd.account_language)))\n",
    "\n",
    "nx.set_node_attributes(retweet_exposed_graph, dict_indeg, name=\"indegree\")\n",
    "nx.set_node_attributes(retweet_exposed_graph, dict_outdeg, name=\"outdegree\")\n",
    "nx.set_node_attributes(retweet_exposed_graph, dict_display, name=\"display\")\n",
    "nx.set_node_attributes(retweet_exposed_graph, dict_screen, name=\"screen\")\n",
    "nx.set_node_attributes(retweet_exposed_graph, dict_lang, name=\"lang\")"
   ]
  },
  {
   "cell_type": "code",
   "execution_count": 47,
   "metadata": {},
   "outputs": [
    {
     "name": "stdout",
     "output_type": "stream",
     "text": [
      "122\n",
      "108\n",
      "137\n",
      "137\n",
      "137\n",
      "Name: \n",
      "Type: DiGraph\n",
      "Number of nodes: 137\n",
      "Number of edges: 1145\n",
      "Average in degree:   8.3577\n",
      "Average out degree:   8.3577\n"
     ]
    }
   ],
   "source": [
    "print(len(dict_indeg))\n",
    "print(len(dict_outdeg))\n",
    "print(len(dict_display))\n",
    "print(len(dict_screen))\n",
    "print(len(dict_lang))\n",
    "print(nx.info(retweet_exposed_graph))"
   ]
  },
  {
   "cell_type": "markdown",
   "metadata": {},
   "source": [
    "#### Write graph\n",
    "We finally save the graph as a *gexf* file that can be used with *Gephi*.g"
   ]
  },
  {
   "cell_type": "code",
   "execution_count": 48,
   "metadata": {},
   "outputs": [],
   "source": [
    "nx.write_gexf(retweet_exposed_graph, \"retweet_exposed_graph.gexf\")"
   ]
  },
  {
   "cell_type": "markdown",
   "metadata": {},
   "source": [
    "### Observations"
   ]
  },
  {
   "cell_type": "markdown",
   "metadata": {},
   "source": [
    "Let us now dig deeper and look more precisely into the details of our data."
   ]
  },
  {
   "cell_type": "markdown",
   "metadata": {},
   "source": [
    "#### Main retweeters\n",
    "We first observe the exposed trolls that performed the most retweets."
   ]
  },
  {
   "cell_type": "code",
   "execution_count": 49,
   "metadata": {},
   "outputs": [],
   "source": [
    "most_rt_out = retweets_outdegree_df.join(exposed_user_df.select('userid', 'user_screen_name', 'user_display_name', 'account_language'), ['userid']).limit(20).toPandas()\n",
    "colors = []\n",
    "for l in most_rt_out['account_language']:\n",
    "    if l=='en':\n",
    "        colors.append('blue')\n",
    "    else:\n",
    "        colors.append('red')"
   ]
  },
  {
   "cell_type": "code",
   "execution_count": 50,
   "metadata": {},
   "outputs": [
    {
     "data": {
      "image/png": "[encoded data removed]",
      "text/plain": [
       "<Figure size 432x288 with 1 Axes>"
      ]
     },
     "metadata": {},
     "output_type": "display_data"
    }
   ],
   "source": [
    "most_rt_out.head(20).plot.bar(x = \"user_screen_name\", y = \"outdegree\",legend=True, title=\"The 20 main retweeters (trolls)\",grid=False, color = colors);\n",
    "blue_patch = mpatches.Patch(color='blue', label='en')\n",
    "red_patch = mpatches.Patch(color='red', label='ru')\n",
    "plt.legend(handles=[blue_patch, red_patch])\n",
    "plt.xlabel('Handle')\n",
    "plt.ylabel('Retweets')\n",
    "plt.savefig('retweeter_trolls.png', bbox_inches='tight', dpi=200, transparent=True)"
   ]
  },
  {
   "cell_type": "markdown",
   "metadata": {},
   "source": [
    "#### Most retweeted\n",
    "We look at the exposed accounts (non-trolls and trolls) that were the most retweeted by the trolls."
   ]
  },
  {
   "cell_type": "code",
   "execution_count": 52,
   "metadata": {},
   "outputs": [],
   "source": [
    "most_retweeted = retweets_indegree_df.limit(20).toPandas()"
   ]
  },
  {
   "cell_type": "code",
   "execution_count": 53,
   "metadata": {},
   "outputs": [],
   "source": [
    "for index, row in most_retweeted.iterrows():\n",
    "    if len(row['retweet_userid'])>10:\n",
    "        most_retweeted.at[index, 'retweet_userid'] = (row['retweet_userid'])[:10]+\"...\""
   ]
  },
  {
   "cell_type": "code",
   "execution_count": 54,
   "metadata": {},
   "outputs": [
    {
     "data": {
      "image/png": "[encoded data removed]",
      "text/plain": [
       "<Figure size 432x288 with 1 Axes>"
      ]
     },
     "metadata": {},
     "output_type": "display_data"
    }
   ],
   "source": [
    "most_retweeted.plot.bar(x = \"retweet_userid\", y = \"indegree\",legend=False, title=\"The 20 main retweeted\",grid=True);"
   ]
  },
  {
   "cell_type": "markdown",
   "metadata": {},
   "source": [
    "Thanks to [tweeterid](https://tweeterid.com), we can easily identify the accounts that are not in our database. Note that some of them have been deleted."
   ]
  },
  {
   "cell_type": "code",
   "execution_count": 55,
   "metadata": {},
   "outputs": [],
   "source": [
    "userid_to_screen = ['rianru', 'GazetaRu', '', 'RT_russian', 'vesti_news', '', 'Pravdiva_pravda', 'lentaruofficial', \n",
    "                    'tass_agency', 'leprasorium', '', '', 'lifenews_ru', '', 'ru_rbc', 'champ_football', '[ANON]', 'izvestia_ru', '', '']"
   ]
  },
  {
   "cell_type": "code",
   "execution_count": 56,
   "metadata": {},
   "outputs": [],
   "source": [
    "for i in range(0,len(userid_to_screen)):\n",
    "    if userid_to_screen[i]=='':\n",
    "        temp_req = spark.sql(\"SELECT user_screen_name FROM exposed_user_sql WHERE userid=\"+ most_retweeted.retweet_userid[i])\n",
    "        if temp_req.count()>0:\n",
    "            userid_to_screen[i] = temp_req.toPandas().user_screen_name[0]\n",
    "        else:\n",
    "            userid_to_screen[i] = '[DELETED]'"
   ]
  },
  {
   "cell_type": "code",
   "execution_count": 57,
   "metadata": {},
   "outputs": [],
   "source": [
    "most_retweeted['user_screen_name'] = userid_to_screen"
   ]
  },
  {
   "cell_type": "code",
   "execution_count": 58,
   "metadata": {},
   "outputs": [
    {
     "data": {
      "image/png": "[encoded data removed]",
      "text/plain": [
       "<Figure size 432x288 with 1 Axes>"
      ]
     },
     "metadata": {},
     "output_type": "display_data"
    }
   ],
   "source": [
    "most_retweeted.plot.bar(x = \"user_screen_name\", y = \"indegree\",legend=False, title=\"The 20 most retweeted handles\",grid=False)\n",
    "\n",
    "plt.xlabel('Handle')\n",
    "plt.ylabel('Retweets')\n",
    "plt.savefig('retweeted_all.png', bbox_inches='tight', dpi=200, transparent=True)"
   ]
  },
  {
   "cell_type": "markdown",
   "metadata": {},
   "source": [
    "We do the same but focused on the exposed trolls."
   ]
  },
  {
   "cell_type": "code",
   "execution_count": 61,
   "metadata": {},
   "outputs": [],
   "source": [
    "most_rt_in = retweets_indegree_df.withColumnRenamed('retweet_userid','userid').join(exposed_user_df.select('userid', 'user_screen_name', 'user_display_name', 'account_language'), ['userid']).toPandas()"
   ]
  },
  {
   "cell_type": "code",
   "execution_count": 62,
   "metadata": {},
   "outputs": [],
   "source": [
    "colors = []\n",
    "for l in most_rt_in['account_language'].head(20):\n",
    "    if l=='en':\n",
    "        colors.append('blue')\n",
    "    else:\n",
    "        colors.append('red')"
   ]
  },
  {
   "cell_type": "code",
   "execution_count": 63,
   "metadata": {},
   "outputs": [
    {
     "data": {
      "image/png": "[encoded data removed]",
      "text/plain": [
       "<Figure size 432x288 with 1 Axes>"
      ]
     },
     "metadata": {},
     "output_type": "display_data"
    }
   ],
   "source": [
    "most_rt_in.head(20).plot.bar(x = \"user_screen_name\", y = \"indegree\",legend=False, title=\"The 20 most retweeted trolls\",grid=False, color=colors);\n",
    "blue_patch = mpatches.Patch(color='blue', label='en')\n",
    "red_patch = mpatches.Patch(color='red', label='ru')\n",
    "plt.legend(handles=[blue_patch, red_patch])\n",
    "plt.xlabel('Handle')\n",
    "plt.ylabel('Retweets')\n",
    "plt.savefig('retweeted_trolls.png', bbox_inches='tight', dpi=200, transparent=True)"
   ]
  },
  {
   "cell_type": "markdown",
   "metadata": {},
   "source": [
    "### Languages\n",
    "Let us now see how Russian and English are distributed among the retweets."
   ]
  },
  {
   "cell_type": "code",
   "execution_count": 65,
   "metadata": {},
   "outputs": [],
   "source": [
    "retweets_lang_df = tweets_text_df['tweetid', 'tweet_language'].join(retweets_df.select(['tweetid']), ['tweetid'])\n",
    "retweeted_lang_df = tweets_text_df['tweetid', 'tweet_language'].join((normal_tweets_df.select(['tweetid', 'retweet_count'])).union(replies_df.select(['tweetid', 'retweet_count'])), ['tweetid'])\n",
    "retweets_lang_df.createOrReplaceTempView(\"retweets_lang_sql\")\n",
    "retweeted_lang_df.createOrReplaceTempView(\"retweeted_lang_sql\")"
   ]
  },
  {
   "cell_type": "code",
   "execution_count": 66,
   "metadata": {},
   "outputs": [],
   "source": [
    "retweets_lang_count = spark.sql(\"SELECT tweet_language, COUNT(*) AS count FROM retweets_lang_sql GROUP BY tweet_language ORDER BY count DESC\")\n",
    "retweeted_lang_count = spark.sql(\"SELECT tweet_language, SUM(retweet_count) AS count FROM retweeted_lang_sql GROUP BY tweet_language ORDER BY count DESC\")"
   ]
  },
  {
   "cell_type": "code",
   "execution_count": 67,
   "metadata": {},
   "outputs": [],
   "source": [
    "retweets_lang_count_pd = retweets_lang_count.toPandas()\n",
    "retweeted_lang_count_pd = retweeted_lang_count.toPandas()"
   ]
  },
  {
   "cell_type": "code",
   "execution_count": 68,
   "metadata": {},
   "outputs": [
    {
     "name": "stdout",
     "output_type": "stream",
     "text": [
      "(52, 2)\n",
      "(56, 2)\n"
     ]
    }
   ],
   "source": [
    "print(retweets_lang_count_pd.shape)\n",
    "print(retweeted_lang_count_pd.shape)"
   ]
  },
  {
   "cell_type": "markdown",
   "metadata": {},
   "source": [
    "#### Languages retweeted by the trolls"
   ]
  },
  {
   "cell_type": "code",
   "execution_count": 69,
   "metadata": {},
   "outputs": [
    {
     "data": {
      "text/html": [
       "<div>\n",
       "<style scoped>\n",
       "    .dataframe tbody tr th:only-of-type {\n",
       "        vertical-align: middle;\n",
       "    }\n",
       "\n",
       "    .dataframe tbody tr th {\n",
       "        vertical-align: top;\n",
       "    }\n",
       "\n",
       "    .dataframe thead th {\n",
       "        text-align: right;\n",
       "    }\n",
       "</style>\n",
       "<table border=\"1\" class=\"dataframe\">\n",
       "  <thead>\n",
       "    <tr style=\"text-align: right;\">\n",
       "      <th></th>\n",
       "      <th>tweet_language</th>\n",
       "      <th>count</th>\n",
       "    </tr>\n",
       "  </thead>\n",
       "  <tbody>\n",
       "    <tr>\n",
       "      <th>0</th>\n",
       "      <td>ru</td>\n",
       "      <td>2013563</td>\n",
       "    </tr>\n",
       "    <tr>\n",
       "      <th>1</th>\n",
       "      <td>en</td>\n",
       "      <td>1083622</td>\n",
       "    </tr>\n",
       "    <tr>\n",
       "      <th>2</th>\n",
       "      <td>und</td>\n",
       "      <td>122182</td>\n",
       "    </tr>\n",
       "    <tr>\n",
       "      <th>3</th>\n",
       "      <td>uk</td>\n",
       "      <td>32348</td>\n",
       "    </tr>\n",
       "    <tr>\n",
       "      <th>4</th>\n",
       "      <td>bg</td>\n",
       "      <td>18114</td>\n",
       "    </tr>\n",
       "    <tr>\n",
       "      <th>5</th>\n",
       "      <td>it</td>\n",
       "      <td>17883</td>\n",
       "    </tr>\n",
       "    <tr>\n",
       "      <th>6</th>\n",
       "      <td>de</td>\n",
       "      <td>13073</td>\n",
       "    </tr>\n",
       "    <tr>\n",
       "      <th>7</th>\n",
       "      <td>fr</td>\n",
       "      <td>5135</td>\n",
       "    </tr>\n",
       "    <tr>\n",
       "      <th>8</th>\n",
       "      <td>es</td>\n",
       "      <td>4400</td>\n",
       "    </tr>\n",
       "    <tr>\n",
       "      <th>9</th>\n",
       "      <td>in</td>\n",
       "      <td>2782</td>\n",
       "    </tr>\n",
       "  </tbody>\n",
       "</table>\n",
       "</div>"
      ],
      "text/plain": [
       "  tweet_language    count\n",
       "0             ru  2013563\n",
       "1             en  1083622\n",
       "2            und   122182\n",
       "3             uk    32348\n",
       "4             bg    18114\n",
       "5             it    17883\n",
       "6             de    13073\n",
       "7             fr     5135\n",
       "8             es     4400\n",
       "9             in     2782"
      ]
     },
     "execution_count": 69,
     "metadata": {},
     "output_type": "execute_result"
    }
   ],
   "source": [
    "retweets_lang_count_pd.head(10)"
   ]
  },
  {
   "cell_type": "code",
   "execution_count": 70,
   "metadata": {},
   "outputs": [
    {
     "data": {
      "image/png": "[encoded data removed]",
      "text/plain": [
       "<Figure size 432x288 with 1 Axes>"
      ]
     },
     "metadata": {},
     "output_type": "display_data"
    }
   ],
   "source": [
    "colors = ['red', 'blue', 'grey', 'blue']\n",
    "colors.extend(['green']*(10-len(colors)))\n",
    "retweets_lang_count_pd.head(10).plot.bar(x = \"tweet_language\", y = \"count\",legend=False, title=\"The 10 main languages retweeted by the trolls\",grid=False, color=colors)\n",
    "plt.yscale('log')\n",
    "plt.xlabel('Language')\n",
    "plt.ylabel('Count (log scale)')\n",
    "plt.savefig('retweets_lang.png', bbox_inches='tight', dpi=200, transparent=True)"
   ]
  },
  {
   "cell_type": "markdown",
   "metadata": {},
   "source": [
    "#### Languages in posts from the trolls that were retweeted"
   ]
  },
  {
   "cell_type": "code",
   "execution_count": 71,
   "metadata": {},
   "outputs": [
    {
     "data": {
      "text/html": [
       "<div>\n",
       "<style scoped>\n",
       "    .dataframe tbody tr th:only-of-type {\n",
       "        vertical-align: middle;\n",
       "    }\n",
       "\n",
       "    .dataframe tbody tr th {\n",
       "        vertical-align: top;\n",
       "    }\n",
       "\n",
       "    .dataframe thead th {\n",
       "        text-align: right;\n",
       "    }\n",
       "</style>\n",
       "<table border=\"1\" class=\"dataframe\">\n",
       "  <thead>\n",
       "    <tr style=\"text-align: right;\">\n",
       "      <th></th>\n",
       "      <th>tweet_language</th>\n",
       "      <th>count</th>\n",
       "    </tr>\n",
       "  </thead>\n",
       "  <tbody>\n",
       "    <tr>\n",
       "      <th>0</th>\n",
       "      <td>en</td>\n",
       "      <td>21913266</td>\n",
       "    </tr>\n",
       "    <tr>\n",
       "      <th>1</th>\n",
       "      <td>ru</td>\n",
       "      <td>8530216</td>\n",
       "    </tr>\n",
       "    <tr>\n",
       "      <th>2</th>\n",
       "      <td>und</td>\n",
       "      <td>537911</td>\n",
       "    </tr>\n",
       "    <tr>\n",
       "      <th>3</th>\n",
       "      <td>uk</td>\n",
       "      <td>86902</td>\n",
       "    </tr>\n",
       "    <tr>\n",
       "      <th>4</th>\n",
       "      <td>de</td>\n",
       "      <td>74693</td>\n",
       "    </tr>\n",
       "    <tr>\n",
       "      <th>5</th>\n",
       "      <td>bg</td>\n",
       "      <td>48344</td>\n",
       "    </tr>\n",
       "    <tr>\n",
       "      <th>6</th>\n",
       "      <td>fr</td>\n",
       "      <td>7201</td>\n",
       "    </tr>\n",
       "    <tr>\n",
       "      <th>7</th>\n",
       "      <td>sr</td>\n",
       "      <td>6984</td>\n",
       "    </tr>\n",
       "    <tr>\n",
       "      <th>8</th>\n",
       "      <td>in</td>\n",
       "      <td>6590</td>\n",
       "    </tr>\n",
       "    <tr>\n",
       "      <th>9</th>\n",
       "      <td>ar</td>\n",
       "      <td>6579</td>\n",
       "    </tr>\n",
       "  </tbody>\n",
       "</table>\n",
       "</div>"
      ],
      "text/plain": [
       "  tweet_language     count\n",
       "0             en  21913266\n",
       "1             ru   8530216\n",
       "2            und    537911\n",
       "3             uk     86902\n",
       "4             de     74693\n",
       "5             bg     48344\n",
       "6             fr      7201\n",
       "7             sr      6984\n",
       "8             in      6590\n",
       "9             ar      6579"
      ]
     },
     "execution_count": 71,
     "metadata": {},
     "output_type": "execute_result"
    }
   ],
   "source": [
    "retweeted_lang_count_pd.head(10)"
   ]
  },
  {
   "cell_type": "code",
   "execution_count": 72,
   "metadata": {},
   "outputs": [
    {
     "data": {
      "image/png": "[encoded data removed]",
      "text/plain": [
       "<Figure size 432x288 with 1 Axes>"
      ]
     },
     "metadata": {},
     "output_type": "display_data"
    }
   ],
   "source": [
    "retweeted_lang_count_pd.head(10).plot.bar(x = \"tweet_language\", y = \"count\",legend=False, title=\"The 10 main languages in retweeted troll tweets\",grid=False)\n",
    "plt.yscale('log')\n",
    "plt.xlabel('Language')\n",
    "plt.ylabel('Count (log scale)')\n",
    "plt.savefig('retweets_lang.png', bbox_inches='tight', dpi=200, transparent=True)"
   ]
  },
  {
   "cell_type": "markdown",
   "metadata": {},
   "source": [
    "## URLs in Tweets\n",
    "\n",
    "We now take a closer look at the urls that can be found in the troll tweets.\n",
    "We first need to gather all those urls, and sort them by language."
   ]
  },
  {
   "cell_type": "code",
   "execution_count": 31,
   "metadata": {},
   "outputs": [],
   "source": [
    "tweets_stats_df['tweetid','urls'].createOrReplaceTempView(\"urls_sql\")\n",
    "urls_df = spark.sql(\"SELECT tweetid, urls FROM urls_sql WHERE urls IS NOT NULL AND NOT urls='[]'\")"
   ]
  },
  {
   "cell_type": "code",
   "execution_count": 32,
   "metadata": {},
   "outputs": [],
   "source": [
    "tweets_url_lang_df = urls_df.join(tweets_text_df.select('tweetid', 'tweet_language'), ['tweetid'])\n",
    "tweets_url_lang_df.createOrReplaceTempView(\"tweets_url_lang_sql\")\n",
    "tweets_url_en_df = spark.sql(\"SELECT urls FROM tweets_url_lang_sql WHERE tweet_language='en'\")\n",
    "tweets_url_ru_df = spark.sql(\"SELECT urls FROM tweets_url_lang_sql WHERE tweet_language='ru'\")\n",
    "tweets_url_other_df = spark.sql(\"SELECT urls FROM tweets_url_lang_sql WHERE NOT (tweet_language='en' OR tweet_language='ru')\")"
   ]
  },
  {
   "cell_type": "code",
   "execution_count": 33,
   "metadata": {},
   "outputs": [
    {
     "name": "stdout",
     "output_type": "stream",
     "text": [
      "4590337\n",
      "1142115\n",
      "3032919\n",
      "415303\n"
     ]
    }
   ],
   "source": [
    "print(tweets_url_lang_df.count())\n",
    "print(tweets_url_en_df.count())\n",
    "print(tweets_url_ru_df.count())\n",
    "print(tweets_url_other_df.count())"
   ]
  },
  {
   "cell_type": "code",
   "execution_count": 36,
   "metadata": {},
   "outputs": [],
   "source": [
    "def parse_url(url_df):\n",
    "    urls_array_list = []\n",
    "    for r in url_df.select('urls').collect():\n",
    "            urls_array_list.append((r['urls'])[1:-1].split(\", \"))\n",
    "    urls_list = [item for sublist in urls_array_list for item in sublist]\n",
    "    return urls_list"
   ]
  },
  {
   "cell_type": "code",
   "execution_count": 37,
   "metadata": {},
   "outputs": [
    {
     "name": "stdout",
     "output_type": "stream",
     "text": [
      "1169882 3039821 425974\n"
     ]
    }
   ],
   "source": [
    "en_urls_list = parse_url(tweets_url_en_df)\n",
    "ru_urls_list = parse_url(tweets_url_ru_df)\n",
    "other_urls_list = parse_url(tweets_url_other_df)\n",
    "print(len(en_urls_list), len(ru_urls_list), len(other_urls_list))"
   ]
  },
  {
   "cell_type": "code",
   "execution_count": 38,
   "metadata": {},
   "outputs": [],
   "source": [
    "def build_url_df(urls_list):\n",
    "    all_urls = {}\n",
    "    for u in urls_list:\n",
    "        if u in all_urls:\n",
    "            all_urls[u] += 1\n",
    "        else:\n",
    "            all_urls[u] = 1\n",
    "    sorted_urls = sorted(all_urls, key=all_urls.get, reverse=True)\n",
    "    urls_df = pd.DataFrame()\n",
    "    urls_df['url'] = sorted_urls\n",
    "    urls_df['count'] = urls_df['url'].map(lambda x: all_urls[x])\n",
    "    return urls_df"
   ]
  },
  {
   "cell_type": "code",
   "execution_count": 42,
   "metadata": {},
   "outputs": [],
   "source": [
    "en_urls_pd = build_url_df(en_urls_list)\n",
    "ru_urls_pd = build_url_df(ru_urls_list)\n",
    "other_urls_pd = build_url_df(other_urls_list)"
   ]
  },
  {
   "cell_type": "code",
   "execution_count": 84,
   "metadata": {},
   "outputs": [],
   "source": [
    "all_urls_pd = en_urls_pd.set_index('url').join(ru_urls_pd.set_index('url'), how=\"outer\", lsuffix='_en', rsuffix='_ru')\n",
    "all_urls_pd = all_urls_pd.join((other_urls_pd.set_index('url')).rename({'count':'count_other'}, axis='columns'), how=\"outer\")\n",
    "all_urls_pd.fillna(0, inplace=True)\n",
    "all_urls_pd['count'] = (all_urls_pd['count_other']+all_urls_pd['count_en']+all_urls_pd['count_ru']).astype(int)"
   ]
  },
  {
   "cell_type": "code",
   "execution_count": 89,
   "metadata": {},
   "outputs": [
    {
     "data": {
      "text/html": [
       "<div>\n",
       "<style scoped>\n",
       "    .dataframe tbody tr th:only-of-type {\n",
       "        vertical-align: middle;\n",
       "    }\n",
       "\n",
       "    .dataframe tbody tr th {\n",
       "        vertical-align: top;\n",
       "    }\n",
       "\n",
       "    .dataframe thead th {\n",
       "        text-align: right;\n",
       "    }\n",
       "</style>\n",
       "<table border=\"1\" class=\"dataframe\">\n",
       "  <thead>\n",
       "    <tr style=\"text-align: right;\">\n",
       "      <th></th>\n",
       "      <th>count_en</th>\n",
       "      <th>count_ru</th>\n",
       "      <th>count_other</th>\n",
       "      <th>count</th>\n",
       "    </tr>\n",
       "    <tr>\n",
       "      <th>url</th>\n",
       "      <th></th>\n",
       "      <th></th>\n",
       "      <th></th>\n",
       "      <th></th>\n",
       "    </tr>\n",
       "  </thead>\n",
       "  <tbody>\n",
       "    <tr>\n",
       "      <th>http://1063.mobi</th>\n",
       "      <td>4357.0</td>\n",
       "      <td>0.0</td>\n",
       "      <td>71.0</td>\n",
       "      <td>4428</td>\n",
       "    </tr>\n",
       "    <tr>\n",
       "      <th>http://USFREEDOMARMY.COM</th>\n",
       "      <td>3662.0</td>\n",
       "      <td>0.0</td>\n",
       "      <td>0.0</td>\n",
       "      <td>3662</td>\n",
       "    </tr>\n",
       "    <tr>\n",
       "      <th>http://kiev-news.com/13876-detskaya-bolnica-v-donecke-popala-pod-obstrel.html</th>\n",
       "      <td>0.0</td>\n",
       "      <td>2867.0</td>\n",
       "      <td>0.0</td>\n",
       "      <td>2867</td>\n",
       "    </tr>\n",
       "    <tr>\n",
       "      <th>http://kievsmi.net/novosti/politics/47097-klimkin-peregovory-ukrainy-i-rossii-idut-neprosto.html</th>\n",
       "      <td>0.0</td>\n",
       "      <td>2800.0</td>\n",
       "      <td>1.0</td>\n",
       "      <td>2801</td>\n",
       "    </tr>\n",
       "    <tr>\n",
       "      <th>http://bit.ly/1D3LvAc</th>\n",
       "      <td>2369.0</td>\n",
       "      <td>0.0</td>\n",
       "      <td>0.0</td>\n",
       "      <td>2369</td>\n",
       "    </tr>\n",
       "    <tr>\n",
       "      <th>http://kiev-news.com/13872-v-kieve-shkolnikov-uchat-kak-vesti-sebya-pri-zaminirovanii.html</th>\n",
       "      <td>0.0</td>\n",
       "      <td>2178.0</td>\n",
       "      <td>0.0</td>\n",
       "      <td>2178</td>\n",
       "    </tr>\n",
       "    <tr>\n",
       "      <th>http://Covfefe.bz</th>\n",
       "      <td>2035.0</td>\n",
       "      <td>0.0</td>\n",
       "      <td>19.0</td>\n",
       "      <td>2054</td>\n",
       "    </tr>\n",
       "    <tr>\n",
       "      <th>https://twibble.io</th>\n",
       "      <td>1719.0</td>\n",
       "      <td>136.0</td>\n",
       "      <td>34.0</td>\n",
       "      <td>1889</td>\n",
       "    </tr>\n",
       "    <tr>\n",
       "      <th>http://www.theunder.us</th>\n",
       "      <td>1255.0</td>\n",
       "      <td>0.0</td>\n",
       "      <td>62.0</td>\n",
       "      <td>1317</td>\n",
       "    </tr>\n",
       "    <tr>\n",
       "      <th>http://riafan.ru/119118-nigeriya-zaklyuchila-soglashenie-s-terroristami-boko-haram/</th>\n",
       "      <td>0.0</td>\n",
       "      <td>1284.0</td>\n",
       "      <td>0.0</td>\n",
       "      <td>1284</td>\n",
       "    </tr>\n",
       "  </tbody>\n",
       "</table>\n",
       "</div>"
      ],
      "text/plain": [
       "                                                    count_en  count_ru  \\\n",
       "url                                                                      \n",
       "http://1063.mobi                                      4357.0       0.0   \n",
       "http://USFREEDOMARMY.COM                              3662.0       0.0   \n",
       "http://kiev-news.com/13876-detskaya-bolnica-v-d...       0.0    2867.0   \n",
       "http://kievsmi.net/novosti/politics/47097-klimk...       0.0    2800.0   \n",
       "http://bit.ly/1D3LvAc                                 2369.0       0.0   \n",
       "http://kiev-news.com/13872-v-kieve-shkolnikov-u...       0.0    2178.0   \n",
       "http://Covfefe.bz                                     2035.0       0.0   \n",
       "https://twibble.io                                    1719.0     136.0   \n",
       "http://www.theunder.us                                1255.0       0.0   \n",
       "http://riafan.ru/119118-nigeriya-zaklyuchila-so...       0.0    1284.0   \n",
       "\n",
       "                                                    count_other  count  \n",
       "url                                                                     \n",
       "http://1063.mobi                                           71.0   4428  \n",
       "http://USFREEDOMARMY.COM                                    0.0   3662  \n",
       "http://kiev-news.com/13876-detskaya-bolnica-v-d...          0.0   2867  \n",
       "http://kievsmi.net/novosti/politics/47097-klimk...          1.0   2801  \n",
       "http://bit.ly/1D3LvAc                                       0.0   2369  \n",
       "http://kiev-news.com/13872-v-kieve-shkolnikov-u...          0.0   2178  \n",
       "http://Covfefe.bz                                          19.0   2054  \n",
       "https://twibble.io                                         34.0   1889  \n",
       "http://www.theunder.us                                     62.0   1317  \n",
       "http://riafan.ru/119118-nigeriya-zaklyuchila-so...          0.0   1284  "
      ]
     },
     "execution_count": 89,
     "metadata": {},
     "output_type": "execute_result"
    }
   ],
   "source": [
    "all_urls_pd.sort_values('count', inplace=True, ascending=False)\n",
    "all_urls_pd.head(10)"
   ]
  },
  {
   "cell_type": "code",
   "execution_count": 88,
   "metadata": {},
   "outputs": [
    {
     "data": {
      "text/html": [
       "<div>\n",
       "<style scoped>\n",
       "    .dataframe tbody tr th:only-of-type {\n",
       "        vertical-align: middle;\n",
       "    }\n",
       "\n",
       "    .dataframe tbody tr th {\n",
       "        vertical-align: top;\n",
       "    }\n",
       "\n",
       "    .dataframe thead th {\n",
       "        text-align: right;\n",
       "    }\n",
       "</style>\n",
       "<table border=\"1\" class=\"dataframe\">\n",
       "  <thead>\n",
       "    <tr style=\"text-align: right;\">\n",
       "      <th></th>\n",
       "      <th>count_en</th>\n",
       "      <th>count_ru</th>\n",
       "      <th>count_other</th>\n",
       "      <th>count</th>\n",
       "    </tr>\n",
       "  </thead>\n",
       "  <tbody>\n",
       "    <tr>\n",
       "      <th>count</th>\n",
       "      <td>2.776243e+06</td>\n",
       "      <td>2.776243e+06</td>\n",
       "      <td>2.776243e+06</td>\n",
       "      <td>2.776243e+06</td>\n",
       "    </tr>\n",
       "    <tr>\n",
       "      <th>mean</th>\n",
       "      <td>4.213903e-01</td>\n",
       "      <td>1.094941e+00</td>\n",
       "      <td>1.534354e-01</td>\n",
       "      <td>1.669766e+00</td>\n",
       "    </tr>\n",
       "    <tr>\n",
       "      <th>std</th>\n",
       "      <td>5.021726e+00</td>\n",
       "      <td>4.522232e+00</td>\n",
       "      <td>1.192444e+00</td>\n",
       "      <td>6.886708e+00</td>\n",
       "    </tr>\n",
       "    <tr>\n",
       "      <th>min</th>\n",
       "      <td>0.000000e+00</td>\n",
       "      <td>0.000000e+00</td>\n",
       "      <td>0.000000e+00</td>\n",
       "      <td>1.000000e+00</td>\n",
       "    </tr>\n",
       "    <tr>\n",
       "      <th>25%</th>\n",
       "      <td>0.000000e+00</td>\n",
       "      <td>0.000000e+00</td>\n",
       "      <td>0.000000e+00</td>\n",
       "      <td>1.000000e+00</td>\n",
       "    </tr>\n",
       "    <tr>\n",
       "      <th>50%</th>\n",
       "      <td>0.000000e+00</td>\n",
       "      <td>1.000000e+00</td>\n",
       "      <td>0.000000e+00</td>\n",
       "      <td>1.000000e+00</td>\n",
       "    </tr>\n",
       "    <tr>\n",
       "      <th>75%</th>\n",
       "      <td>1.000000e+00</td>\n",
       "      <td>1.000000e+00</td>\n",
       "      <td>0.000000e+00</td>\n",
       "      <td>1.000000e+00</td>\n",
       "    </tr>\n",
       "    <tr>\n",
       "      <th>max</th>\n",
       "      <td>4.357000e+03</td>\n",
       "      <td>2.867000e+03</td>\n",
       "      <td>8.840000e+02</td>\n",
       "      <td>4.428000e+03</td>\n",
       "    </tr>\n",
       "  </tbody>\n",
       "</table>\n",
       "</div>"
      ],
      "text/plain": [
       "           count_en      count_ru   count_other         count\n",
       "count  2.776243e+06  2.776243e+06  2.776243e+06  2.776243e+06\n",
       "mean   4.213903e-01  1.094941e+00  1.534354e-01  1.669766e+00\n",
       "std    5.021726e+00  4.522232e+00  1.192444e+00  6.886708e+00\n",
       "min    0.000000e+00  0.000000e+00  0.000000e+00  1.000000e+00\n",
       "25%    0.000000e+00  0.000000e+00  0.000000e+00  1.000000e+00\n",
       "50%    0.000000e+00  1.000000e+00  0.000000e+00  1.000000e+00\n",
       "75%    1.000000e+00  1.000000e+00  0.000000e+00  1.000000e+00\n",
       "max    4.357000e+03  2.867000e+03  8.840000e+02  4.428000e+03"
      ]
     },
     "execution_count": 88,
     "metadata": {},
     "output_type": "execute_result"
    }
   ],
   "source": [
    "all_urls_pd.describe()"
   ]
  },
  {
   "cell_type": "code",
   "execution_count": 105,
   "metadata": {},
   "outputs": [
    {
     "data": {
      "text/html": [
       "<div>\n",
       "<style scoped>\n",
       "    .dataframe tbody tr th:only-of-type {\n",
       "        vertical-align: middle;\n",
       "    }\n",
       "\n",
       "    .dataframe tbody tr th {\n",
       "        vertical-align: top;\n",
       "    }\n",
       "\n",
       "    .dataframe thead th {\n",
       "        text-align: right;\n",
       "    }\n",
       "</style>\n",
       "<table border=\"1\" class=\"dataframe\">\n",
       "  <thead>\n",
       "    <tr style=\"text-align: right;\">\n",
       "      <th></th>\n",
       "      <th>count_en</th>\n",
       "      <th>count_ru</th>\n",
       "      <th>count_other</th>\n",
       "      <th>count</th>\n",
       "      <th>domain</th>\n",
       "    </tr>\n",
       "    <tr>\n",
       "      <th>url</th>\n",
       "      <th></th>\n",
       "      <th></th>\n",
       "      <th></th>\n",
       "      <th></th>\n",
       "      <th></th>\n",
       "    </tr>\n",
       "  </thead>\n",
       "  <tbody>\n",
       "    <tr>\n",
       "      <th>http://1063.mobi</th>\n",
       "      <td>4357.0</td>\n",
       "      <td>0.0</td>\n",
       "      <td>71.0</td>\n",
       "      <td>4428</td>\n",
       "      <td>1063.mobi</td>\n",
       "    </tr>\n",
       "    <tr>\n",
       "      <th>http://USFREEDOMARMY.COM</th>\n",
       "      <td>3662.0</td>\n",
       "      <td>0.0</td>\n",
       "      <td>0.0</td>\n",
       "      <td>3662</td>\n",
       "      <td>USFREEDOMARMY.COM</td>\n",
       "    </tr>\n",
       "    <tr>\n",
       "      <th>http://bit.ly/1D3LvAc</th>\n",
       "      <td>2369.0</td>\n",
       "      <td>0.0</td>\n",
       "      <td>0.0</td>\n",
       "      <td>2369</td>\n",
       "      <td>bit.ly</td>\n",
       "    </tr>\n",
       "    <tr>\n",
       "      <th>http://Covfefe.bz</th>\n",
       "      <td>2035.0</td>\n",
       "      <td>0.0</td>\n",
       "      <td>19.0</td>\n",
       "      <td>2054</td>\n",
       "      <td>Covfefe.bz</td>\n",
       "    </tr>\n",
       "    <tr>\n",
       "      <th>https://twibble.io</th>\n",
       "      <td>1719.0</td>\n",
       "      <td>136.0</td>\n",
       "      <td>34.0</td>\n",
       "      <td>1889</td>\n",
       "      <td>twibble.io</td>\n",
       "    </tr>\n",
       "    <tr>\n",
       "      <th>http://www.theunder.us</th>\n",
       "      <td>1255.0</td>\n",
       "      <td>0.0</td>\n",
       "      <td>62.0</td>\n",
       "      <td>1317</td>\n",
       "      <td>www.theunder.us</td>\n",
       "    </tr>\n",
       "    <tr>\n",
       "      <th>http://payday-loans-24.com/</th>\n",
       "      <td>1203.0</td>\n",
       "      <td>0.0</td>\n",
       "      <td>0.0</td>\n",
       "      <td>1203</td>\n",
       "      <td>payday-loans-24.com</td>\n",
       "    </tr>\n",
       "    <tr>\n",
       "      <th>http://rdo.to/WKMTDB</th>\n",
       "      <td>835.0</td>\n",
       "      <td>0.0</td>\n",
       "      <td>298.0</td>\n",
       "      <td>1133</td>\n",
       "      <td>rdo.to</td>\n",
       "    </tr>\n",
       "    <tr>\n",
       "      <th>http://ireport.cnn.com/docs/DOC-1201697</th>\n",
       "      <td>799.0</td>\n",
       "      <td>0.0</td>\n",
       "      <td>5.0</td>\n",
       "      <td>804</td>\n",
       "      <td>ireport.cnn.com</td>\n",
       "    </tr>\n",
       "    <tr>\n",
       "      <th>http://StopBeefinRadio.com</th>\n",
       "      <td>730.0</td>\n",
       "      <td>0.0</td>\n",
       "      <td>54.0</td>\n",
       "      <td>784</td>\n",
       "      <td>StopBeefinRadio.com</td>\n",
       "    </tr>\n",
       "  </tbody>\n",
       "</table>\n",
       "</div>"
      ],
      "text/plain": [
       "                                         count_en  count_ru  count_other  \\\n",
       "url                                                                        \n",
       "http://1063.mobi                           4357.0       0.0         71.0   \n",
       "http://USFREEDOMARMY.COM                   3662.0       0.0          0.0   \n",
       "http://bit.ly/1D3LvAc                      2369.0       0.0          0.0   \n",
       "http://Covfefe.bz                          2035.0       0.0         19.0   \n",
       "https://twibble.io                         1719.0     136.0         34.0   \n",
       "http://www.theunder.us                     1255.0       0.0         62.0   \n",
       "http://payday-loans-24.com/                1203.0       0.0          0.0   \n",
       "http://rdo.to/WKMTDB                        835.0       0.0        298.0   \n",
       "http://ireport.cnn.com/docs/DOC-1201697     799.0       0.0          5.0   \n",
       "http://StopBeefinRadio.com                  730.0       0.0         54.0   \n",
       "\n",
       "                                         count               domain  \n",
       "url                                                                  \n",
       "http://1063.mobi                          4428            1063.mobi  \n",
       "http://USFREEDOMARMY.COM                  3662    USFREEDOMARMY.COM  \n",
       "http://bit.ly/1D3LvAc                     2369               bit.ly  \n",
       "http://Covfefe.bz                         2054           Covfefe.bz  \n",
       "https://twibble.io                        1889           twibble.io  \n",
       "http://www.theunder.us                    1317      www.theunder.us  \n",
       "http://payday-loans-24.com/               1203  payday-loans-24.com  \n",
       "http://rdo.to/WKMTDB                      1133               rdo.to  \n",
       "http://ireport.cnn.com/docs/DOC-1201697    804      ireport.cnn.com  \n",
       "http://StopBeefinRadio.com                 784  StopBeefinRadio.com  "
      ]
     },
     "execution_count": 105,
     "metadata": {},
     "output_type": "execute_result"
    }
   ],
   "source": [
    "all_urls_pd.sort_values('count_en', inplace=False, ascending=False).head(10)"
   ]
  },
  {
   "cell_type": "markdown",
   "metadata": {},
   "source": [
    "From the statistics obtained thanks to *describe*, we can see that the vast majority of urls only appear once. But some of them seem strangely popular. Those are mostly domain names, and not specific pages. In the top 10 for the most popular urls in English tweet we find:\n",
    "\n",
    "* **http://USFREEDOMARMY.COM**, **http://Covfefe.bz**, **https://www.telegraph.co.uk**: those three are linked to American politics. The first one is a right-wing fake news website. The second one gets its name from a famous Trump tweet. The last one is a British newspaper which has a notable conservative stance and  which has been [accused of spreading pro-Russian propaganda](https://en.wikipedia.org/wiki/The_Daily_Telegraph#Accusation_of_news_coverage_influence_by_advertisers).\n",
    "(**NB**: *http://bit.ly/1D3LvAc* is a shortened url for *https://www.telegraph.co.uk*.)\n",
    "\n",
    "* Several (supposedly) Ukrainian articles written in Russian.\n",
    "\n",
    "* **https://twibble.io**: a social media manager.\n",
    "\n",
    "* **http://1063.mobi**, **http://www.theunder.us**: two indie web radios.\n",
    "\n",
    "We were intrigued by *http://1063.mobi* and its particularly high count, so we decided to investigate further. The url redirects to *http://1063atl.com*, an Atlanta based indie web radio. As this is not exactly the same url, we wanted to make sure that *1063atl.com* is effectively the new name of *1063.mobi*, and not something completely different.\n",
    "\n",
    "Using the [Wayback Machine](http://web.archive.org), we are able to take a look at the website before the redirection existed. [This](http://web.archive.org/web/20180110013854/http://1063.mobi:80/) shows us that the page was indeed very similar to the current *http://1063atl.com*.\n",
    "\n",
    "We are also interested in knowing the context in which this url was used."
   ]
  },
  {
   "cell_type": "code",
   "execution_count": 107,
   "metadata": {},
   "outputs": [],
   "source": [
    "urls_1063mobi_df = spark.sql(\"SELECT tweetid, urls FROM urls_sql WHERE urls LIKE '%http://1063.mobi%'\")\n",
    "tweets_text_df.createOrReplaceTempView(\"tweets_text_sql\")\n",
    "text_1063mobi_df = spark.sql(\"SELECT tweet_text FROM tweets_text_sql T, urls_sql U WHERE urls LIKE '%http://1063.mobi%' AND T.tweetid=U.tweetid\")"
   ]
  },
  {
   "cell_type": "code",
   "execution_count": 108,
   "metadata": {},
   "outputs": [
    {
     "name": "stdout",
     "output_type": "stream",
     "text": [
      "RT @IndieRadioPlay: Now Playing: ManMan Savage - Psycho  Ft. Lil Uzi Vert -&gt; https://t.co/eMX9JgTv3v\n",
      "RT @IndieRadioPlay: Now Playing: RickStarr (@SlickRickstarr) - Hit Me Up Feat Doe B -&gt; https://t.co/eMX9JgTv3v\n",
      "RT @IndieRadioPlay: Now Playing: RickStarr (@SlickRickstarr) - I Got That -&gt; https://t.co/eMX9JgTv3v\n",
      "RT @IndieRadioPlay: Now Playing: 1063 Drop (Atlanta, GA) - Beat After Beat -&gt; https://t.co/eMX9JgTv3v\n",
      "RT @IndieRadioPlay: Now Playing: Shadetree K-Dee ft RickStarr - Satellite Pimpn  (@shadetreekdee) -&gt; https://t.co/eMX9JgTv3v\n",
      "RT @1063atl: Now Playing: Shadetree K-Dee (@shadetreekdee) ft RickStarr - Satellite Pimpn -&gt; https://t.co/eMX9JgTv3v\n",
      "RT @1063atl: Now Playing: Gucci Mane - Die A Gangsta Ft. Future -&gt; https://t.co/eMX9JgTv3v\n",
      "RT @1063atl: Now Playing: Adam Swoosh (@adamswoosh01) - Immortal ft. Roam Bad Daddy -&gt; https://t.co/eMX9JgTv3v\n",
      "RT @1063atl: Now Playing: Famous Dex - Jump -&gt; https://t.co/eMX9JgTv3v\n",
      "RT @1063atl: Now Playing: 106.3 Mobile Radio (Atlanta, GA) - Get Em Boo -&gt; https://t.co/eMX9JgTv3v\n"
     ]
    }
   ],
   "source": [
    "for x in (text_1063mobi_df.select('tweet_text').toPandas())['tweet_text'][10:20]:\n",
    "    print(x)"
   ]
  },
  {
   "cell_type": "markdown",
   "metadata": {},
   "source": [
    "All those tweets seem mostly inoffensive, although they could be considered as spam. But they are all directed towards two Twitter handles: **@IndieRadioPlay** and **@1063atl**.\n",
    "A quick look on Twitter shows us that **@IndieRadioPlay** does not exist anymore. Once again, with the Wayback Machine, we can get an idea of [what the page looked like](http://web.archive.org/web/20150822213646/https://twitter.com/indieradioplay). \n",
    "\n",
    "This account has the same banner and the same creation date as the [current Twitter page](https://twitter.com/1063atl?lang=fr) *@1063atl*. We can thus suppose that they are the same.\n",
    "\n",
    "It is interesting to see that the most used url does not seem to be related to politics at all. Further investigations are necessary to understand why: is it an attempt to look like a normal user and/or to boost a troll account's statistics/popularity? Is there a reason for this radio to be targetted by the trolls or are they completely unrelated (outside of those tweets)?"
   ]
  },
  {
   "cell_type": "markdown",
   "metadata": {},
   "source": [
    "#### Popular domains\n",
    "After looking at specific urls, we observe the most popular domain names, and compare their popularities with respect to the language of the tweets."
   ]
  },
  {
   "cell_type": "code",
   "execution_count": 90,
   "metadata": {},
   "outputs": [],
   "source": [
    "domains = []\n",
    "for index, row in all_urls_pd.iterrows():\n",
    "    domains.append(urlparse(index).netloc)\n",
    "all_urls_pd['domain'] = domains\n",
    "all_domains_df = spark.createDataFrame(all_urls_pd)"
   ]
  },
  {
   "cell_type": "code",
   "execution_count": 91,
   "metadata": {},
   "outputs": [],
   "source": [
    "all_domains_df.createOrReplaceTempView(\"all_domains_sql\")\n",
    "all_domains_count_df = spark.sql(\"SELECT domain, SUM(count_en) AS count_en, SUM(count_ru) AS count_ru, SUM(count_other) AS count_other, SUM(count) AS count FROM all_domains_sql GROUP BY domain ORDER BY count DESC\")"
   ]
  },
  {
   "cell_type": "code",
   "execution_count": 98,
   "metadata": {},
   "outputs": [
    {
     "name": "stdout",
     "output_type": "stream",
     "text": [
      "(34941, 5)\n"
     ]
    },
    {
     "data": {
      "text/html": [
       "<div>\n",
       "<style scoped>\n",
       "    .dataframe tbody tr th:only-of-type {\n",
       "        vertical-align: middle;\n",
       "    }\n",
       "\n",
       "    .dataframe tbody tr th {\n",
       "        vertical-align: top;\n",
       "    }\n",
       "\n",
       "    .dataframe thead th {\n",
       "        text-align: right;\n",
       "    }\n",
       "</style>\n",
       "<table border=\"1\" class=\"dataframe\">\n",
       "  <thead>\n",
       "    <tr style=\"text-align: right;\">\n",
       "      <th></th>\n",
       "      <th>domain</th>\n",
       "      <th>count_en</th>\n",
       "      <th>count_ru</th>\n",
       "      <th>count_other</th>\n",
       "      <th>count</th>\n",
       "    </tr>\n",
       "  </thead>\n",
       "  <tbody>\n",
       "    <tr>\n",
       "      <th>0</th>\n",
       "      <td>bit.ly</td>\n",
       "      <td>109653</td>\n",
       "      <td>769083</td>\n",
       "      <td>96292</td>\n",
       "      <td>975028</td>\n",
       "    </tr>\n",
       "    <tr>\n",
       "      <th>1</th>\n",
       "      <td>riafan.ru</td>\n",
       "      <td>1</td>\n",
       "      <td>417754</td>\n",
       "      <td>11039</td>\n",
       "      <td>428794</td>\n",
       "    </tr>\n",
       "    <tr>\n",
       "      <th>2</th>\n",
       "      <td>twitter.com</td>\n",
       "      <td>155148</td>\n",
       "      <td>24408</td>\n",
       "      <td>46295</td>\n",
       "      <td>225851</td>\n",
       "    </tr>\n",
       "    <tr>\n",
       "      <th>3</th>\n",
       "      <td>ift.tt</td>\n",
       "      <td>114741</td>\n",
       "      <td>51692</td>\n",
       "      <td>2461</td>\n",
       "      <td>168894</td>\n",
       "    </tr>\n",
       "    <tr>\n",
       "      <th>4</th>\n",
       "      <td>goo.gl</td>\n",
       "      <td>29862</td>\n",
       "      <td>114791</td>\n",
       "      <td>11641</td>\n",
       "      <td>156294</td>\n",
       "    </tr>\n",
       "    <tr>\n",
       "      <th>5</th>\n",
       "      <td>dlvr.it</td>\n",
       "      <td>7413</td>\n",
       "      <td>130694</td>\n",
       "      <td>3580</td>\n",
       "      <td>141687</td>\n",
       "    </tr>\n",
       "    <tr>\n",
       "      <th>6</th>\n",
       "      <td>www.gazeta.ru</td>\n",
       "      <td>8</td>\n",
       "      <td>119564</td>\n",
       "      <td>3460</td>\n",
       "      <td>123032</td>\n",
       "    </tr>\n",
       "    <tr>\n",
       "      <th>7</th>\n",
       "      <td>j.mp</td>\n",
       "      <td>1533</td>\n",
       "      <td>94125</td>\n",
       "      <td>9887</td>\n",
       "      <td>105545</td>\n",
       "    </tr>\n",
       "    <tr>\n",
       "      <th>8</th>\n",
       "      <td>russian.rt.com</td>\n",
       "      <td>0</td>\n",
       "      <td>72015</td>\n",
       "      <td>1054</td>\n",
       "      <td>73069</td>\n",
       "    </tr>\n",
       "    <tr>\n",
       "      <th>9</th>\n",
       "      <td>youtu.be</td>\n",
       "      <td>28293</td>\n",
       "      <td>27618</td>\n",
       "      <td>5224</td>\n",
       "      <td>61135</td>\n",
       "    </tr>\n",
       "    <tr>\n",
       "      <th>10</th>\n",
       "      <td>nevnov.ru</td>\n",
       "      <td>0</td>\n",
       "      <td>49560</td>\n",
       "      <td>772</td>\n",
       "      <td>50332</td>\n",
       "    </tr>\n",
       "    <tr>\n",
       "      <th>11</th>\n",
       "      <td>vesti.ru</td>\n",
       "      <td>2</td>\n",
       "      <td>44963</td>\n",
       "      <td>1118</td>\n",
       "      <td>46083</td>\n",
       "    </tr>\n",
       "    <tr>\n",
       "      <th>12</th>\n",
       "      <td>kiev-news.com</td>\n",
       "      <td>6</td>\n",
       "      <td>43127</td>\n",
       "      <td>1450</td>\n",
       "      <td>44583</td>\n",
       "    </tr>\n",
       "    <tr>\n",
       "      <th>13</th>\n",
       "      <td>www.youtube.com</td>\n",
       "      <td>23286</td>\n",
       "      <td>15897</td>\n",
       "      <td>4629</td>\n",
       "      <td>43812</td>\n",
       "    </tr>\n",
       "    <tr>\n",
       "      <th>14</th>\n",
       "      <td>kievsmi.net</td>\n",
       "      <td>0</td>\n",
       "      <td>40564</td>\n",
       "      <td>1985</td>\n",
       "      <td>42549</td>\n",
       "    </tr>\n",
       "    <tr>\n",
       "      <th>15</th>\n",
       "      <td>inforeactor.ru</td>\n",
       "      <td>0</td>\n",
       "      <td>38438</td>\n",
       "      <td>842</td>\n",
       "      <td>39280</td>\n",
       "    </tr>\n",
       "    <tr>\n",
       "      <th>16</th>\n",
       "      <td>ria.ru</td>\n",
       "      <td>7</td>\n",
       "      <td>37825</td>\n",
       "      <td>915</td>\n",
       "      <td>38747</td>\n",
       "    </tr>\n",
       "    <tr>\n",
       "      <th>17</th>\n",
       "      <td>emaidan.com.ua</td>\n",
       "      <td>0</td>\n",
       "      <td>27215</td>\n",
       "      <td>1866</td>\n",
       "      <td>29081</td>\n",
       "    </tr>\n",
       "    <tr>\n",
       "      <th>18</th>\n",
       "      <td>tass.ru</td>\n",
       "      <td>23</td>\n",
       "      <td>28290</td>\n",
       "      <td>435</td>\n",
       "      <td>28748</td>\n",
       "    </tr>\n",
       "    <tr>\n",
       "      <th>19</th>\n",
       "      <td>vk.com</td>\n",
       "      <td>24</td>\n",
       "      <td>26819</td>\n",
       "      <td>1334</td>\n",
       "      <td>28177</td>\n",
       "    </tr>\n",
       "  </tbody>\n",
       "</table>\n",
       "</div>"
      ],
      "text/plain": [
       "             domain  count_en  count_ru  count_other   count\n",
       "0            bit.ly    109653    769083        96292  975028\n",
       "1         riafan.ru         1    417754        11039  428794\n",
       "2       twitter.com    155148     24408        46295  225851\n",
       "3            ift.tt    114741     51692         2461  168894\n",
       "4            goo.gl     29862    114791        11641  156294\n",
       "5           dlvr.it      7413    130694         3580  141687\n",
       "6     www.gazeta.ru         8    119564         3460  123032\n",
       "7              j.mp      1533     94125         9887  105545\n",
       "8    russian.rt.com         0     72015         1054   73069\n",
       "9          youtu.be     28293     27618         5224   61135\n",
       "10        nevnov.ru         0     49560          772   50332\n",
       "11         vesti.ru         2     44963         1118   46083\n",
       "12    kiev-news.com         6     43127         1450   44583\n",
       "13  www.youtube.com     23286     15897         4629   43812\n",
       "14      kievsmi.net         0     40564         1985   42549\n",
       "15   inforeactor.ru         0     38438          842   39280\n",
       "16           ria.ru         7     37825          915   38747\n",
       "17   emaidan.com.ua         0     27215         1866   29081\n",
       "18          tass.ru        23     28290          435   28748\n",
       "19           vk.com        24     26819         1334   28177"
      ]
     },
     "execution_count": 98,
     "metadata": {},
     "output_type": "execute_result"
    }
   ],
   "source": [
    "all_domains_pd = all_domains_count_df.toPandas()\n",
    "print(all_domains_pd.shape)\n",
    "all_domains_pd['count_en'] = all_domains_pd['count_en'].astype(int)\n",
    "all_domains_pd['count_ru'] = all_domains_pd['count_ru'].astype(int)\n",
    "all_domains_pd['count_other'] = all_domains_pd['count_other'].astype(int)\n",
    "all_domains_pd.head(20)"
   ]
  },
  {
   "cell_type": "markdown",
   "metadata": {},
   "source": [
    "As expected, there are much less unique domain names than urls. Again, most of them are used only once or twice. But some of them have a count that contrasts with the rest.\n",
    "\n",
    "In the top 10 for English tweets, we have:\n",
    "* **bit.ly**, **goo.gl**, **j.mp**: url shorteners, which are very practical for tweets since the number of characters is limited. Sadly, they do not teach us anything about their content: to know more about that, we need to open them and see where they redirect.\n",
    "* **rufian.ru**, **gazeta.ru**, **russian.rt.com**: Russian news websites.\n",
    "* **ift.tt**, **dlvr.it**: social media management systems.\n",
    "* **youtu.be**: shorter url for Youtube.\n",
    "* **twitter.com**: many urls on Twitter refer to the website itself. The shortener **t.co** is also very popular."
   ]
  },
  {
   "cell_type": "markdown",
   "metadata": {},
   "source": [
    "We now have all the data necessary to plot graphs and analyze the frequency of urls and domains in the troll tweets."
   ]
  }
 ],
 "metadata": {
  "kernelspec": {
   "display_name": "Python [default]",
   "language": "python",
   "name": "python3"
  },
  "language_info": {
   "codemirror_mode": {
    "name": "ipython",
    "version": 3
   },
   "file_extension": ".py",
   "mimetype": "text/x-python",
   "name": "python",
   "nbconvert_exporter": "python",
   "pygments_lexer": "ipython3",
   "version": "3.6.5"
  }
 },
 "nbformat": 4,
 "nbformat_minor": 2
}
