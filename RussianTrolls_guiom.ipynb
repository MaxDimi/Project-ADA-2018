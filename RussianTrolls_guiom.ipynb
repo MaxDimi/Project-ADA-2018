{
 "cells": [
  {
   "cell_type": "markdown",
   "metadata": {},
   "source": [
    "# Project -- Analysing IRA tweets --"
   ]
  },
  {
   "cell_type": "code",
   "execution_count": 1,
   "metadata": {},
   "outputs": [],
   "source": [
    "import warnings # comment if you want to get the warnings from Searborn... \n",
    "warnings.filterwarnings(\"ignore\")\n",
    "\n",
    "import pandas as pd\n",
    "import numpy as np\n",
    "import scipy as sp\n",
    "import seaborn as sns\n",
    "import re\n",
    "import string\n",
    "import datetime\n",
    "import matplotlib.pyplot as plt\n",
    "import findspark\n",
    "\n",
    "import findspark\n",
    "findspark.init()\n",
    "\n",
    "from pyspark import SparkContext\n",
    "\n",
    "from pyspark.sql import *\n",
    "from pyspark.sql.functions import *\n",
    "from pyspark.sql.types import StringType,BooleanType\n",
    "from pyspark.mllib.stat import Statistics\n",
    "from pyspark.sql.functions import explode\n",
    "from pyspark.sql.functions import col, when, length\n",
    "\n",
    "%matplotlib inline\n",
    "\n",
    "spark = SparkSession.builder.getOrCreate()"
   ]
  },
  {
   "cell_type": "code",
   "execution_count": 2,
   "metadata": {},
   "outputs": [],
   "source": [
    "# set up data directory\n",
    "DATA_DIR = 'data/'"
   ]
  },
  {
   "cell_type": "markdown",
   "metadata": {},
   "source": [
    "There are two main parts in this *Jupyter Notebook* :\n",
    "\n",
    "* 1) **GETTING TO KNOW OUR MAIN DATASETS**. We intend to understand what contain our datasets (features and their dtypes) and to clean them in order to be ready for interpretation. We also may want to split or create new sub-datasets if there are interesting opportunities to do so.\n",
    "\n",
    "\n",
    "* 2) **CONCRETE ANALYSIS**.  We summarized the most important findings since the beginning of the project in a data story like notebook. "
   ]
  },
  {
   "cell_type": "markdown",
   "metadata": {},
   "source": [
    "## 1. GETTING TO KNOW OUR MAIN DATASETS"
   ]
  },
  {
   "cell_type": "markdown",
   "metadata": {},
   "source": [
    "### loading the data"
   ]
  },
  {
   "cell_type": "code",
   "execution_count": 3,
   "metadata": {},
   "outputs": [],
   "source": [
    "# taking IRAN tweets into account or not \n",
    "include_iran = False"
   ]
  },
  {
   "cell_type": "code",
   "execution_count": 4,
   "metadata": {},
   "outputs": [],
   "source": [
    "# load datasets thanks to Spark CSV reader \n",
    "\n",
    "if include_iran:\n",
    "    \n",
    "    # combine both RUS and IRAN datasets\n",
    "    include_description = 'RUS & IRAN'\n",
    "    \n",
    "    tweets_text_df = spark.read.format(\"csv\").option(\"header\", \"true\").load(DATA_DIR+'*_troll_tweet_text.csv')\n",
    "    tweets_stats_df = spark.read.format(\"csv\").option(\"header\", \"true\").load(DATA_DIR+'*_troll_tweet_stats.csv')\n",
    "    tweets_meta_df = spark.read.format(\"csv\").option(\"header\", \"true\").load(DATA_DIR+'*_troll_tweet_metadata.csv')\n",
    "    tweets_user_df = spark.read.format(\"csv\").option(\"header\", \"true\").load(DATA_DIR+'*_troll_user.csv')\n",
    "\n",
    "else:\n",
    "    \n",
    "    # take only RUS datasets\n",
    "    include_description = 'RUS'\n",
    "    \n",
    "    tweets_text_df = spark.read.format(\"csv\").option(\"header\", \"true\").load(DATA_DIR+'rus_troll_tweet_text.csv')\n",
    "    tweets_stats_df = spark.read.format(\"csv\").option(\"header\", \"true\").load(DATA_DIR+'rus_troll_tweet_stats.csv')\n",
    "    tweets_meta_df = spark.read.format(\"csv\").option(\"header\", \"true\").load(DATA_DIR+'rus_troll_tweet_metadata.csv')\n",
    "    tweets_user_df = spark.read.format(\"csv\").option(\"header\", \"true\").load(DATA_DIR+'rus_troll_user.csv')"
   ]
  },
  {
   "cell_type": "code",
   "execution_count": 5,
   "metadata": {},
   "outputs": [
    {
     "name": "stdout",
     "output_type": "stream",
     "text": [
      " Sizes of the datasets : (RUS)\n",
      " --------------------------------------------------------\n",
      "size of troll_tweet_text : (9041308, 3)\n",
      "size of troll_tweet_stats : (9041308, 17)\n",
      "size of troll_tweet_metadata : (9041308, 6)\n",
      "size of troll_user : (3667, 11)\n"
     ]
    }
   ],
   "source": [
    "# look at the raw global datasets' sizes \n",
    "\n",
    "# n : number of observations\n",
    "n_text = tweets_text_df.count()\n",
    "n_stats = tweets_stats_df.count()\n",
    "n_metadata = tweets_meta_df.count()\n",
    "n_users = tweets_user_df.count()\n",
    "\n",
    "# d : dimensionality of the data \n",
    "d_text = len(tweets_text_df.columns)\n",
    "d_stats = len(tweets_stats_df.columns)\n",
    "d_metadata = len(tweets_meta_df.columns)\n",
    "d_users =  len(tweets_user_df.columns)\n",
    "\n",
    "# print the results \n",
    "print(' Sizes of the datasets : ('+include_description+')')\n",
    "print(' --------------------------------------------------------')\n",
    "print('size of troll_tweet_text : '+str((n_text,d_text)))\n",
    "print('size of troll_tweet_stats : '+str((n_stats,d_stats)))\n",
    "print('size of troll_tweet_metadata : '+str((n_metadata,d_metadata)))\n",
    "print('size of troll_user : '+str((n_users,d_users)))"
   ]
  },
  {
   "cell_type": "markdown",
   "metadata": {},
   "source": [
    "Roughly more than 9M tweets are available from RUS datasets (10M when combining both RUS AND IRAN). If after the cleaning there remains such a large number of data points, it's most likely that our statistical tests will present some significance if there are really underlying correlations, differences ... etc. \n",
    "\n",
    "We can assume, since the number of records for each dataframe is the same and because of the '*a priori*' description of the data, that the rows are ordered in such a way that every tuple of index $i$ in '*troll_tweet_text*' corresponds to the observations at index $i$ for '*troll_tweet_stats*' and '*troll_tweet_metadata*'. "
   ]
  },
  {
   "cell_type": "markdown",
   "metadata": {},
   "source": [
    "### tweets_text"
   ]
  },
  {
   "cell_type": "code",
   "execution_count": 6,
   "metadata": {},
   "outputs": [
    {
     "name": "stdout",
     "output_type": "stream",
     "text": [
      "(9041308, 3)\n"
     ]
    },
    {
     "data": {
      "text/plain": [
       "[('tweetid', 'string'), ('tweet_language', 'string'), ('tweet_text', 'string')]"
      ]
     },
     "execution_count": 6,
     "metadata": {},
     "output_type": "execute_result"
    }
   ],
   "source": [
    "# what does tweets_text look like ? size, dtypes\n",
    "print((n_text,d_text))\n",
    "tweets_text_df.dtypes"
   ]
  },
  {
   "cell_type": "code",
   "execution_count": 7,
   "metadata": {},
   "outputs": [
    {
     "name": "stdout",
     "output_type": "stream",
     "text": [
      "+------------------+--------------+--------------------+\n",
      "|           tweetid|tweet_language|          tweet_text|\n",
      "+------------------+--------------+--------------------+\n",
      "|877919995476496385|            ru|\"RT @ruopentwit: ...|\n",
      "|492388766930444288|            ru|Серебром отколоко...|\n",
      "|719455077589721089|            bg|@kpru С-300 в Ира...|\n",
      "|536179342423105537|            ru|Предлагаю судить ...|\n",
      "|841410788409630720|            bg|Предостережение а...|\n",
      "|834365760776630272|            ru|Двойная утопия, и...|\n",
      "|577490527299457024|            ru|RT @harkovnews: Н...|\n",
      "|596522755379560448|            ru|RT @NovostiNsk: «...|\n",
      "|567357519547207680|            en|As sun and cloud ...|\n",
      "|665533117369876480|            ru|RT @vesti_news: Ш...|\n",
      "+------------------+--------------+--------------------+\n",
      "only showing top 10 rows\n",
      "\n"
     ]
    }
   ],
   "source": [
    "# a quick view\n",
    "tweets_text_df.show(10)"
   ]
  },
  {
   "cell_type": "markdown",
   "metadata": {},
   "source": [
    "***Is there anything to clean at this stage (before playing/dealing with the data) ?*** \n",
    "\n",
    "Below are listed the interventions we needed to perform in order to clean the data :      "
   ]
  },
  {
   "cell_type": "markdown",
   "metadata": {},
   "source": [
    "Unknown *tweet_language* can take both the value 'und', or null. We harmonize this column by setting all NaN to 'und'."
   ]
  },
  {
   "cell_type": "code",
   "execution_count": 8,
   "metadata": {},
   "outputs": [],
   "source": [
    "tweets_text_df = tweets_text_df.fillna('und',['tweet_language'])"
   ]
  },
  {
   "cell_type": "markdown",
   "metadata": {},
   "source": [
    "### tweets_stats"
   ]
  },
  {
   "cell_type": "code",
   "execution_count": 9,
   "metadata": {},
   "outputs": [
    {
     "name": "stdout",
     "output_type": "stream",
     "text": [
      "(9041308, 17)\n"
     ]
    },
    {
     "data": {
      "text/plain": [
       "[('tweetid', 'string'),\n",
       " ('userid', 'string'),\n",
       " ('tweet_time', 'string'),\n",
       " ('in_reply_to_tweetid', 'string'),\n",
       " ('in_reply_to_userid', 'string'),\n",
       " ('quoted_tweet_tweetid', 'string'),\n",
       " ('is_retweet', 'string'),\n",
       " ('retweet_userid', 'string'),\n",
       " ('retweet_tweetid', 'string'),\n",
       " ('quote_count', 'string'),\n",
       " ('reply_count', 'string'),\n",
       " ('like_count', 'string'),\n",
       " ('retweet_count', 'string'),\n",
       " ('hashtags', 'string'),\n",
       " ('urls', 'string'),\n",
       " ('user_mentions', 'string'),\n",
       " ('poll_choices', 'string')]"
      ]
     },
     "execution_count": 9,
     "metadata": {},
     "output_type": "execute_result"
    }
   ],
   "source": [
    "# what does tweets_stats look like ? size, dtypes\n",
    "print((n_stats,d_stats))\n",
    "tweets_stats_df.dtypes"
   ]
  },
  {
   "cell_type": "code",
   "execution_count": 10,
   "metadata": {},
   "outputs": [],
   "source": [
    "# (a view is not adapted in the current context)\n",
    "# tweets_stats_df.show(10)"
   ]
  },
  {
   "cell_type": "markdown",
   "metadata": {},
   "source": [
    "***Is there anything to clean at this stage (before playing/dealing with the data) ?*** \n",
    "\n",
    "Below are listed the interventions we needed to perform in order to clean the data :      "
   ]
  },
  {
   "cell_type": "markdown",
   "metadata": {},
   "source": [
    "We first convert the *tweet_time* into Datetime for ease of use, and we cast some columns into integers. We also create a static sql view of the main dataframe on which we can apply our SQL queries."
   ]
  },
  {
   "cell_type": "code",
   "execution_count": 11,
   "metadata": {},
   "outputs": [],
   "source": [
    "# dtypes transformations : \n",
    "tweets_stats_df = tweets_stats_df.withColumn('tweet_time', to_timestamp(tweets_stats_df.tweet_time))\n",
    "tweets_stats_df = tweets_stats_df.withColumn('quote_count', tweets_stats_df.quote_count.cast('int'))\n",
    "tweets_stats_df = tweets_stats_df.withColumn('reply_count', tweets_stats_df.reply_count.cast('int'))\n",
    "tweets_stats_df = tweets_stats_df.withColumn('like_count', tweets_stats_df.like_count.cast('int'))\n",
    "tweets_stats_df = tweets_stats_df.withColumn('retweet_count', tweets_stats_df.retweet_count.cast('int'))\n",
    "\n",
    "# create a temporary Spark SQL view\n",
    "tweets_stats_df.createOrReplaceTempView(\"tweets_stats_sql\")"
   ]
  },
  {
   "cell_type": "markdown",
   "metadata": {},
   "source": [
    "Now we can start splitting the data into smaller dataframes and remove the useless columns for each of those:\n",
    "* **retweets_df** contains all the posts that are retweets.\n",
    "* **replies_df** contains all the posts that are replies to other tweets.\n",
    "* **normal_tweets_df** contains all the other ('normal') posts.\n",
    "\n",
    "**NB:** some tweets have a value for *in_reply_to_userid* while their *in_reply_to_tweetid* is null (however the inverse never happens). Those are either replies to deleted tweets, or mentions of other users that were treated as replies. We decided to consider them as normal tweets."
   ]
  },
  {
   "cell_type": "code",
   "execution_count": 12,
   "metadata": {},
   "outputs": [
    {
     "name": "stdout",
     "output_type": "stream",
     "text": [
      " Size of the sub-dataset : (RUS)\n",
      " --------------------------------------------------------\n",
      "size of retweets : (3333184, 9)\n"
     ]
    }
   ],
   "source": [
    "# RETWEETS\n",
    "retweets_df = spark.sql(\"SELECT * FROM tweets_stats_sql WHERE is_retweet=True\")\n",
    "\n",
    "# to understand how we selected the columns to remove, uncomment the next two lines\n",
    "# => unique values for the whole column (either null, True , 0 ...)\n",
    "#for col in retweets_df:\n",
    "    #retweets_df.select(col).distinct().show(10)\n",
    "\n",
    "# drop certain features\n",
    "retweets_df = retweets_df.drop('in_reply_to_tweetid', 'in_reply_to_userid', 'is_retweet',\\\n",
    "                               'quote_count', 'reply_count', 'like_count', 'retweet_count',\\\n",
    "                               'poll_choices')\n",
    "\n",
    "# record the size of the created sub-dataset\n",
    "n_retweets = retweets_df.count()\n",
    "d_retweets = len(retweets_df.columns)\n",
    "\n",
    "# print the results\n",
    "print(' Size of the sub-dataset : ('+include_description+')')\n",
    "print(' --------------------------------------------------------')\n",
    "print('size of retweets : '+str((n_retweets,d_retweets)))\n"
   ]
  },
  {
   "cell_type": "code",
   "execution_count": 14,
   "metadata": {},
   "outputs": [
    {
     "name": "stdout",
     "output_type": "stream",
     "text": [
      " Size of the sub-dataset : (RUS)\n",
      " --------------------------------------------------------\n",
      "size of replies : (266208, 14)\n"
     ]
    }
   ],
   "source": [
    "# REPLIES\n",
    "replies_df = spark.sql(\"SELECT * FROM tweets_stats_sql WHERE is_retweet=False AND in_reply_to_tweetid IS NOT NULL\")\n",
    "\n",
    "# to understand how we selected the columns to remove, uncomment the next two lines\n",
    "# => unique values for the whole column (either null, True , 0 ...)\n",
    "#for col in replies_df:\n",
    "    #replies_df.select(col).distinct().show(10)\n",
    "\n",
    "# record the size of the created sub-dataset\n",
    "replies_df = replies_df.drop('retweet_tweetid', 'retweet_userid', 'is_retweet')\n",
    "\n",
    "# record the size of the created sub-dataset\n",
    "n_replies = replies_df.count()\n",
    "d_replies = len(replies_df.columns)\n",
    "\n",
    "# print the results\n",
    "print(' Size of the sub-dataset : ('+include_description+')')\n",
    "print(' --------------------------------------------------------')\n",
    "print('size of replies : '+str((n_replies,d_replies)))"
   ]
  },
  {
   "cell_type": "code",
   "execution_count": 15,
   "metadata": {},
   "outputs": [
    {
     "name": "stdout",
     "output_type": "stream",
     "text": [
      " Size of the sub-dataset : (RUS)\n",
      " --------------------------------------------------------\n",
      "size of normal tweets : (5441916, 13)\n"
     ]
    }
   ],
   "source": [
    "# NORMAL\n",
    "normal_tweets_df = spark.sql(\"SELECT * FROM tweets_stats_sql WHERE is_retweet=False AND in_reply_to_tweetid IS NULL\")\n",
    "\n",
    "# to understand how we selected the columns to remove, uncomment the next two lines\n",
    "# => unique values for the whole column (either null, True , 0 ...)\n",
    "#for col in normal_tweets_df:\n",
    "    #normal_tweets_df.select(col).distinct().show(10)\n",
    "    \n",
    "# record the size of the created sub-dataset\n",
    "normal_tweets_df = normal_tweets_df.drop('in_reply_to_tweetid', 'retweet_tweetid', 'retweet_userid', 'is_retweet')\n",
    "\n",
    "# record the size of the created sub-dataset\n",
    "n_normal = normal_tweets_df.count()\n",
    "d_normal = len(normal_tweets_df.columns)\n",
    "\n",
    "# print the results\n",
    "print(' Size of the sub-dataset : ('+include_description+')')\n",
    "print(' --------------------------------------------------------')\n",
    "print('size of normal tweets : '+str((n_normal,d_normal)))"
   ]
  },
  {
   "cell_type": "markdown",
   "metadata": {},
   "source": [
    "We verify that the number of rows correspond and that we did not duplicate or remove any by accident."
   ]
  },
  {
   "cell_type": "code",
   "execution_count": 16,
   "metadata": {},
   "outputs": [
    {
     "name": "stdout",
     "output_type": "stream",
     "text": [
      "9041308 vs. 9041308\n"
     ]
    }
   ],
   "source": [
    "print(str(n_stats)+' vs. '+str(n_retweets+n_normal+n_replies))"
   ]
  },
  {
   "cell_type": "markdown",
   "metadata": {},
   "source": [
    "### tweets_meta"
   ]
  },
  {
   "cell_type": "code",
   "execution_count": 17,
   "metadata": {},
   "outputs": [
    {
     "name": "stdout",
     "output_type": "stream",
     "text": [
      "(9041308, 6)\n"
     ]
    },
    {
     "data": {
      "text/plain": [
       "[('tweetid', 'string'),\n",
       " ('follower_count', 'string'),\n",
       " ('following_count', 'string'),\n",
       " ('latitude', 'string'),\n",
       " ('longitude', 'string'),\n",
       " ('tweet_client_name', 'string')]"
      ]
     },
     "execution_count": 17,
     "metadata": {},
     "output_type": "execute_result"
    }
   ],
   "source": [
    "# what does tweets_stats look like ? size, dtypes\n",
    "print((n_metadata,d_metadata))\n",
    "tweets_meta_df.dtypes"
   ]
  },
  {
   "cell_type": "code",
   "execution_count": 18,
   "metadata": {},
   "outputs": [
    {
     "name": "stdout",
     "output_type": "stream",
     "text": [
      "+------------------+--------------+---------------+--------+---------+------------------+\n",
      "|           tweetid|follower_count|following_count|latitude|longitude| tweet_client_name|\n",
      "+------------------+--------------+---------------+--------+---------+------------------+\n",
      "|849295393867399169|          4042|           1470|    null|     null|Twitter Web Client|\n",
      "|567280957913587713|           272|            390|    null|     null|          iziaslav|\n",
      "|493095247690612736|            89|            223|    null|     null|          vavilonX|\n",
      "|493892174069903360|            89|            223|    null|     null|          vavilonX|\n",
      "|512503798506721280|            89|            223|    null|     null|          vavilonX|\n",
      "|499624206246871041|            89|            223|    null|     null|          vavilonX|\n",
      "|491828568251707392|            89|            223|    null|     null|          vavilonX|\n",
      "|493768356810731520|            89|            223|    null|     null|          vavilonX|\n",
      "|502221368222814209|            89|            223|    null|     null|          vavilonX|\n",
      "|502380098495213568|            89|            223|    null|     null|          vavilonX|\n",
      "+------------------+--------------+---------------+--------+---------+------------------+\n",
      "only showing top 10 rows\n",
      "\n"
     ]
    }
   ],
   "source": [
    "# a quick view\n",
    "tweets_meta_df.show(10)"
   ]
  },
  {
   "cell_type": "markdown",
   "metadata": {},
   "source": [
    "***Is there anything to clean at this stage (before playing/dealing with the data) ?*** \n",
    "\n",
    "Below are listed the interventions we needed to perform in order to clean the data :      "
   ]
  },
  {
   "cell_type": "markdown",
   "metadata": {},
   "source": [
    "Just as with the previous dataset, we cast some columns into integers and we also create a static sql view of the main dataframe on which we can apply our SQL queries."
   ]
  },
  {
   "cell_type": "code",
   "execution_count": 19,
   "metadata": {},
   "outputs": [],
   "source": [
    "# dtypes transformations : \n",
    "tweets_meta_df = tweets_meta_df.withColumn('follower_count', tweets_meta_df.follower_count.cast('int'))\n",
    "tweets_meta_df = tweets_meta_df.withColumn('following_count', tweets_meta_df.following_count.cast('int'))\n",
    "\n",
    "# NOTE : we do not cast lattitude/longitude columns into integers since we intend to drop both \n",
    "# columns (see below why).\n",
    "\n",
    "# create a temporary Spark SQL view\n",
    "tweets_meta_df.createOrReplaceTempView(\"tweets_meta_sql\")"
   ]
  },
  {
   "cell_type": "markdown",
   "metadata": {},
   "source": [
    "It appears that the number of rows with a non-null *latitude*/*longitude* combination is very small compared to the size of dataset (less than 0.05%). Furthermore, several of them are repeated and are probably faked by the troll agents. We thus consider it rather useless and prefer dropping it."
   ]
  },
  {
   "cell_type": "code",
   "execution_count": 20,
   "metadata": {},
   "outputs": [
    {
     "name": "stdout",
     "output_type": "stream",
     "text": [
      "total number of observations for this data set 9041308\n",
      "number of non NULL lattitude records : 4779 and among them 2938 unique coordinates pairs\n"
     ]
    }
   ],
   "source": [
    "temp = spark.sql(\"SELECT * FROM tweets_meta_sql WHERE latitude IS NOT NULL\")\n",
    "print('total number of observations for this data set '+str(n_metadata))\n",
    "print('number of non NULL lattitude records : '+str(temp.count())+ ' and among them '+str(temp.select('latitude', 'longitude').distinct().count())+' unique coordinates pairs')\n",
    "\n",
    "# drop lattitude and longitude \n",
    "tweets_meta_df = tweets_meta_df.drop('latitude', 'longitude')\n",
    "      \n",
    "# override previous TempView\n",
    "tweets_meta_df.createOrReplaceTempView(\"tweets_meta_sql\")"
   ]
  },
  {
   "cell_type": "markdown",
   "metadata": {},
   "source": [
    "The main feature that we can use to split the data here is *tweet_client_name*. When we take a closer look to this column, we discover that there are more than 400 values registered. Many of them seem unidentifiable.\n",
    "\n",
    "However, we can see that a good amount of tweets are sent through official Twitter applications:\n",
    "* **Twitter Web Client** accounts for around one third of the tweets in the dataset.\n",
    "* **TweetDeck**, which allows to manage multiple accounts simultaneously, handles around 7% of the tweets.\n",
    "* **Twitter For Android** is also in the top 15 applications used for those tweets.\n",
    "\n",
    "Most of the other tweets are generated through automated social media managers, such as **twitterfeed** (shut down in 2016), **dlvr.it**, or even **IFTTT**."
   ]
  },
  {
   "cell_type": "code",
   "execution_count": 21,
   "metadata": {},
   "outputs": [
    {
     "name": "stdout",
     "output_type": "stream",
     "text": [
      "number of twitter clients : 334\n",
      "+-------------------+-------+\n",
      "|  tweet_client_name|  count|\n",
      "+-------------------+-------+\n",
      "| Twitter Web Client|2576596|\n",
      "|        twitterfeed|1472547|\n",
      "|          TweetDeck| 612024|\n",
      "|      newtwittersky| 393074|\n",
      "|          bronislav| 308516|\n",
      "|           iziaslav| 299963|\n",
      "|              IFTTT| 291269|\n",
      "|          rostislav| 289475|\n",
      "|        generationπ| 285503|\n",
      "|         Twibble.io| 268402|\n",
      "|    Ohwee Messanger| 240051|\n",
      "|NovaPress Publisher| 204583|\n",
      "|Twitter for Android| 163227|\n",
      "|Приложение для тебя| 159588|\n",
      "|           vavilonX| 148744|\n",
      "+-------------------+-------+\n",
      "only showing top 15 rows\n",
      "\n"
     ]
    }
   ],
   "source": [
    "temp = spark.sql(\"SELECT tweet_client_name, COUNT(*) AS count FROM tweets_meta_sql GROUP BY tweet_client_name ORDER BY count DESC\")\n",
    "print('number of twitter clients : '+str(temp.count()))\n",
    "temp.show(15)"
   ]
  },
  {
   "cell_type": "markdown",
   "metadata": {},
   "source": [
    "Let's have a look on Twitter clients of the kind : *Twitter ... for ....*."
   ]
  },
  {
   "cell_type": "code",
   "execution_count": 22,
   "metadata": {},
   "outputs": [
    {
     "name": "stdout",
     "output_type": "stream",
     "text": [
      "number of such typical twitter clients : 18\n",
      "+--------------------+-------+\n",
      "|   tweet_client_name|  count|\n",
      "+--------------------+-------+\n",
      "|  Twitter Web Client|2576596|\n",
      "| Twitter for Android| 163227|\n",
      "|  Twitter for iPhone|  56168|\n",
      "|Twitter for Andro...|  22126|\n",
      "|    Twitter for iPad|   4432|\n",
      "|Twitter for  Android|   3642|\n",
      "|        Twitter Lite|   2891|\n",
      "|      Twitter Nation|    813|\n",
      "|Twitter for Websites|    762|\n",
      "|Twitter for Nokia...|    442|\n",
      "|Twitter for Black...|     92|\n",
      "| Twitter for Windows|     92|\n",
      "|Twitter for Black...|     71|\n",
      "|Twitterrific for iOS|     21|\n",
      "|Twitter for Windo...|      9|\n",
      "|         Twitter Ads|      6|\n",
      "|Twitter Business ...|      2|\n",
      "|Unfollow Tools fo...|      1|\n",
      "+--------------------+-------+\n",
      "\n"
     ]
    }
   ],
   "source": [
    "temp = spark.sql(\"SELECT tweet_client_name, COUNT(*) AS count FROM tweets_meta_sql WHERE tweet_client_name LIKE '%Twitter%' GROUP BY tweet_client_name ORDER BY count DESC\")\n",
    "print('number of such typical twitter clients : '+str(temp.count()))\n",
    "temp.show()"
   ]
  },
  {
   "cell_type": "markdown",
   "metadata": {},
   "source": [
    "In the end, seeing how messy this dataset is, and how few columns it has, we decided to not split it."
   ]
  },
  {
   "cell_type": "code",
   "execution_count": 23,
   "metadata": {},
   "outputs": [
    {
     "name": "stdout",
     "output_type": "stream",
     "text": [
      "size of troll_tweet_metadata : (9041308, 4)\n"
     ]
    }
   ],
   "source": [
    "# update the dimensionality of this dataset after the drop of columns\n",
    "d_metadata=  len(tweets_meta_df.columns)\n",
    "print('size of troll_tweet_metadata : '+str((n_metadata,d_metadata)))"
   ]
  },
  {
   "cell_type": "markdown",
   "metadata": {},
   "source": [
    "### tweets_user"
   ]
  },
  {
   "cell_type": "code",
   "execution_count": 24,
   "metadata": {},
   "outputs": [
    {
     "name": "stdout",
     "output_type": "stream",
     "text": [
      "(3667, 11)\n"
     ]
    },
    {
     "data": {
      "text/plain": [
       "[('userid', 'string'),\n",
       " ('user_display_name', 'string'),\n",
       " ('user_screen_name', 'string'),\n",
       " ('user_reported_location', 'string'),\n",
       " ('user_profile_description', 'string'),\n",
       " ('user_profile_url', 'string'),\n",
       " ('account_creation_date', 'string'),\n",
       " ('account_language', 'string'),\n",
       " ('follower_count', 'string'),\n",
       " ('following_count', 'string'),\n",
       " ('last_tweet_at', 'string')]"
      ]
     },
     "execution_count": 24,
     "metadata": {},
     "output_type": "execute_result"
    }
   ],
   "source": [
    "# what does tweets_stats look like ? size, dtypes\n",
    "print((n_users,d_users))\n",
    "tweets_user_df.dtypes"
   ]
  },
  {
   "cell_type": "markdown",
   "metadata": {},
   "source": [
    "***Is there anything to clean at this stage (before playing/dealing with the data) ?*** \n",
    "\n",
    "Below are listed the interventions we needed to perform in order to clean the data :      "
   ]
  },
  {
   "cell_type": "markdown",
   "metadata": {},
   "source": [
    "We first convert the dates and integers present in the dataframe. This also treats the wrong encodings in those columns (such as a language ('en') present in *last_tweet_at*."
   ]
  },
  {
   "cell_type": "code",
   "execution_count": 25,
   "metadata": {},
   "outputs": [],
   "source": [
    "# dtypes transformations : \n",
    "tweets_user_df = tweets_user_df.withColumn('account_creation_date', to_timestamp(tweets_user_df.account_creation_date))\n",
    "tweets_user_df = tweets_user_df.withColumn('last_tweet_at', to_timestamp(tweets_user_df.last_tweet_at))\n",
    "tweets_user_df = tweets_user_df.withColumn('follower_count', tweets_user_df.follower_count.cast('int'))\n",
    "tweets_user_df = tweets_user_df.withColumn('following_count', tweets_user_df.following_count.cast('int'))\n",
    "\n",
    "# create a temporary Spark SQL view\n",
    "tweets_user_df.createOrReplaceTempView(\"tweets_user_sql\")"
   ]
  },
  {
   "cell_type": "markdown",
   "metadata": {},
   "source": [
    "There also appear to be some wrong encodings in *account_language*. All languages are represented by a two letters code (except for *en-gb* and *zh-cn*, which correspond respectively to British English and Mainland Chinese). But a very small number of rows contain a date or a text as language.\n",
    "\n",
    "After looking further into that, we discovered that those accounts wrote tweets in many different languages. As it is impossible for us to determine which one is their preferred language, we decided to set those inconsistent values to *'und'*."
   ]
  },
  {
   "cell_type": "code",
   "execution_count": 26,
   "metadata": {},
   "outputs": [
    {
     "name": "stdout",
     "output_type": "stream",
     "text": [
      "number of rows with inconsistent account_language: 3\n",
      "+--------------------+----------------+\n",
      "|              userid|account_language|\n",
      "+--------------------+----------------+\n",
      "|02b81295dbf8951d1...|      2016-01-13|\n",
      "|          1240007161|      2013-03-03|\n",
      "|8e77873eecf19db8d...|      2017-03-21|\n",
      "+--------------------+----------------+\n",
      "\n"
     ]
    }
   ],
   "source": [
    "temp = spark.sql(\"SELECT userid, account_language FROM tweets_user_sql WHERE LENGTH(account_language)>5\")\n",
    "print(\"number of rows with inconsistent account_language: \" + str(temp.count()))\n",
    "temp.show()"
   ]
  },
  {
   "cell_type": "markdown",
   "metadata": {},
   "source": [
    "Let's apply the transformations required by the last comments. "
   ]
  },
  {
   "cell_type": "code",
   "execution_count": 27,
   "metadata": {},
   "outputs": [],
   "source": [
    "# filter on the account_language feature\n",
    "tweets_user_df = tweets_user_df.withColumn('account_language', when(length(col('account_language'))>5, 'und').otherwise(col('account_language')))"
   ]
  },
  {
   "cell_type": "code",
   "execution_count": 28,
   "metadata": {},
   "outputs": [],
   "source": [
    "# create temporary Spark SQL view\n",
    "tweets_user_df.createOrReplaceTempView(\"tweets_user_sql\")"
   ]
  },
  {
   "cell_type": "markdown",
   "metadata": {},
   "source": [
    "Let's check that there are no more 'inconsistent' rows w.r.t our standards."
   ]
  },
  {
   "cell_type": "code",
   "execution_count": null,
   "metadata": {},
   "outputs": [],
   "source": [
    "print(\"number of rows with inconsistent account_language: \" + str(spark.sql(\"SELECT userid, account_language FROM tweets_user_sql WHERE LENGTH(account_language)>5\").count()))"
   ]
  },
  {
   "cell_type": "markdown",
   "metadata": {},
   "source": [
    "We then split this dataframe into two:\n",
    "* **anonymized_user_df** contains all the users that are anonymized.\n",
    "* **exposed_user_df** contains all the other users.\n",
    "\n",
    "This allows us to drop two columns for the anonymized users (users that have a *userid* that's the same as their *user_display_name* and *user_screen_name* : [Google APIs : twitter election integrity](https://storage.googleapis.com/twitter-election-integrity/hashed/Twitter_Elections_Integrity_Datasets_hashed_README.txt)) , which are a majority."
   ]
  },
  {
   "cell_type": "code",
   "execution_count": 29,
   "metadata": {},
   "outputs": [
    {
     "name": "stdout",
     "output_type": "stream",
     "text": [
      "number of records from dataset user : 3667\n",
      "wherein there are 3500 anonymized accounts and 167 exposed accounts\n"
     ]
    }
   ],
   "source": [
    "anonymized_user_df = spark.sql(\"SELECT * FROM tweets_user_sql WHERE userid=user_display_name\")\n",
    "exposed_user_df = spark.sql(\"SELECT * FROM tweets_user_sql WHERE NOT userid=user_display_name\")\n",
    "\n",
    "# drop useless columns \n",
    "anonymized_user_df = anonymized_user_df.drop('user_display_name', 'user_screen_name')\n",
    "\n",
    "# print results + check that there are only two outcomes possible for userid = user_display_name\n",
    "print('number of records from dataset user : '+str(n_users))\n",
    "print('wherein there are '+str(anonymized_user_df.count())+' anonymized accounts and '+\\\n",
    "      str(exposed_user_df.count())+' exposed accounts')"
   ]
  },
  {
   "cell_type": "markdown",
   "metadata": {},
   "source": [
    "### Summary\n",
    "\n",
    "We have generated 4 main dataframes from the data files: *tweets_text_df*, *tweets_stats_df*, *tweets_meta_df*, and *tweets_user_df*. We then cleaned the inconsistent values and split those dataframes into smaller ones when possible and useful. Our data is now organised as follows:\n",
    "\n",
    "* **tweets_text_df**: all the contents from the tweets, with an indication of their language.\n",
    "* **tweets_stats_df**: \n",
    "    * **retweets_df**: all the information about retweets.\n",
    "    * **replies_df**: all the information about replies.\n",
    "    * **normal_tweets_df**: all the information about the other tweets.\n",
    "* **tweets_meta_df**: all the meta information corresponding to each tweets (minus the latitude/longitude).\n",
    "* **tweets_user_df**:\n",
    "    * **anonymized_user_df**: all the information about anonymized users.\n",
    "    * **exposed_user_df**: all the information about users who are not anonymized.\n",
    "    "
   ]
  },
  {
   "cell_type": "markdown",
   "metadata": {},
   "source": [
    "Before digging into some statistics we would like to underline the fact we can handle the data in its current size with the use of Spark. Previous requests did not take that much time with Spark SQL and the fact that our dataset is well partionned among several sub-datasets (data chunks) of interest will prevent us to query on too large files ! If we request very intensive computations on the data that embed many and many accesses to these chunks we will either make use of *Parquet* files or we will ***persist()*** Spark dataframes to keep them on top of the memory."
   ]
  },
  {
   "cell_type": "markdown",
   "metadata": {},
   "source": [
    "## 2.  CONCRETE ANALYSIS"
   ]
  },
  {
   "cell_type": "markdown",
   "metadata": {},
   "source": [
    "**SOURCE** : Tweets collected by : [about_twitter/elections-integrity](https://about.twitter.com/en_us/values/elections-integrity.html#data) \n",
    "\n",
    "**NOTE** : *Not all the tweets collected are trolls*. Actually all the tweets present in our database were sent by identified troll accounts (at least this is the assumption one has to make while working on this dataset) but for most of these latter they seem to have played the game cleverly. In order not to be spotted immediately as fake foreign accounts they did also manage to ressemble as any other american/russian account. Therefore there exist plenty of '*innocent*' and '*unrelated*' tweets were also written aside by troll accounts for them to pretend to be just normal."
   ]
  },
  {
   "cell_type": "markdown",
   "metadata": {},
   "source": [
    "**Main Spark SQL views**"
   ]
  },
  {
   "cell_type": "code",
   "execution_count": 30,
   "metadata": {},
   "outputs": [],
   "source": [
    "# create temporary Spark SQL views of our data chunks :\n",
    "\n",
    "# normal_tweets_df\n",
    "normal_tweets_df.createOrReplaceTempView(\"normal_tweets_sql\")\n",
    "\n",
    "# tweets_text_df\n",
    "tweets_text_df.createOrReplaceTempView(\"tweets_text_sql\")\n",
    "\n",
    "# tweets_meta_df\n",
    "tweets_meta_df.createOrReplaceTempView(\"tweets_meta_sql\")\n",
    "\n",
    "# tweets_user_df\n",
    "tweets_user_df.createOrReplaceTempView(\"tweets_user_sql\")"
   ]
  },
  {
   "cell_type": "markdown",
   "metadata": {},
   "source": [
    "### Temporal and Quantitative analysis"
   ]
  },
  {
   "cell_type": "markdown",
   "metadata": {},
   "source": [
    "For this first part of the analysis , we work most of the time on *tweet_stats* dataset .\n",
    "\n",
    "We'll also make use of data provided by the following websites : [realclearpolitics/polls](https://www.realclearpolitics.com/epolls/latest_polls/president/#), [wikipedia/campaign_timeline](https://en.wikipedia.org/wiki/Timeline_of_the_2016_United_States_presidential_election)."
   ]
  },
  {
   "cell_type": "markdown",
   "metadata": {},
   "source": [
    "Let's first analyze trolls *Twitter*'s activity over time. At first we take into account all the *normal_tweets* before trying to filter out non directly politically related tweets (about *Clinton*, *Trump*, *elections*, ... etc) to observe whether the overall trend is preserved. "
   ]
  },
  {
   "cell_type": "code",
   "execution_count": 31,
   "metadata": {},
   "outputs": [
    {
     "name": "stdout",
     "output_type": "stream",
     "text": [
      "(5441916, 13)\n"
     ]
    },
    {
     "data": {
      "text/plain": [
       "[('tweetid', 'string'),\n",
       " ('userid', 'string'),\n",
       " ('tweet_time', 'timestamp'),\n",
       " ('in_reply_to_userid', 'string'),\n",
       " ('quoted_tweet_tweetid', 'string'),\n",
       " ('quote_count', 'int'),\n",
       " ('reply_count', 'int'),\n",
       " ('like_count', 'int'),\n",
       " ('retweet_count', 'int'),\n",
       " ('hashtags', 'string'),\n",
       " ('urls', 'string'),\n",
       " ('user_mentions', 'string'),\n",
       " ('poll_choices', 'string')]"
      ]
     },
     "execution_count": 31,
     "metadata": {},
     "output_type": "execute_result"
    }
   ],
   "source": [
    "# display columns and their dtypes of normal tweets \n",
    "print((n_normal,d_normal))\n",
    "normal_tweets_df.dtypes"
   ]
  },
  {
   "cell_type": "markdown",
   "metadata": {},
   "source": [
    "Let's group *normal_tweets* by month without truncating any time window yet."
   ]
  },
  {
   "cell_type": "code",
   "execution_count": 32,
   "metadata": {},
   "outputs": [
    {
     "data": {
      "text/html": [
       "<div>\n",
       "<style scoped>\n",
       "    .dataframe tbody tr th:only-of-type {\n",
       "        vertical-align: middle;\n",
       "    }\n",
       "\n",
       "    .dataframe tbody tr th {\n",
       "        vertical-align: top;\n",
       "    }\n",
       "\n",
       "    .dataframe thead th {\n",
       "        text-align: right;\n",
       "    }\n",
       "</style>\n",
       "<table border=\"1\" class=\"dataframe\">\n",
       "  <thead>\n",
       "    <tr style=\"text-align: right;\">\n",
       "      <th></th>\n",
       "      <th>count</th>\n",
       "      <th>last_time</th>\n",
       "    </tr>\n",
       "  </thead>\n",
       "  <tbody>\n",
       "    <tr>\n",
       "      <th>100</th>\n",
       "      <td>39036</td>\n",
       "      <td>2017-10-31 23:55:00</td>\n",
       "    </tr>\n",
       "    <tr>\n",
       "      <th>101</th>\n",
       "      <td>3719</td>\n",
       "      <td>2017-11-30 23:13:00</td>\n",
       "    </tr>\n",
       "    <tr>\n",
       "      <th>102</th>\n",
       "      <td>2427</td>\n",
       "      <td>2017-12-31 21:00:00</td>\n",
       "    </tr>\n",
       "    <tr>\n",
       "      <th>103</th>\n",
       "      <td>1924</td>\n",
       "      <td>2018-01-31 23:50:00</td>\n",
       "    </tr>\n",
       "    <tr>\n",
       "      <th>104</th>\n",
       "      <td>2205</td>\n",
       "      <td>2018-02-28 23:53:00</td>\n",
       "    </tr>\n",
       "    <tr>\n",
       "      <th>105</th>\n",
       "      <td>1956</td>\n",
       "      <td>2018-03-31 23:34:00</td>\n",
       "    </tr>\n",
       "    <tr>\n",
       "      <th>106</th>\n",
       "      <td>1505</td>\n",
       "      <td>2018-04-30 23:53:00</td>\n",
       "    </tr>\n",
       "    <tr>\n",
       "      <th>107</th>\n",
       "      <td>1554</td>\n",
       "      <td>2018-05-31 17:02:00</td>\n",
       "    </tr>\n",
       "    <tr>\n",
       "      <th>108</th>\n",
       "      <td>107</td>\n",
       "      <td>2018-06-21 14:32:00</td>\n",
       "    </tr>\n",
       "  </tbody>\n",
       "</table>\n",
       "</div>"
      ],
      "text/plain": [
       "     count           last_time\n",
       "100  39036 2017-10-31 23:55:00\n",
       "101   3719 2017-11-30 23:13:00\n",
       "102   2427 2017-12-31 21:00:00\n",
       "103   1924 2018-01-31 23:50:00\n",
       "104   2205 2018-02-28 23:53:00\n",
       "105   1956 2018-03-31 23:34:00\n",
       "106   1505 2018-04-30 23:53:00\n",
       "107   1554 2018-05-31 17:02:00\n",
       "108    107 2018-06-21 14:32:00"
      ]
     },
     "execution_count": 32,
     "metadata": {},
     "output_type": "execute_result"
    }
   ],
   "source": [
    "# group and count by month (and year)\n",
    "normal_dates_query = \"\"\"SELECT COUNT(tweetid) AS count, MAX(tweet_time) AS last_time\n",
    "                        FROM normal_tweets_sql\n",
    "                        GROUP BY YEAR(tweet_time),MONTH(tweet_time)\n",
    "                        ORDER BY YEAR(tweet_time),MONTH(tweet_time) ASC\n",
    "                     \"\"\"\n",
    "normal_dates_df = spark.sql(normal_dates_query)\n",
    "\n",
    "# store as a Panda dataframe (very small, absolutely no problem with the memory)\n",
    "normal_dates_pd = normal_dates_df.toPandas()\n",
    "\n",
    "normal_dates_pd[100:]"
   ]
  },
  {
   "cell_type": "markdown",
   "metadata": {},
   "source": [
    "We can already observe that for some months the database doesn't contain any '*normal tweet*' ! \n",
    "Nevertheless there's actually only one month missing (August 2009) since there are 109 records and thus 108 records after the inital one whereas there would have been 109 records after May 2009 if every month was mentionned in the dataframe until June 2018"
   ]
  },
  {
   "cell_type": "code",
   "execution_count": 33,
   "metadata": {},
   "outputs": [
    {
     "name": "stdout",
     "output_type": "stream",
     "text": [
      "first normal tweet date (unix_time stamp) : 1241877540\n",
      "first normal tweet date (human readable) : 2009-05-09 13:59:00\n"
     ]
    }
   ],
   "source": [
    "# recover the date of the first normal_tweet identified\n",
    "start_normal_date_query = \"\"\"SELECT MIN(UNIX_TIMESTAMP(tweet_time)) FROM normal_tweets_sql\"\"\"\n",
    "\n",
    "start_normal_date = spark.sql(start_normal_date_query)\n",
    "start_normal_date = start_normal_date.head()[0] # access the value of the query \n",
    "\n",
    "print('first normal tweet date (unix_time stamp) : ' + str(start_normal_date))\n",
    "print('first normal tweet date (human readable) : '+str(pd.to_datetime(start_normal_date,unit='s')))"
   ]
  },
  {
   "cell_type": "markdown",
   "metadata": {},
   "source": [
    "That corresponds to a tweet back in 2009 (9th of may). Of course the US 2016 presidential campaign didn't begin so early. As the reader will see, there are actually multiple *periods* of activity characterized by low/medium and high volume of tweets. \n",
    "\n",
    "As argued above this tweet is probably one old tweet of a '***troll account wannabe***'.\n",
    "\n",
    "After discarding previous explanations some researches brought us on [cnbc/origins_or_IRA_dataset](https://www.cnbc.com/2018/10/17/reuters-america-update-2-twitter-publishes-tweet-trove-from-russia-iran-campaigns.html) that confirms our presumptions : all the tweets coming from the identified troll farm have been collected and gathered into the newly made available datasets. "
   ]
  },
  {
   "cell_type": "markdown",
   "metadata": {},
   "source": [
    "Let's mark down in different visual colors the 4 distinctive periods of tweets activity."
   ]
  },
  {
   "cell_type": "code",
   "execution_count": 35,
   "metadata": {},
   "outputs": [
    {
     "data": {
      "image/png": "[encoded data removed]",
      "text/plain": [
       "<Figure size 432x288 with 1 Axes>"
      ]
     },
     "metadata": {
      "needs_background": "light"
     },
     "output_type": "display_data"
    }
   ],
   "source": [
    "# plot purposes \n",
    "\n",
    "# period 1 \n",
    "\n",
    "period_1_global_activity = normal_dates_pd[(normal_dates_pd['last_time']>datetime.datetime(2012,1,31)) & (normal_dates_pd['last_time']<=datetime.datetime(2013,6,30))]\n",
    "\n",
    "# period 2 \n",
    "\n",
    "period_2_global_activity = normal_dates_pd[(normal_dates_pd['last_time']>datetime.datetime(2013,11,30)) & (normal_dates_pd['last_time']<=datetime.datetime(2014,5,31))]\n",
    "\n",
    "# period 3 \n",
    "\n",
    "period_3_global_activity = normal_dates_pd[(normal_dates_pd['last_time']>datetime.datetime(2014,5,31)) & (normal_dates_pd['last_time']<=datetime.datetime(2014,12,31))]\n",
    "\n",
    "# period 4\n",
    "\n",
    "period_4_global_activity = normal_dates_pd[(normal_dates_pd['last_time']>datetime.datetime(2014,12,31)) & (normal_dates_pd['last_time']<=datetime.datetime(2016,10,31))]\n",
    "\n",
    "# period 5 \n",
    "\n",
    "period_5_global_activity = normal_dates_pd[(normal_dates_pd['last_time']>datetime.datetime(2016,10,31)) & (normal_dates_pd['last_time']<=datetime.datetime(2017,10,31))]\n",
    "\n",
    "\n",
    "plt.figure(1)\n",
    "plt.plot(normal_dates_pd['last_time'],normal_dates_pd['count'])\n",
    "plt.plot(period_1_global_activity['last_time'],period_1_global_activity['count'],marker='+',color='gold')\n",
    "plt.plot(period_2_global_activity['last_time'],period_2_global_activity['count'],marker='+',color='forestgreen')\n",
    "plt.plot(period_3_global_activity['last_time'],period_3_global_activity['count'],marker='+',color='magenta')\n",
    "plt.plot(period_4_global_activity['last_time'],period_4_global_activity['count'],marker='+',color='brown')\n",
    "plt.plot(period_5_global_activity['last_time'],period_5_global_activity['count'],marker='+',color='purple')\n",
    "\n",
    "plt.title('Evolution with time of the number of normal tweets sent by troll accounts')\n",
    "plt.grid()\n",
    "plt.xlabel('time (months spacing)')\n",
    "plt.ylabel('count')\n",
    "plt.legend(['other timestamps','period 1','period 2','period 3','period 4','period 5'],loc=2);"
   ]
  },
  {
   "cell_type": "markdown",
   "metadata": {},
   "source": [
    "Let's have a look at the evolution with the time of the number of *troll* accounts registered.   "
   ]
  },
  {
   "cell_type": "code",
   "execution_count": 36,
   "metadata": {},
   "outputs": [
    {
     "data": {
      "image/png": "[encoded data removed]",
      "text/plain": [
       "<Figure size 432x288 with 1 Axes>"
      ]
     },
     "metadata": {
      "needs_background": "light"
     },
     "output_type": "display_data"
    }
   ],
   "source": [
    "# group user accounts by time (month)\n",
    "accounts_creation_dates_query = \"\"\"SELECT MAX(account_creation_date) as last_time, COUNT(userid) as nb_users\n",
    "                                    FROM tweets_user_sql\n",
    "                                    GROUP BY YEAR(account_creation_date),MONTH(account_creation_date)\n",
    "                                    ORDER BY YEAR(account_creation_date),MONTH(account_creation_date) ASC\n",
    "                                \"\"\"\n",
    "\n",
    "accounts_creation_dates_df = spark.sql(accounts_creation_dates_query)\n",
    "\n",
    "# small enough dataframe : it holds conveniently into Pandas for further plotting\n",
    "accounts_creation_dates_pd = accounts_creation_dates_df.toPandas()\n",
    "\n",
    "# a cumulative sum with time is required to show the evolution of the number of troll accounts\n",
    "accounts_creation_dates_pd = accounts_creation_dates_pd.dropna()\n",
    "accounts_creation_dates_pd.nb_users = accounts_creation_dates_pd.nb_users.cumsum()\n",
    "\n",
    "plt.figure(1)\n",
    "plt.plot(accounts_creation_dates_pd['last_time'],accounts_creation_dates_pd['nb_users'],marker='+')\n",
    "plt.title('Evolution with time of the number of troll accounts')\n",
    "plt.grid()\n",
    "plt.xlabel('time (months spacing)')\n",
    "plt.ylabel('count')\n",
    "plt.legend(['troll accounts'],loc=2);"
   ]
  },
  {
   "cell_type": "markdown",
   "metadata": {},
   "source": [
    "Here we give a first insight on each period and its meaning. More detailed analysis will be conducted for each period in the dedicated sections of this notebook.\n",
    "\n",
    "**period 1 (US 2012 Elections)**\n",
    "\n",
    "A first increasing trend is observed around 40 months after May 2009. More precisely that small, yellow, hill is located in time from February 2012 to June 2013 (increase from $\\simeq 3000$ *normal_tweets* per month in February 2012 to $\\simeq 34000$ in October 2012 before falling back again, smoothly, to $\\simeq 2500$ in June 2013). \n",
    "\n",
    "Actually, this periods totally corresponds to the previous US presidential campaign for which Barack Obama had been elected president of the United States of America for the second time in a row. The observable peak of activity (October 2012) falls in the month prior to 2012's final elections. \n",
    "\n",
    "Taking a look at the graph showing the evolution of the number of troll accounts with time one can argue that for such a small amount of them during period 1 they had to be quite active for that campaign.  \n",
    "\n",
    "**period 2 (Hiring Time)**\n",
    "\n",
    "Starting from $\\simeq$ mid-2013 and mostly at the beginning of 2014 one can notice a sudden increase in both the number of accounts and the troll feed activity ; those latter being obviously correlated. Looking at [wikipedia/IRA's page](https://en.wikipedia.org/wiki/Internet_Research_Agency) one can underline the job offer proposed in August 2013 : \n",
    "\n",
    "                                                \"Internet operators wanted! ...\"\n",
    "                                                \n",
    "The following website shed light on the early practices of IRA [wired.co.uk/twitter-trolls](https://www.wired.co.uk/article/twitter-troll-data-russia-ira-iran) Actually the initial goal of the \"*agency*\" was to infere on several events of the actuality (Elections, War in Ukraine, Terrorism, ... $\\rightarrow$ massive opportunities). Below the reader will find multiple signs/pieces of evidence of the diversity of the actions lead by IRA's troll farm.\n",
    "\n",
    "**period 3 (War in Donbass in full swing !)**\n",
    "\n",
    "This time window corresponds to a massive tweet campaign of IRA to support pro-russian factions in *Donbass' war* in Ukrainia.\n",
    "\n",
    "**period 4 (US 2016 Elections)**\n",
    "\n",
    "(Note Ukraine's war is still undergoing at that time). \n",
    "\n",
    "We observe a peak starting after 61 months from May 2009, thus in June 2014. This corresponds exactly to one year prior the moment when Donald Trump announced his candidacy for the primaries (republican) [wikipedia/donald_trump](https://en.wikipedia.org/wiki/Donald_Trump#Political_activities_up_to_2015). \n",
    "\n",
    "This period of ***high*** activity embeds both Ukraine's war (2014-present, but its itensity reached a peak in mid-2014) and US 2016 presidential elections. \n",
    "\n",
    "After the peak the *troll* fever seems to drop monotically until June 2016 before growing up again **right before the final US elections** of november 2016. \n",
    "\n",
    "**period 5 (Ukraine's war & Presidential Instability)**\n",
    "\n",
    "Right after the elections the activity of troll accounts isn't decreasing yet. Many contestations of the election results, transition of presidency ... etc make good troll topics. One could observe that until the end ofJanuary 2017, Trump's election wasn't confirmed yet by the congress [wikipedia/header](https://en.wikipedia.org/wiki/Timeline_of_the_2016_United_States_presidential_election)\n",
    "\n",
    "Trollers stop after 100 months, at the beginning of the academic year 2017-2018 (end of October 2017)."
   ]
  },
  {
   "cell_type": "markdown",
   "metadata": {},
   "source": [
    "----------------------------------------------------------------------------------------------------------------------------"
   ]
  },
  {
   "cell_type": "markdown",
   "metadata": {},
   "source": [
    "----------------------------------------------------------------------------------------------------------------------------"
   ]
  },
  {
   "cell_type": "markdown",
   "metadata": {},
   "source": [
    "**NOTE** :  The following sections will intensively use PySpark SQL embedded features. "
   ]
  },
  {
   "cell_type": "markdown",
   "metadata": {},
   "source": [
    "### Time window :  Period 1 (*US 2012 Elections and Vladimir Putin elections*)\n",
    "Small interactions with US 2012 elections and easy to spot intra-Russia tweets about the elections."
   ]
  },
  {
   "cell_type": "code",
   "execution_count": 37,
   "metadata": {},
   "outputs": [],
   "source": [
    "# select normal tweets of the current time period \n",
    "normal_tweets_p1_query = \"\"\"SELECT * \n",
    "                            FROM normal_tweets_sql\n",
    "                            WHERE tweet_time >= \"2012-02-01\" AND tweet_time <= \"2013-06-30\"\n",
    "                        \"\"\"\n",
    "normal_tweets_p1_df  = spark.sql(normal_tweets_p1_query)\n",
    "\n",
    "normal_tweets_p1_df.createOrReplaceTempView(\"normal_tweets_p1_sql\")"
   ]
  },
  {
   "cell_type": "code",
   "execution_count": 38,
   "metadata": {},
   "outputs": [],
   "source": [
    "# group by week and sort by time \n",
    "normal_dates_w_p1_query =  \"\"\"SELECT COUNT(tweetid) AS count,MAX(tweet_time) AS time \n",
    "                              FROM normal_tweets_p1_sql \n",
    "                              GROUP BY CAST(DATEDIFF(tweet_time,\"2012-02-01\")/7 AS int)\n",
    "                              ORDER BY time ASC\n",
    "                           \"\"\"\n",
    "normal_dates_w_p1_df = spark.sql(normal_dates_w_p1_query)\n",
    "\n",
    "# store as a Panda dataframe (very small, absolutely no problem with the memory)\n",
    "normal_dates_w_p1_pd = normal_dates_w_p1_df.toPandas()"
   ]
  },
  {
   "cell_type": "code",
   "execution_count": 39,
   "metadata": {},
   "outputs": [
    {
     "data": {
      "image/png": "[encoded data removed]",
      "text/plain": [
       "<Figure size 576x432 with 1 Axes>"
      ]
     },
     "metadata": {
      "needs_background": "light"
     },
     "output_type": "display_data"
    }
   ],
   "source": [
    "# plot intermediate results\n",
    "plt.figure(figsize=(8,6))\n",
    "plt.plot(normal_dates_w_p1_pd[\"time\"],normal_dates_w_p1_pd[\"count\"],color=\"gold\",marker='+')\n",
    "plateau = normal_dates_w_p1_pd[(normal_dates_w_p1_pd.time>=\"2012-05-01\") & (normal_dates_w_p1_pd.time<=\"2012-07-15\")]\n",
    "peak = normal_dates_w_p1_pd[(normal_dates_w_p1_pd.time>=\"2012-09-01\") & (normal_dates_w_p1_pd.time<=\"2012-11-6\")]\n",
    "plt.plot(plateau[\"time\"],plateau[\"count\"],color=\"yellowgreen\",marker='o')\n",
    "plt.plot(peak[\"time\"],peak[\"count\"],color=\"lightblue\",marker='o')\n",
    "plt.title('Evolution with time of the number of normal tweets sent by troll accounts')\n",
    "plt.grid()\n",
    "plt.xlabel('time (weeks spacing)')\n",
    "plt.ylabel('count')\n",
    "plt.legend(['period 1','plateau : Vladimir\"s election','peak : Obama\"s election'],loc=8);"
   ]
  },
  {
   "cell_type": "markdown",
   "metadata": {},
   "source": [
    "As previously highlighted a peak of activity is worth mentioning $1-2$ months before final US 2012 presidentials (light blue) \n",
    "\n",
    "Also one can notice a serie of saddle points/plateau (green) around May 2012 : actually looking at the most retweeted tweets for period 1 (see below) it comes to light that [wikipedia/Vladimir Putin](https://en.wikipedia.org/wiki/Vladimir_Putin) has been put forward by troll accounts at that moment."
   ]
  },
  {
   "cell_type": "markdown",
   "metadata": {},
   "source": [
    "Let's investigate tweets addressed directly to *Obama* / politics on that same time window."
   ]
  },
  {
   "cell_type": "code",
   "execution_count": 40,
   "metadata": {},
   "outputs": [],
   "source": [
    "# stop words more specifically addressed to Obama (after a review : nothing interesting embedding Clinton nor Trump)\n",
    "stop_words_political_p1 = ['barack','obama','барак','обама','democrat','демократ']"
   ]
  },
  {
   "cell_type": "code",
   "execution_count": 42,
   "metadata": {},
   "outputs": [],
   "source": [
    "# get texts of the normal tweets corresponding to period 1\n",
    "normal_tweets_texts_p1_query = \"\"\" SELECT normal_tweets_p1_sql.tweetid,tweet_language,tweet_text,userid,tweet_time,like_count,retweet_count,hashtags,urls\n",
    "                                   FROM tweets_text_sql JOIN normal_tweets_p1_sql ON tweets_text_sql.tweetid == normal_tweets_p1_sql.tweetid\n",
    "                               \"\"\"\n",
    "\n",
    "normal_tweets_texts_p1_df = spark.sql(normal_tweets_texts_p1_query)\n",
    "\n",
    "\n",
    "## Parquet transformation \n",
    "\n",
    "# @comment if Parquet already built\n",
    "# normal_tweets_texts_p1_df.write.mode('overwrite').parquet(\"normal_tweets_texts_p1_df\")\n",
    "\n",
    "normal_tweets_texts_p1_df = spark.read.parquet(\"normal_tweets_texts_p1_df\")\n",
    "\n",
    "# replace/update previous Spark SQL temporary view\n",
    "normal_tweets_texts_p1_df.createOrReplaceTempView(\"normal_tweets_texts_p1_sql\")"
   ]
  },
  {
   "cell_type": "code",
   "execution_count": 43,
   "metadata": {},
   "outputs": [],
   "source": [
    "political_normal_tweets_texts_p1_df = normal_tweets_texts_p1_df.rdd.filter(lambda x: any(word in x.tweet_text.lower() for word in stop_words_political_p1))\n",
    "\n",
    "# @comment if Parquet already built\n",
    "# political_normal_tweets_texts_p1_df.toDF().write.mode('overwrite').parquet(\"political_tweets_texts_p1_df\")\n",
    "\n",
    "political_normal_tweets_texts_p1_df = spark.read.parquet(\"political_tweets_texts_p1_df\")"
   ]
  },
  {
   "cell_type": "code",
   "execution_count": 44,
   "metadata": {},
   "outputs": [],
   "source": [
    "political_normal_tweets_texts_p1_df.createOrReplaceTempView(\"political_tweets_texts_p1_sql\")\n",
    "\n",
    "# group by week political tweets of period 1\n",
    "political_normal_dates_w_p1_query =   \"\"\"SELECT COUNT(tweetid) AS count,MAX(tweet_time) AS time \n",
    "                                         FROM political_tweets_texts_p1_sql \n",
    "                                         GROUP BY CAST(DATEDIFF(tweet_time,\"2012-02-01\")/7 AS int)\n",
    "                                         ORDER BY time ASC\n",
    "                                      \"\"\"\n",
    "political_normal_dates_w_p1_df = spark.sql(political_normal_dates_w_p1_query)\n",
    "\n",
    "# store as a Panda dataframe (very small, absolutely no problem with the memory)\n",
    "political_normal_dates_w_p1_pd = political_normal_dates_w_p1_df.toPandas()"
   ]
  },
  {
   "cell_type": "code",
   "execution_count": 45,
   "metadata": {},
   "outputs": [
    {
     "data": {
      "image/png": "[encoded data removed]",
      "text/plain": [
       "<Figure size 576x432 with 1 Axes>"
      ]
     },
     "metadata": {
      "needs_background": "light"
     },
     "output_type": "display_data"
    }
   ],
   "source": [
    "plt.figure(figsize=(8,6))\n",
    "election_week = political_normal_dates_w_p1_pd[(political_normal_dates_w_p1_pd.time>=\"2012-11-01\")&(political_normal_dates_w_p1_pd.time<=\"2012-11-20\")]\n",
    "plt.plot(political_normal_dates_w_p1_pd[\"time\"],political_normal_dates_w_p1_pd[\"count\"],color=\"gold\",marker='+')\n",
    "plt.plot(election_week[\"time\"],election_week[\"count\"],color='lightblue',marker='o')\n",
    "plt.title('Evolution with time of the number of direct political normal tweets sent by troll accounts')\n",
    "plt.grid()\n",
    "plt.xlabel('time (weeks spacing)')\n",
    "plt.ylabel('count')\n",
    "plt.legend(['political period 1','Obama\"s election fortnight'],loc=1);"
   ]
  },
  {
   "cell_type": "markdown",
   "metadata": {},
   "source": [
    "The trend is confirmed and more localized around *Obama's* election. The rest of the tweets were sent to other purposes than the US 2012 elections. As one can see, trollers from IRA are not really interested yet by US elections. As we will see there will be much more attraction for 2016's elections because of interests' conflicts between USA/RUS. "
   ]
  },
  {
   "cell_type": "markdown",
   "metadata": {},
   "source": [
    "Let's see what are the most 10 RT among those *Obama* and political tweets and their content. \n",
    "\n",
    "We are interested to see whether or not they already deliver hatred contents. "
   ]
  },
  {
   "cell_type": "code",
   "execution_count": 46,
   "metadata": {},
   "outputs": [
    {
     "data": {
      "text/html": [
       "<div>\n",
       "<style scoped>\n",
       "    .dataframe tbody tr th:only-of-type {\n",
       "        vertical-align: middle;\n",
       "    }\n",
       "\n",
       "    .dataframe tbody tr th {\n",
       "        vertical-align: top;\n",
       "    }\n",
       "\n",
       "    .dataframe thead th {\n",
       "        text-align: right;\n",
       "    }\n",
       "</style>\n",
       "<table border=\"1\" class=\"dataframe\">\n",
       "  <thead>\n",
       "    <tr style=\"text-align: right;\">\n",
       "      <th></th>\n",
       "      <th>tweetid</th>\n",
       "      <th>userid</th>\n",
       "      <th>retweet_count</th>\n",
       "      <th>tweet_time</th>\n",
       "      <th>urls</th>\n",
       "      <th>tweet_text</th>\n",
       "      <th>tweet_language</th>\n",
       "      <th>like_count</th>\n",
       "      <th>hashtags</th>\n",
       "    </tr>\n",
       "  </thead>\n",
       "  <tbody>\n",
       "    <tr>\n",
       "      <th>0</th>\n",
       "      <td>298419891134922752</td>\n",
       "      <td>449689677</td>\n",
       "      <td>8</td>\n",
       "      <td>2013-02-04 13:17:00</td>\n",
       "      <td>None</td>\n",
       "      <td>Давайте перенесемся в 1991 год. Вспомним все н...</td>\n",
       "      <td>ru</td>\n",
       "      <td>1</td>\n",
       "      <td>None</td>\n",
       "    </tr>\n",
       "    <tr>\n",
       "      <th>1</th>\n",
       "      <td>175859009235075072</td>\n",
       "      <td>466549101</td>\n",
       "      <td>3</td>\n",
       "      <td>2012-03-03 08:23:00</td>\n",
       "      <td>None</td>\n",
       "      <td>\"\"\"Когда вы будете вводить демократию с помощь...</td>\n",
       "      <td>und</td>\n",
       "      <td>0</td>\n",
       "      <td>None</td>\n",
       "    </tr>\n",
       "    <tr>\n",
       "      <th>2</th>\n",
       "      <td>283556556958748672</td>\n",
       "      <td>5860f89ab2d44cd6d24965203492416e263c5f607b7d63...</td>\n",
       "      <td>3</td>\n",
       "      <td>2012-12-25 12:55:00</td>\n",
       "      <td>None</td>\n",
       "      <td>Царь в моей голове отрёкся от престола. Теперь...</td>\n",
       "      <td>ru</td>\n",
       "      <td>1</td>\n",
       "      <td>[ПозитивГода]</td>\n",
       "    </tr>\n",
       "    <tr>\n",
       "      <th>3</th>\n",
       "      <td>265490089013022720</td>\n",
       "      <td>466549101</td>\n",
       "      <td>2</td>\n",
       "      <td>2012-11-05 16:25:00</td>\n",
       "      <td>[http://www.bbc.co.uk/russian/international/20...</td>\n",
       "      <td>А завтра United States presidential election. ...</td>\n",
       "      <td>und</td>\n",
       "      <td>0</td>\n",
       "      <td>[USA, election]</td>\n",
       "    </tr>\n",
       "    <tr>\n",
       "      <th>4</th>\n",
       "      <td>279719115969658880</td>\n",
       "      <td>2a2383f1a63d6ba732eb854df2866671632bf956322bba...</td>\n",
       "      <td>2</td>\n",
       "      <td>2012-12-14 22:46:00</td>\n",
       "      <td>[http://bit.ly/SqNvwO]</td>\n",
       "      <td>Барак Обама подписал «закон Магнитского» http:...</td>\n",
       "      <td>ru</td>\n",
       "      <td>0</td>\n",
       "      <td>[новости]</td>\n",
       "    </tr>\n",
       "    <tr>\n",
       "      <th>5</th>\n",
       "      <td>175859572857249792</td>\n",
       "      <td>466549101</td>\n",
       "      <td>2</td>\n",
       "      <td>2012-03-03 08:26:00</td>\n",
       "      <td>None</td>\n",
       "      <td>\"\"\"Таким образом демократия не вводится\"\"\"</td>\n",
       "      <td>und</td>\n",
       "      <td>0</td>\n",
       "      <td>None</td>\n",
       "    </tr>\n",
       "    <tr>\n",
       "      <th>6</th>\n",
       "      <td>169063653226725377</td>\n",
       "      <td>466549101</td>\n",
       "      <td>2</td>\n",
       "      <td>2012-02-13 14:21:00</td>\n",
       "      <td>None</td>\n",
       "      <td>Достигнуты договоренности о сотрудничестве с «...</td>\n",
       "      <td>und</td>\n",
       "      <td>1</td>\n",
       "      <td>None</td>\n",
       "    </tr>\n",
       "    <tr>\n",
       "      <th>7</th>\n",
       "      <td>266657238100353025</td>\n",
       "      <td>2a2383f1a63d6ba732eb854df2866671632bf956322bba...</td>\n",
       "      <td>2</td>\n",
       "      <td>2012-11-08 21:43:00</td>\n",
       "      <td>[http://bit.ly/Z8nXUt]</td>\n",
       "      <td>Обама посетит Россию в 2013 году http://t.co/v...</td>\n",
       "      <td>und</td>\n",
       "      <td>0</td>\n",
       "      <td>[новости]</td>\n",
       "    </tr>\n",
       "    <tr>\n",
       "      <th>8</th>\n",
       "      <td>333246665635004416</td>\n",
       "      <td>466549101</td>\n",
       "      <td>2</td>\n",
       "      <td>2013-05-11 15:46:00</td>\n",
       "      <td>[http://mobile.bbc.co.uk/russian/international...</td>\n",
       "      <td>Первые демократические #выборы в #Пакистан'е п...</td>\n",
       "      <td>ru</td>\n",
       "      <td>0</td>\n",
       "      <td>[выборы, Пакистан]</td>\n",
       "    </tr>\n",
       "    <tr>\n",
       "      <th>9</th>\n",
       "      <td>281007664950034433</td>\n",
       "      <td>aa6d42bfd479088dd39ad698cb7a465be95403eb34720a...</td>\n",
       "      <td>2</td>\n",
       "      <td>2012-12-18 12:07:00</td>\n",
       "      <td>None</td>\n",
       "      <td>Единый день голосования  - вот где демократия,...</td>\n",
       "      <td>ru</td>\n",
       "      <td>0</td>\n",
       "      <td>[БолотныйТупик]</td>\n",
       "    </tr>\n",
       "  </tbody>\n",
       "</table>\n",
       "</div>"
      ],
      "text/plain": [
       "              tweetid                                             userid  \\\n",
       "0  298419891134922752                                          449689677   \n",
       "1  175859009235075072                                          466549101   \n",
       "2  283556556958748672  5860f89ab2d44cd6d24965203492416e263c5f607b7d63...   \n",
       "3  265490089013022720                                          466549101   \n",
       "4  279719115969658880  2a2383f1a63d6ba732eb854df2866671632bf956322bba...   \n",
       "5  175859572857249792                                          466549101   \n",
       "6  169063653226725377                                          466549101   \n",
       "7  266657238100353025  2a2383f1a63d6ba732eb854df2866671632bf956322bba...   \n",
       "8  333246665635004416                                          466549101   \n",
       "9  281007664950034433  aa6d42bfd479088dd39ad698cb7a465be95403eb34720a...   \n",
       "\n",
       "   retweet_count          tweet_time  \\\n",
       "0              8 2013-02-04 13:17:00   \n",
       "1              3 2012-03-03 08:23:00   \n",
       "2              3 2012-12-25 12:55:00   \n",
       "3              2 2012-11-05 16:25:00   \n",
       "4              2 2012-12-14 22:46:00   \n",
       "5              2 2012-03-03 08:26:00   \n",
       "6              2 2012-02-13 14:21:00   \n",
       "7              2 2012-11-08 21:43:00   \n",
       "8              2 2013-05-11 15:46:00   \n",
       "9              2 2012-12-18 12:07:00   \n",
       "\n",
       "                                                urls  \\\n",
       "0                                               None   \n",
       "1                                               None   \n",
       "2                                               None   \n",
       "3  [http://www.bbc.co.uk/russian/international/20...   \n",
       "4                             [http://bit.ly/SqNvwO]   \n",
       "5                                               None   \n",
       "6                                               None   \n",
       "7                             [http://bit.ly/Z8nXUt]   \n",
       "8  [http://mobile.bbc.co.uk/russian/international...   \n",
       "9                                               None   \n",
       "\n",
       "                                          tweet_text tweet_language  \\\n",
       "0  Давайте перенесемся в 1991 год. Вспомним все н...             ru   \n",
       "1  \"\"\"Когда вы будете вводить демократию с помощь...            und   \n",
       "2  Царь в моей голове отрёкся от престола. Теперь...             ru   \n",
       "3  А завтра United States presidential election. ...            und   \n",
       "4  Барак Обама подписал «закон Магнитского» http:...             ru   \n",
       "5         \"\"\"Таким образом демократия не вводится\"\"\"            und   \n",
       "6  Достигнуты договоренности о сотрудничестве с «...            und   \n",
       "7  Обама посетит Россию в 2013 году http://t.co/v...            und   \n",
       "8  Первые демократические #выборы в #Пакистан'е п...             ru   \n",
       "9  Единый день голосования  - вот где демократия,...             ru   \n",
       "\n",
       "   like_count            hashtags  \n",
       "0           1                None  \n",
       "1           0                None  \n",
       "2           1       [ПозитивГода]  \n",
       "3           0     [USA, election]  \n",
       "4           0           [новости]  \n",
       "5           0                None  \n",
       "6           1                None  \n",
       "7           0           [новости]  \n",
       "8           0  [выборы, Пакистан]  \n",
       "9           0     [БолотныйТупик]  "
      ]
     },
     "execution_count": 46,
     "metadata": {},
     "output_type": "execute_result"
    }
   ],
   "source": [
    "# get the 10 (it could be more or less) most RT tweets for political period 1\n",
    "\n",
    "political_period_1_rt_counts_top_query =     \"\"\"SELECT tweetid,userid,retweet_count,tweet_time,urls,tweet_text,tweet_language,like_count,hashtags\n",
    "                                                FROM political_tweets_texts_p1_sql\n",
    "                                                ORDER BY retweet_count DESC\n",
    "                                                LIMIT 10\n",
    "                                             \"\"\"\n",
    "political_period_1_rt_counts_top_df = spark.sql(political_period_1_rt_counts_top_query)\n",
    "\n",
    "# to Pandas for further analysis\n",
    "political_period_1_rt_counts_top_pd = political_period_1_rt_counts_top_df.toPandas()\n",
    "\n",
    "# quick view on the users \n",
    "political_period_1_rt_counts_top_pd"
   ]
  },
  {
   "cell_type": "code",
   "execution_count": 47,
   "metadata": {},
   "outputs": [
    {
     "name": "stdout",
     "output_type": "stream",
     "text": [
      "1\n",
      "Давайте перенесемся в 1991 год. Вспомним все надежды, на демократию, Ельцина, радость от краха КПСС, и посмотрим на нашу действительность.\n",
      "2\n",
      "\"\"\"Когда вы будете вводить демократию с помощью оружия\n",
      "3\n",
      "Царь в моей голове отрёкся от престола. Теперь у меня демократия #ПозитивГода\n",
      "4\n",
      "А завтра United States presidential election. Рейтинги @BarackObama и @MittRomney практически равны http://t.co/abBeWx5z #USA #election\n",
      "5\n",
      "Барак Обама подписал «закон Магнитского» http://t.co/y7uYSKT1 #новости\n",
      "6\n",
      "\"\"\"Таким образом демократия не вводится\"\"\"\n",
      "7\n",
      "Достигнуты договоренности о сотрудничестве с «Лигой избирателей», «Демократической правовой Россией», «Открытой трибуной», обществ.деятелями\n",
      "8\n",
      "Обама посетит Россию в 2013 году http://t.co/vATDhr36 #новости\n",
      "9\n",
      "Первые демократические #выборы в #Пакистан'е прошли на фоне взрывов и стрельбы. Власти отмечают высокую явку http://t.co/r2ezTHKvLA\n",
      "10\n",
      "Единый день голосования  - вот где демократия, вот где нужно было вступать в конфронтацию с властью #БолотныйТупик\n"
     ]
    }
   ],
   "source": [
    "# print plain tweet text \n",
    "iterator = 1\n",
    "for elem in political_period_1_rt_counts_top_pd['tweet_text']:\n",
    "    print(iterator)\n",
    "    iterator=iterator+1\n",
    "    print(elem)"
   ]
  },
  {
   "cell_type": "markdown",
   "metadata": {},
   "source": [
    "Translation of symbolic tweets : \n",
    "\n",
    "-  first tweet : \"*Let's fast forward to 1991. Recall all hopes for democracy, Yeltsin, the joy of the collapse of the CPSU, and look at our reality.*\"\n",
    "- second tweet : \"*When will you introduce democracy with weapons?*\"\n",
    "- nineth tweet : \"*Obama fell off his bike and suffered responsibility for the & lt; & lt; terrorist attack & gt; & gt; a terrorist group from & lt; & lt; Al-Qaida;*\"\n",
    "\n",
    "Not all the tweets are related to Obama (some are about russian feelings) but the ones highlighted above are quite expressive. \n",
    "Trollers often use gross/violent language and send content of hate sometimes ($9th$ tweet)."
   ]
  },
  {
   "cell_type": "markdown",
   "metadata": {},
   "source": [
    "### Time window : Period 2 (*Hiring Time*)\n",
    "\n",
    "Recall : we observe increasing troll activity immediately time-correlated to the start of the well known armed conflict in Ukrainia. The semantic analysis performed above already showed the overall support tweets from IRA tried to send through. "
   ]
  },
  {
   "cell_type": "code",
   "execution_count": 48,
   "metadata": {},
   "outputs": [],
   "source": [
    "# select normal tweets of the current time period \n",
    "normal_tweets_p2_query = \"\"\"SELECT * \n",
    "                            FROM normal_tweets_sql\n",
    "                            WHERE tweet_time > \"2013-11-30\" AND tweet_time <= \"2014-05-31\"\n",
    "                        \"\"\"\n",
    "normal_tweets_p2_df  = spark.sql(normal_tweets_p2_query)\n",
    "\n",
    "normal_tweets_p2_df.createOrReplaceTempView(\"normal_tweets_p2_sql\")"
   ]
  },
  {
   "cell_type": "code",
   "execution_count": 49,
   "metadata": {},
   "outputs": [],
   "source": [
    "# group by week and sort by time \n",
    "normal_dates_w_p2_query = \"\"\"SELECT COUNT(tweetid) AS count,MAX(tweet_time) AS time \n",
    "                             FROM normal_tweets_p2_sql \n",
    "                             GROUP BY CAST(DATEDIFF(tweet_time,\"2013-12-01\")/7 AS int)\n",
    "                             ORDER BY time ASC\n",
    "                          \"\"\"\n",
    "normal_dates_w_p2_df = spark.sql(normal_dates_w_p2_query)\n",
    "\n",
    "# store as a Panda dataframe (very small, absolutely no problem with the memory)\n",
    "normal_dates_w_p2_pd = normal_dates_w_p2_df.toPandas()"
   ]
  },
  {
   "cell_type": "code",
   "execution_count": 50,
   "metadata": {},
   "outputs": [
    {
     "data": {
      "image/png": "[encoded data removed]",
      "text/plain": [
       "<Figure size 576x432 with 1 Axes>"
      ]
     },
     "metadata": {
      "needs_background": "light"
     },
     "output_type": "display_data"
    }
   ],
   "source": [
    "# plot intermediate results\n",
    "plt.figure(figsize=(8,6))\n",
    "plt.plot(normal_dates_w_p2_pd[\"time\"],normal_dates_w_p2_pd[\"count\"],color=\"forestgreen\",marker='+')\n",
    "war = normal_dates_w_p2_pd[(normal_dates_w_p2_pd.time>=\"2014-04-01\")]\n",
    "plt.plot(war[\"time\"],war[\"count\"],color=\"lightblue\",marker='o')\n",
    "plt.title('Evolution with time of the number of normal tweets sent by troll accounts')\n",
    "plt.grid()\n",
    "plt.xlabel('time (weeks spacing)')\n",
    "plt.ylabel('count')\n",
    "plt.legend(['period 2','start : War in Donbass'],loc=2);"
   ]
  },
  {
   "cell_type": "markdown",
   "metadata": {},
   "source": [
    "As [wikipedia/war in Donbass](https://en.wikipedia.org/wiki/War_in_Donbass) tells us. Ukraine's armed conflict started around March-April 2014, then with some latency trollers began their job apparently. Prior to those events a calm period had been observed, Ukrain's troubles seemed to trigger the trollers again.  "
   ]
  },
  {
   "cell_type": "markdown",
   "metadata": {},
   "source": [
    "### Time window :  Period 3 (*War in Donbass*)\n",
    "\n",
    "@comment"
   ]
  },
  {
   "cell_type": "markdown",
   "metadata": {},
   "source": [
    "### Time window :  Period 4 (*US 2016 Elections*)\n",
    "\n",
    "Let's now focus on the period of time corresponding to the whole presidential campaign (+ some time before as a flourishing speculative period)"
   ]
  },
  {
   "cell_type": "code",
   "execution_count": 51,
   "metadata": {},
   "outputs": [],
   "source": [
    "# select normal tweets of the current time period \n",
    "normal_tweets_p4_query = \"\"\"SELECT * \n",
    "                            FROM normal_tweets_sql\n",
    "                            WHERE tweet_time > \"2014-12-31\" AND tweet_time <= \"2016-11-07\"\n",
    "                        \"\"\"\n",
    "normal_tweets_p4_df  = spark.sql(normal_tweets_p4_query)\n",
    "\n",
    "normal_tweets_p4_df.createOrReplaceTempView(\"normal_tweets_p4_sql\")"
   ]
  },
  {
   "cell_type": "code",
   "execution_count": 52,
   "metadata": {},
   "outputs": [],
   "source": [
    "# group by week and sort by time \n",
    "normal_dates_w_p4_query = \"\"\"SELECT COUNT(tweetid) AS count,MAX(tweet_time) AS time \n",
    "                             FROM normal_tweets_p4_sql \n",
    "                             GROUP BY CAST(DATEDIFF(tweet_time,\"2014-12-31\")/7 AS int)\n",
    "                             ORDER BY time ASC\n",
    "                          \"\"\"\n",
    "normal_dates_w_p4_df = spark.sql(normal_dates_w_p4_query)\n",
    "\n",
    "# store as a Panda dataframe (very small, absolutely no problem with the memory)\n",
    "normal_dates_w_p4_pd = normal_dates_w_p4_df.toPandas()"
   ]
  },
  {
   "cell_type": "code",
   "execution_count": 78,
   "metadata": {},
   "outputs": [
    {
     "data": {
      "image/png": "[encoded data removed]",
      "text/plain": [
       "<Figure size 648x432 with 1 Axes>"
      ]
     },
     "metadata": {
      "needs_background": "light"
     },
     "output_type": "display_data"
    }
   ],
   "source": [
    "# plot intermediate results\n",
    "\n",
    "# /!\\ occured the 6th of June 2015\n",
    "peak_candidacy_trump = normal_dates_w_p4_pd[(normal_dates_w_p4_pd.time>=\"2015-06-09\") & (normal_dates_w_p4_pd.time<=\"2015-07-02\")]\n",
    "\n",
    "# /!\\ second republican debate held on 16th of Sep 2015\n",
    "peak_second_debate = normal_dates_w_p4_pd[(normal_dates_w_p4_pd.time>=\"2015-09-01\") & (normal_dates_w_p4_pd.time<=\"2015-10-02\")]\n",
    "\n",
    "# /!\\ first presidential debate (after primaires) on the 26 of september \n",
    "peak_first_pres_debate = normal_dates_w_p4_pd[(normal_dates_w_p4_pd.time>=\"2016-09-04\") & (normal_dates_w_p4_pd.time<=\"2016-10-05\")]\n",
    "\n",
    "# /!\\ Senate probes Loretta Lynch interference (Wikipedia) => H. Clinton's mails gate\n",
    "peak_mail_gate = normal_dates_w_p4_pd[(normal_dates_w_p4_pd.time>=\"2016-06-15\") & (normal_dates_w_p4_pd.time<=\"2016-07-15\")]\n",
    "\n",
    "plt.figure(figsize=(9,6))\n",
    "plt.plot(normal_dates_w_p4_pd[\"time\"],normal_dates_w_p4_pd[\"count\"],color=\"brown\",marker='+')\n",
    "plt.plot(peak_candidacy_trump[\"time\"],peak_candidacy_trump[\"count\"],color='yellowgreen',marker='o')\n",
    "plt.plot(peak_second_debate[\"time\"],peak_second_debate[\"count\"],color='lightblue',marker='o')\n",
    "plt.plot(peak_first_pres_debate[\"time\"],peak_first_pres_debate[\"count\"],color='magenta',marker=\"o\")\n",
    "plt.plot(peak_mail_gate[\"time\"],peak_mail_gate[\"count\"],color=\"salmon\",marker='o')\n",
    "plt.title('Evolution with time of the number of normal tweets sent by troll accounts')\n",
    "plt.grid()\n",
    "plt.xlabel('time (weeks spacing)')\n",
    "plt.ylabel('count')\n",
    "plt.legend(['period 4','peak Trump candicacy','second republican debate','first presidential debate','Mail\"s gate : Comey testifies'],loc=1);"
   ]
  },
  {
   "cell_type": "markdown",
   "metadata": {},
   "source": [
    "(For the explanation of the detected peaks, please refer to the second graph about directly politically related tweets.)\n",
    "\n",
    "We can see that peaks of the second graph do not always match with the most prominent peaks within the overall frequency distribution of troll tweets (presence of other topics !)"
   ]
  },
  {
   "cell_type": "code",
   "execution_count": 54,
   "metadata": {},
   "outputs": [],
   "source": [
    "# get texts of the normal tweets corresponding to period 4\n",
    "normal_tweets_texts_p4_query = \"\"\" SELECT normal_tweets_p4_sql.tweetid,tweet_language,tweet_text,userid,tweet_time,like_count,retweet_count,hashtags,urls\n",
    "                                   FROM tweets_text_sql JOIN normal_tweets_p4_sql ON tweets_text_sql.tweetid == normal_tweets_p4_sql.tweetid\n",
    "                               \"\"\"\n",
    "\n",
    "normal_tweets_texts_p4_df = spark.sql(normal_tweets_texts_p4_query)\n",
    "\n",
    "## Parquet transformation \n",
    "\n",
    "# @comment if Parquet already built\n",
    "#normal_tweets_texts_p4_df.write.mode('overwrite').parquet(\"normal_tweets_texts_p4_df\")\n",
    "\n",
    "normal_tweets_texts_p4_df = spark.read.parquet(\"normal_tweets_texts_p4_df\")\n",
    "\n",
    "# replace/update previous Spark SQL temporary view\n",
    "normal_tweets_texts_p4_df.createOrReplaceTempView(\"normal_tweets_texts_p4_sql\")"
   ]
  },
  {
   "cell_type": "markdown",
   "metadata": {},
   "source": [
    "Let's now investigate the correlations between events of actuality and short period aggregated troll tweets counts (overall and/or politically related). \n",
    "\n",
    "In order to detect politically related tweets we also need to store some obvious stop words."
   ]
  },
  {
   "cell_type": "code",
   "execution_count": 55,
   "metadata": {},
   "outputs": [],
   "source": [
    "stop_words_political = ['donald','trump','дональд','трамп','hillary','clinton','хиллари','клинтон',\\\n",
    "                        'barack','obama','барак','обама','republican','республиканец','democrat','демократ',\\\n",
    "                        'presidential','elections','выборы','президента','votes','голосов','fake news','fakenews','поддельные',\\\n",
    "                       'новости']"
   ]
  },
  {
   "cell_type": "code",
   "execution_count": 56,
   "metadata": {},
   "outputs": [],
   "source": [
    "# filter with political stop words \n",
    "political_normal_tweets_texts_p4_df = normal_tweets_texts_p4_df.rdd.filter(lambda x: any(word in x.tweet_text for word in stop_words_political))\n",
    "\n",
    "# @comment if Parquet already built\n",
    "# political_normal_tweets_texts_p4_df.toDF().write.mode('overwrite').parquet(\"political_tweets_texts_p4_df\")\n",
    "\n",
    "political_normal_tweets_texts_p4_df = spark.read.parquet(\"political_tweets_texts_p4_df\")"
   ]
  },
  {
   "cell_type": "code",
   "execution_count": 57,
   "metadata": {},
   "outputs": [],
   "source": [
    "political_normal_tweets_texts_p4_df.createOrReplaceTempView(\"political_normal_tweets_p4_sql\")\n",
    "\n",
    "# group and count by weeks (only the weeks of interest corresponding to the current time window) \n",
    "political_normal_dates_w_p4_query =   \"\"\"SELECT COUNT(tweetid) AS count,MAX(tweet_time) AS time \n",
    "                                         FROM political_normal_tweets_p4_sql \n",
    "                                         GROUP BY CAST(DATEDIFF(tweet_time,\"2014-12-31\")/7 AS int)\n",
    "                                         ORDER BY time ASC\n",
    "                                      \"\"\"\n",
    "political_normal_dates_w_p4_df = spark.sql(political_normal_dates_w_p4_query)\n",
    "\n",
    "# store as a Panda dataframe (very small, absolutely no problem with the memory)\n",
    "political_normal_dates_w_p4_pd = political_normal_dates_w_p4_df.toPandas()"
   ]
  },
  {
   "cell_type": "code",
   "execution_count": 77,
   "metadata": {},
   "outputs": [
    {
     "data": {
      "image/png": "[encoded data removed]",
      "text/plain": [
       "<Figure size 576x432 with 1 Axes>"
      ]
     },
     "metadata": {
      "needs_background": "light"
     },
     "output_type": "display_data"
    }
   ],
   "source": [
    "# plotting time\n",
    "\n",
    "# /!\\ occured the 6th of June 2015\n",
    "peak_candidacy_trump = political_normal_dates_w_p4_pd[(political_normal_dates_w_p4_pd.time>=\"2015-06-09\") & (political_normal_dates_w_p4_pd.time<=\"2015-07-02\")]\n",
    "\n",
    "# /!\\ second republican debate held on 16th of Sep 2015\n",
    "peak_second_debate = political_normal_dates_w_p4_pd[(political_normal_dates_w_p4_pd.time>=\"2015-09-01\") & (political_normal_dates_w_p4_pd.time<=\"2015-10-02\")]\n",
    "\n",
    "# /!\\ first presidential debate (after primaires) on the 26 of september \n",
    "peak_first_pres_debate = political_normal_dates_w_p4_pd[(political_normal_dates_w_p4_pd.time>=\"2016-09-04\") & (political_normal_dates_w_p4_pd.time<=\"2016-10-05\")]\n",
    "\n",
    "# /!\\ Senate probes Loretta Lynch interference (Wikipedia) => H. Clinton's mails gate\n",
    "peak_mail_gate = political_normal_dates_w_p4_pd[(political_normal_dates_w_p4_pd.time>=\"2016-06-10\") & (political_normal_dates_w_p4_pd.time<=\"2016-07-15\")]\n",
    "\n",
    "plt.figure(figsize=(8,6))\n",
    "plt.plot(political_normal_dates_w_p4_pd[\"time\"],political_normal_dates_w_p4_pd[\"count\"],color=\"brown\",marker='+')\n",
    "plt.plot(peak_candidacy_trump[\"time\"],peak_candidacy_trump[\"count\"],color='yellowgreen',marker='o')\n",
    "plt.plot(peak_second_debate[\"time\"],peak_second_debate[\"count\"],color='lightblue',marker='o')\n",
    "plt.plot(peak_first_pres_debate[\"time\"],peak_first_pres_debate[\"count\"],color='magenta',marker='o')\n",
    "plt.plot(peak_mail_gate[\"time\"],peak_mail_gate[\"count\"],color=\"salmon\",marker='o')\n",
    "plt.title('Evolution with time of the number of direct political normal tweets sent by troll accounts')\n",
    "plt.grid()\n",
    "plt.xlabel('time (weeks spacing)')\n",
    "plt.ylabel('count')\n",
    "plt.legend(['political period 4','peak Trump candicacy','second republican debate','first presidential debate','Mail\"s gate : Comey testifies'],loc=1);"
   ]
  },
  {
   "cell_type": "markdown",
   "metadata": {},
   "source": [
    "We have succeeded in spotting some peaks immediately related to campaign's events ! \n",
    "\n",
    "Now, in order to get a **qualitative** effect of the trolls tweets we will display : \n",
    "\n",
    "                - intentions of vote (polls) and directly politically related tweets vs. time\n",
    "                \n",
    "and in order to get a **quantitatitve** effect of the prolls tweets we compute :\n",
    "\n",
    "                 - aggregated sentimental scores per week and per opponent (Trump vs. Clinton)."
   ]
  },
  {
   "cell_type": "markdown",
   "metadata": {},
   "source": [
    "Since this is the period that interests us the most to talk about we scrapped data from a popularity/intention of votes analysis from . We put side to side the volume of direct political troll tweets and the polls ([realclearpolitics/polls](https://www.realclearpolitics.com/epolls/latest_polls/president/#) starting within the primaries of US 2016 elections) for both H. Clinton and D.J Trump. "
   ]
  },
  {
   "cell_type": "code",
   "execution_count": 59,
   "metadata": {},
   "outputs": [],
   "source": [
    "# import intentions of vote during and after primaries\n",
    "ap_clinton_trump_votes = pd.read_excel(DATA_DIR+'trump_hillary.xlsx')"
   ]
  },
  {
   "cell_type": "code",
   "execution_count": 60,
   "metadata": {},
   "outputs": [],
   "source": [
    "# time spacing with 1st of april (date for which our dataset scrapped begins)\n",
    "datelist = pd.date_range(\"2016-04-01\", periods=221).tolist()"
   ]
  },
  {
   "cell_type": "code",
   "execution_count": 61,
   "metadata": {},
   "outputs": [],
   "source": [
    "# focus on the last months (days) of the elections (only getting direct politically related tweets) \n",
    "political_normal_dates_ap_d_p4_query =    \"\"\"SELECT COUNT(tweetid) AS count,MAX(tweet_time) AS time \n",
    "                                             FROM political_normal_tweets_p4_sql \n",
    "                                             WHERE tweet_time >=\"2016-03-01\"\n",
    "                                             GROUP BY YEAR(tweet_time),MONTH(tweet_time),DAY(tweet_time)\n",
    "                                             ORDER BY YEAR(tweet_time),MONTH(tweet_time),DAY(tweet_time) ASC\n",
    "                                          \"\"\"\n",
    "political_normal_dates_ap_d_p4_df = spark.sql(political_normal_dates_ap_d_p4_query)\n",
    "\n",
    "# store as a Panda dataframe (very small, absolutely no problem with the memory)\n",
    "political_normal_dates_ap_d_p4_pd = political_normal_dates_ap_d_p4_df.toPandas()"
   ]
  },
  {
   "cell_type": "code",
   "execution_count": 62,
   "metadata": {},
   "outputs": [
    {
     "data": {
      "image/png": "[encoded data removed]",
      "text/plain": [
       "<Figure size 576x432 with 2 Axes>"
      ]
     },
     "metadata": {},
     "output_type": "display_data"
    },
    {
     "name": "stdout",
     "output_type": "stream",
     "text": [
      "Vote Intentions & Directly Politically related Tweets vs. Time\n"
     ]
    }
   ],
   "source": [
    "# https://matplotlib.org/gallery/api/two_scales.html\n",
    "\n",
    "fig, ax1 = plt.subplots(figsize=(8,6))\n",
    "\n",
    "color = 'grey'\n",
    "ax1.set_xlabel('time (days spacing)')\n",
    "ax1.set_ylabel('count', color= \"black\")\n",
    "ax1.plot(political_normal_dates_ap_d_p4_pd['time'], political_normal_dates_ap_d_p4_pd['count'], color='grey')\n",
    "ax1.tick_params(axis='y', labelcolor=\"black\")\n",
    "\n",
    "ax1.grid()\n",
    "ax2 = ax1.twinx()  # instantiate a second axis that shares the same x-axis\n",
    "\n",
    "ax2.set_ylabel('vote intentions', color=color) \n",
    "ax2.plot(datelist,ap_clinton_trump_votes['Trump'], color=\"red\",marker='+')\n",
    "ax2.plot(datelist,ap_clinton_trump_votes['Hillary'], color=\"blue\",marker='+')\n",
    "ax2.tick_params(axis='y', labelcolor=color)\n",
    "ax2.legend(['Trump','Clinton'],loc=0)\n",
    "\n",
    "fig.tight_layout()  # otherwise the right y-label is slightly clipped\n",
    "plt.show()\n",
    "print('Vote Intentions & Directly Politically related Tweets vs. Time')"
   ]
  },
  {
   "cell_type": "markdown",
   "metadata": {},
   "source": [
    "Unfortunately we cannot assess a direct link between politically related tweets (in overall) and the intention of votes... \n",
    "A lot of different social media sources must be taken into account, it's really hard to get significant results only based on the given datasets. Most of the interesting statistics about social influence / popularity scores ... etc are chargeable (you must pay for them), also we should have had access to studies (for instance the studies used by [paper/AllCott-US2016-fakeNews](https://www.aeaweb.org/articles?id=10.1257/jep.31.2.211) to get an insight on how are people affected by the presence of the well established troll tweets. \n",
    "\n",
    "The existence of trolls is undeniable (examples are to follow below) but their spread to american citizens (or more globally, for all tweets' topics, human beings) is really tough. Nevertheless we can try to quantify the hatred leaning of the tweets themselves ; it will give us informations about how ***could*** be affected the people who read them ! "
   ]
  },
  {
   "cell_type": "markdown",
   "metadata": {},
   "source": [
    "Here below one can find, along a timeline, the results of the *vader* sentimental analysis. "
   ]
  },
  {
   "cell_type": "code",
   "execution_count": 63,
   "metadata": {},
   "outputs": [],
   "source": [
    "# read of Parquet files about sentiment analysis => only reported english written tweets\n",
    "\n",
    "neg_hillary_vader = spark.read.parquet(\"neg_hillary_vader\")\n",
    "neg_trump_vader = spark.read.parquet(\"neg_trump_vader\")\n",
    "neg_obama_vader = spark.read.parquet(\"neg_obama_vader\")\n",
    "\n",
    "pos_hillary_vader = spark.read.parquet(\"pos_hillary_vader\")\n",
    "pos_trump_vader = spark.read.parquet(\"pos_trump_vader\")\n",
    "pos_obama_vader = spark.read.parquet(\"pos_obama_vader\")"
   ]
  },
  {
   "cell_type": "markdown",
   "metadata": {},
   "source": [
    "After the sentimental analysis of tweets written in **english** : \n",
    "- identified (positively or negatively) troll tweets about either *D.J. Trump*, *B. Obama* and *H. Clinton* are joined to their user, retweet_counts, ... etc "
   ]
  },
  {
   "cell_type": "code",
   "execution_count": 64,
   "metadata": {},
   "outputs": [],
   "source": [
    "def rejoin_query(name):\n",
    "    return \"\"\"SELECT normal_tweets_sql.tweetid,userid,tweet_time,in_reply_to_userid,quoted_tweet_tweetid,quote_count,reply_count,like_count,retweet_count,hashtags,urls,user_mentions,poll_choices FROM normal_tweets_sql JOIN \"\"\" +name+ \" ON normal_tweets_sql.tweetid == \"+name+\".tweetid\"\n",
    "\n",
    "neg_hillary_vader.createOrReplaceTempView(\"neg_hillary_vader_sql\")\n",
    "neg_trump_vader.createOrReplaceTempView(\"neg_trump_vader_sql\")\n",
    "neg_obama_vader.createOrReplaceTempView(\"neg_obama_vader_sql\")\n",
    "\n",
    "pos_hillary_vader.createOrReplaceTempView(\"pos_hillary_vader_sql\")\n",
    "pos_trump_vader.createOrReplaceTempView(\"pos_trump_vader_sql\")\n",
    "pos_obama_vader.createOrReplaceTempView(\"pos_obama_vader_sql\")\n",
    "\n",
    "## HILLARY CLINTON \n",
    "\n",
    "neg_hillary_vader_df = spark.sql(rejoin_query(\"neg_hillary_vader_sql\"))\n",
    "# @comment if Parquet already built\n",
    "#neg_hillary_vader_df.write.mode('overwrite').parquet(\"neg_hil_vader\")\n",
    "neg_hillary_vader_df = spark.read.parquet(\"neg_hil_vader\")\n",
    "\n",
    "pos_hillary_vader_df = spark.sql(rejoin_query(\"pos_hillary_vader_sql\"))\n",
    "# @comment if Parquet already built\n",
    "#pos_hillary_vader_df.write.mode('overwrite').parquet(\"pos_hil_vader\")\n",
    "pos_hillary_vader_df = spark.read.parquet(\"pos_hil_vader\")\n",
    "\n",
    "## BARACK OBAMA\n",
    "\n",
    "neg_obama_vader_df = spark.sql(rejoin_query(\"neg_obama_vader_sql\"))\n",
    "# @comment if Parquet already built\n",
    "#neg_obama_vader_df.write.mode('overwrite').parquet(\"neg_oba_vader\")\n",
    "neg_obama_vader_df = spark.read.parquet(\"neg_oba_vader\")\n",
    "\n",
    "pos_obama_vader_df = spark.sql(rejoin_query(\"pos_obama_vader_sql\"))\n",
    "# @comment if Parquet already built\n",
    "#pos_obama_vader_df.write.mode('overwrite').parquet(\"pos_oba_vader\")\n",
    "pos_obama_vader_df = spark.read.parquet(\"pos_oba_vader\")\n",
    "\n",
    "## DONALD TRUMP\n",
    "\n",
    "neg_trump_vader_df = spark.sql(rejoin_query(\"neg_trump_vader_sql\"))\n",
    "# @comment if Parquet already built\n",
    "#neg_trump_vader_df.write.mode('overwrite').parquet(\"neg_tru_vader\")\n",
    "neg_trump_vader_df = spark.read.parquet(\"neg_tru_vader\")\n",
    "\n",
    "pos_trump_vader_df = spark.sql(rejoin_query(\"pos_trump_vader_sql\"))\n",
    "# @comment if Parquet already built\n",
    "#pos_trump_vader_df.write.mode('overwrite').parquet(\"pos_tru_vader\")\n",
    "pos_trump_vader_df = spark.read.parquet(\"pos_tru_vader\")"
   ]
  },
  {
   "cell_type": "markdown",
   "metadata": {},
   "source": [
    "Let's sort and group them by week using integrated/built-in Panda's time window slicer. "
   ]
  },
  {
   "cell_type": "code",
   "execution_count": 65,
   "metadata": {},
   "outputs": [],
   "source": [
    "grouped_pos_hillary_vader_w_pd = pos_hillary_vader_df.select(pos_hillary_vader_df.tweet_time,pos_hillary_vader_df.tweetid).toPandas()\\\n",
    "                                                 .set_index('tweet_time').resample('W',how='count')\n",
    "grouped_neg_hillary_vader_w_pd = neg_hillary_vader_df.select(neg_hillary_vader_df.tweet_time,neg_hillary_vader_df.tweetid).toPandas()\\\n",
    "                                                 .set_index('tweet_time').resample('W',how='count')\n",
    "\n",
    "grouped_pos_obama_vader_w_pd = pos_obama_vader_df.select(pos_obama_vader_df.tweet_time,pos_obama_vader_df.tweetid).toPandas()\\\n",
    "                                                 .set_index('tweet_time').resample('W',how='count')\n",
    "grouped_neg_obama_vader_w_pd = neg_obama_vader_df.select(neg_obama_vader_df.tweet_time,neg_obama_vader_df.tweetid).toPandas()\\\n",
    "                                                 .set_index('tweet_time').resample('W',how='count')\n",
    "\n",
    "grouped_pos_trump_vader_w_pd = pos_trump_vader_df.select(pos_trump_vader_df.tweet_time,pos_trump_vader_df.tweetid).toPandas()\\\n",
    "                                                 .set_index('tweet_time').resample('W',how='count')\n",
    "grouped_neg_trump_vader_w_pd = neg_trump_vader_df.select(neg_trump_vader_df.tweet_time,neg_trump_vader_df.tweetid).toPandas()\\\n",
    "                                                 .set_index('tweet_time').resample('W',how='count')"
   ]
  },
  {
   "cell_type": "markdown",
   "metadata": {},
   "source": [
    "Now we are all set-up to make all the necessary plots for the temporal analysis of the sentimental analysis. "
   ]
  },
  {
   "cell_type": "code",
   "execution_count": 66,
   "metadata": {},
   "outputs": [
    {
     "data": {
      "image/png": "[encoded data removed]",
      "text/plain": [
       "<Figure size 576x432 with 1 Axes>"
      ]
     },
     "metadata": {
      "needs_background": "light"
     },
     "output_type": "display_data"
    }
   ],
   "source": [
    "# global evolution of sentiment analysis => positive identified tweets for Clinton, Obama, Trump\n",
    "plt.figure(figsize=(8,6))\n",
    "plt.plot(grouped_pos_obama_vader_w_pd,color=\"grey\",ls=\"-\")\n",
    "plt.plot(grouped_pos_trump_vader_w_pd,color=\"red\",ls=\"-\")\n",
    "plt.plot(grouped_pos_hillary_vader_w_pd,color=\"blue\",ls=\"-\")\n",
    "plt.title('Evolution with time of the number of so called \"sentimental\" tweets')\n",
    "plt.grid()\n",
    "plt.xlabel('time (weeks spacing)')\n",
    "plt.ylabel('count')\n",
    "plt.legend(['naive Obama (+)','naive Trump (+)','naive Clinton (+)'],loc=2);"
   ]
  },
  {
   "cell_type": "code",
   "execution_count": 67,
   "metadata": {},
   "outputs": [
    {
     "data": {
      "image/png": "[encoded data removed]",
      "text/plain": [
       "<Figure size 576x432 with 1 Axes>"
      ]
     },
     "metadata": {
      "needs_background": "light"
     },
     "output_type": "display_data"
    }
   ],
   "source": [
    "# global evolution of sentiment analysis => negative identified tweets for Clinton, Obama, Trump\n",
    "plt.figure(figsize=(8,6))\n",
    "plt.plot(grouped_neg_obama_vader_w_pd,color=\"grey\",ls=\"-\")\n",
    "plt.plot(grouped_neg_trump_vader_w_pd,color=\"red\",ls=\"-\")\n",
    "plt.plot(grouped_neg_hillary_vader_w_pd,color=\"blue\",ls=\"-\")\n",
    "plt.title('Evolution with time of the number of so called \"sentimental\" tweets')\n",
    "plt.grid()\n",
    "plt.xlabel('time (weeks spacing)')\n",
    "plt.ylabel('count')\n",
    "#plt.legend(['naive Obama','naive Trump','naive Clinton'],loc=2);\n",
    "plt.legend(['vader Obama (-)','vader Trump (-)','vader Clinton (-)'],loc=2);"
   ]
  },
  {
   "cell_type": "markdown",
   "metadata": {},
   "source": [
    "The *sentiment delta* is the difference between the counted *vader*-positive tweets for a candidate and the counted *vader*-negative tweets . \n",
    "\n",
    "As a reminder, *vader* is the tool used for our sentimental analysis : [github/vader](https://github.com/cjhutto/vaderSentiment)"
   ]
  },
  {
   "cell_type": "code",
   "execution_count": 68,
   "metadata": {},
   "outputs": [
    {
     "data": {
      "image/png": "[encoded data removed]",
      "text/plain": [
       "<Figure size 576x432 with 1 Axes>"
      ]
     },
     "metadata": {
      "needs_background": "light"
     },
     "output_type": "display_data"
    }
   ],
   "source": [
    "# get the difference between weekly aggregated sentimentally positive and negative number of troll tweets\n",
    "delta_vader_trump_elections = grouped_pos_trump_vader_w_pd-grouped_neg_trump_vader_w_pd\n",
    "delta_vader_hillary_elections = grouped_pos_hillary_vader_w_pd-grouped_neg_hillary_vader_w_pd\n",
    " \n",
    "plt.figure(figsize=(8,6))\n",
    "plt.plot(delta_vader_hillary_elections.loc[:\"2016-12-01\"],color=\"blue\",ls=\"--\")\n",
    "plt.plot(delta_vader_trump_elections.loc[:\"2016-12-01\"],color=\"red\",ls=\"--\")\n",
    "plt.title('Evolution with time of the \"sentiment delta\" of so called \"sentimental\" tweets')\n",
    "plt.grid()\n",
    "plt.xlabel('time (weeks spacing)')\n",
    "plt.ylabel('count')\n",
    "plt.legend(['vader delta Clinton','vader delta Trump'],loc=1);"
   ]
  },
  {
   "cell_type": "markdown",
   "metadata": {},
   "source": [
    "Focusing on the entire US 2016 presidential campaign and looking at summary statistics, we actually find out that *Trump* is slightly supported by the troll tweets with respect to Hillary which is, in average, disapproved.\n",
    "\n",
    "Of course, one has to remain careful while reading those stats since the undertaken sentimental analysis isn't a pure science yet : quite heuristic!\n",
    "\n",
    "For instance, the trends are too hard to catch and we cannot really tell *how did the strategy of troll accounts vary over time*."
   ]
  },
  {
   "cell_type": "code",
   "execution_count": 69,
   "metadata": {},
   "outputs": [
    {
     "data": {
      "text/html": [
       "<div>\n",
       "<style scoped>\n",
       "    .dataframe tbody tr th:only-of-type {\n",
       "        vertical-align: middle;\n",
       "    }\n",
       "\n",
       "    .dataframe tbody tr th {\n",
       "        vertical-align: top;\n",
       "    }\n",
       "\n",
       "    .dataframe thead th {\n",
       "        text-align: right;\n",
       "    }\n",
       "</style>\n",
       "<table border=\"1\" class=\"dataframe\">\n",
       "  <thead>\n",
       "    <tr style=\"text-align: right;\">\n",
       "      <th></th>\n",
       "      <th>tweetid</th>\n",
       "    </tr>\n",
       "  </thead>\n",
       "  <tbody>\n",
       "    <tr>\n",
       "      <th>count</th>\n",
       "      <td>99.000000</td>\n",
       "    </tr>\n",
       "    <tr>\n",
       "      <th>mean</th>\n",
       "      <td>-3.151515</td>\n",
       "    </tr>\n",
       "    <tr>\n",
       "      <th>std</th>\n",
       "      <td>14.054822</td>\n",
       "    </tr>\n",
       "    <tr>\n",
       "      <th>min</th>\n",
       "      <td>-54.000000</td>\n",
       "    </tr>\n",
       "    <tr>\n",
       "      <th>25%</th>\n",
       "      <td>-9.500000</td>\n",
       "    </tr>\n",
       "    <tr>\n",
       "      <th>50%</th>\n",
       "      <td>0.000000</td>\n",
       "    </tr>\n",
       "    <tr>\n",
       "      <th>75%</th>\n",
       "      <td>3.000000</td>\n",
       "    </tr>\n",
       "    <tr>\n",
       "      <th>max</th>\n",
       "      <td>28.000000</td>\n",
       "    </tr>\n",
       "  </tbody>\n",
       "</table>\n",
       "</div>"
      ],
      "text/plain": [
       "         tweetid\n",
       "count  99.000000\n",
       "mean   -3.151515\n",
       "std    14.054822\n",
       "min   -54.000000\n",
       "25%    -9.500000\n",
       "50%     0.000000\n",
       "75%     3.000000\n",
       "max    28.000000"
      ]
     },
     "execution_count": 69,
     "metadata": {},
     "output_type": "execute_result"
    }
   ],
   "source": [
    "delta_vader_hillary_elections.loc[:\"2016-12-01\"].describe()"
   ]
  },
  {
   "cell_type": "code",
   "execution_count": 70,
   "metadata": {},
   "outputs": [
    {
     "data": {
      "text/html": [
       "<div>\n",
       "<style scoped>\n",
       "    .dataframe tbody tr th:only-of-type {\n",
       "        vertical-align: middle;\n",
       "    }\n",
       "\n",
       "    .dataframe tbody tr th {\n",
       "        vertical-align: top;\n",
       "    }\n",
       "\n",
       "    .dataframe thead th {\n",
       "        text-align: right;\n",
       "    }\n",
       "</style>\n",
       "<table border=\"1\" class=\"dataframe\">\n",
       "  <thead>\n",
       "    <tr style=\"text-align: right;\">\n",
       "      <th></th>\n",
       "      <th>tweetid</th>\n",
       "    </tr>\n",
       "  </thead>\n",
       "  <tbody>\n",
       "    <tr>\n",
       "      <th>count</th>\n",
       "      <td>97.000000</td>\n",
       "    </tr>\n",
       "    <tr>\n",
       "      <th>mean</th>\n",
       "      <td>1.525773</td>\n",
       "    </tr>\n",
       "    <tr>\n",
       "      <th>std</th>\n",
       "      <td>50.821192</td>\n",
       "    </tr>\n",
       "    <tr>\n",
       "      <th>min</th>\n",
       "      <td>-127.000000</td>\n",
       "    </tr>\n",
       "    <tr>\n",
       "      <th>25%</th>\n",
       "      <td>-17.000000</td>\n",
       "    </tr>\n",
       "    <tr>\n",
       "      <th>50%</th>\n",
       "      <td>0.000000</td>\n",
       "    </tr>\n",
       "    <tr>\n",
       "      <th>75%</th>\n",
       "      <td>10.000000</td>\n",
       "    </tr>\n",
       "    <tr>\n",
       "      <th>max</th>\n",
       "      <td>362.000000</td>\n",
       "    </tr>\n",
       "  </tbody>\n",
       "</table>\n",
       "</div>"
      ],
      "text/plain": [
       "          tweetid\n",
       "count   97.000000\n",
       "mean     1.525773\n",
       "std     50.821192\n",
       "min   -127.000000\n",
       "25%    -17.000000\n",
       "50%      0.000000\n",
       "75%     10.000000\n",
       "max    362.000000"
      ]
     },
     "execution_count": 70,
     "metadata": {},
     "output_type": "execute_result"
    }
   ],
   "source": [
    "delta_vader_trump_elections.loc[:\"2016-12-01\"].describe()"
   ]
  },
  {
   "cell_type": "markdown",
   "metadata": {},
   "source": [
    "Let's get some basic statistics about the feature *retweet_count* of the *normal_tweets* of the current period. \n",
    "\n",
    "Again, we would like to evaluate/assess the importance of troll tweets. We do not dispose of view counts for such tweets but what can be sure about is that there exists a correlation between the number of views and the number of retweets (the more a post is retweeted, the more likely that it reaches more and more people across the internet).\n",
    "\n",
    "Summary statistics of *retweet_count*  vs. statistics of typical 'popular' tweets on Twitter to get a kind of 'popularity scale'. Of course we have to be careful with the data we're dealing with : there might be some automatic retweet nested chains that would bias those results. We conducted some experiments about the links of troll accounts between them by a graph-links analysis. "
   ]
  },
  {
   "cell_type": "code",
   "execution_count": 71,
   "metadata": {},
   "outputs": [
    {
     "name": "stdout",
     "output_type": "stream",
     "text": [
      "Summary statistics for RT counts for period 4 normal_tweets : \n",
      "--------------------------------------------------------------\n",
      "+-------+-----------------+\n",
      "|summary|         retweets|\n",
      "+-------+-----------------+\n",
      "|  count|          2250731|\n",
      "|   mean|5.028659133410434|\n",
      "| stddev|99.28903534679117|\n",
      "|    min|                0|\n",
      "|    max|            97498|\n",
      "+-------+-----------------+\n",
      "\n",
      "approx. 1st quarter quantile : 0.0 for relative error of 0.001\n",
      "approx. median : 0.0 for relative error of 0.001\n",
      "approx. 3rd quarter quantile : 1.0 for relative error of 0.001\n"
     ]
    }
   ],
   "source": [
    "# get only the retweets counts \n",
    "period_4_rt_counts_query = \"\"\"SELECT retweet_count AS retweets\n",
    "                              FROM normal_tweets_p4_sql\n",
    "                           \"\"\"\n",
    "period_4_rt_counts_df = spark.sql(period_4_rt_counts_query)\n",
    "\n",
    "# relative error tolerance for median computation \n",
    "tol = 0.001\n",
    "\n",
    "print('Summary statistics for RT counts for period 4 normal_tweets : ')\n",
    "print('--------------------------------------------------------------')\n",
    "period_4_rt_counts_df.select('retweets').describe().show()\n",
    "print('approx. 1st quarter quantile : '+str(period_4_rt_counts_df.approxQuantile('retweets',[0.25],tol)[0])+\\\n",
    "      ' for relative error of '+str(tol))\n",
    "print('approx. median : '+str(period_4_rt_counts_df.approxQuantile('retweets',[0.5],tol)[0])+\\\n",
    "      ' for relative error of '+str(tol))\n",
    "print('approx. 3rd quarter quantile : '+str(period_4_rt_counts_df.approxQuantile('retweets',[0.75],tol)[0])+\\\n",
    "      ' for relative error of '+str(tol))"
   ]
  },
  {
   "cell_type": "markdown",
   "metadata": {},
   "source": [
    "$\\Rightarrow$  *stddev* is huge and mean is well above 3rd quantile, those statistics seem to indicate a ***power law*** distribution. "
   ]
  },
  {
   "cell_type": "code",
   "execution_count": 79,
   "metadata": {},
   "outputs": [
    {
     "data": {
      "image/png": "[encoded data removed]",
      "text/plain": [
       "<Figure size 432x288 with 1 Axes>"
      ]
     },
     "metadata": {
      "needs_background": "light"
     },
     "output_type": "display_data"
    }
   ],
   "source": [
    "# let's discover the number of normal tweets that were RT more than 10 times for this period\n",
    "period_4_rt_counts_sup1_query = \"\"\"SELECT retweet_count AS retweets\n",
    "                                   FROM normal_tweets_p4_sql\n",
    "                                   WHERE retweet_count>=1\n",
    "                                \"\"\"\n",
    "period_4_rt_counts_sup1_df = spark.sql(period_4_rt_counts_sup1_query)\n",
    "\n",
    "# => RT count distribution\n",
    "\n",
    "## log scale - truncated\n",
    "\n",
    "# plot purpose  \n",
    "plt.figure(1)\n",
    "nbins_global = 100\n",
    "sns.distplot(period_4_rt_counts_sup1_df.select('retweets').toPandas().apply(lambda x: np.log10(x)),\\\n",
    "             bins = nbins_global, norm_hist = False, kde = False)\n",
    "plt.title('distribution of the frequency (>=1) of the number of RT in period 3D : ' +\\\n",
    "          str(nbins_global)+' bins')\n",
    "plt.xlabel('# of retweets (log scale)')\n",
    "plt.ylabel('Frequency')\n",
    "plt.grid()\n",
    "plt.legend(['histogram']);"
   ]
  },
  {
   "cell_type": "markdown",
   "metadata": {},
   "source": [
    "Among the tweets RT more than $x=10$ times, we can observe the tail under the scope of a zoom ! "
   ]
  },
  {
   "cell_type": "code",
   "execution_count": 80,
   "metadata": {},
   "outputs": [
    {
     "data": {
      "image/png": "[encoded data removed]",
      "text/plain": [
       "<Figure size 432x288 with 1 Axes>"
      ]
     },
     "metadata": {
      "needs_background": "light"
     },
     "output_type": "display_data"
    }
   ],
   "source": [
    "# let's discover the number of normal tweets that were RT more than 10 times for this period\n",
    "period_4_rt_counts_sup10_query = \"\"\"SELECT retweet_count AS retweets\n",
    "                                    FROM normal_tweets_p4_sql\n",
    "                                    WHERE retweet_count>=10 \n",
    "                                 \"\"\"\n",
    "period_4_rt_counts_sup10_df = spark.sql(period_4_rt_counts_sup10_query)\n",
    "\n",
    "# => RT count distribution\n",
    "\n",
    "## log scale - truncated\n",
    "\n",
    "# plot purpose  \n",
    "plt.figure(1)\n",
    "nbins_global = 100\n",
    "sns.distplot(period_4_rt_counts_sup10_df.select('retweets').toPandas().apply(lambda x: np.log10(x)),\\\n",
    "             bins = nbins_global, norm_hist = False, kde = False)\n",
    "plt.title('ZOOM : distribution of the frequency (>=10) of the number of RT in period 3D : ' +\\\n",
    "          str(nbins_global)+' bins')\n",
    "plt.xlabel('# of retweets (log scale)')\n",
    "plt.ylabel('Frequency')\n",
    "plt.grid()\n",
    "plt.legend(['histogram']);"
   ]
  },
  {
   "cell_type": "markdown",
   "metadata": {},
   "source": [
    "Unfortunately, troll tweets don't seem to differ from the general shape of the frequency count of RT of tweets. \n",
    "\n",
    "Indeed, it's actually a well known fact that RT counts follow power laws [paper/example](https://www.sciencedirect.com/science/article/pii/S1877050914005006) , [paper/another_example](https://dl.acm.org/citation.cfm?id=3053903&dl=ACM&coll=DL). "
   ]
  },
  {
   "cell_type": "markdown",
   "metadata": {},
   "source": [
    "That being said, it can be interesting to extract the most RT normal tweets and have a look at their content (we keep the *tweetid*'s). "
   ]
  },
  {
   "cell_type": "code",
   "execution_count": 81,
   "metadata": {},
   "outputs": [
    {
     "name": "stdout",
     "output_type": "stream",
     "text": [
      "+------------------+----------+-------------+-------------------+----+--------------------+--------------+----------+--------------------+\n",
      "|           tweetid|    userid|retweet_count|         tweet_time|urls|          tweet_text|tweet_language|like_count|            hashtags|\n",
      "+------------------+----------+-------------+-------------------+----+--------------------+--------------+----------+--------------------+\n",
      "|780901314079318016|4437233895|        97498|2016-09-27 22:45:00|  []|These emotions......|            en|    136013|                  []|\n",
      "|785614679682846720|4437233895|        41089|2016-10-10 22:55:00|  []|When It’s slowly ...|            en|     46606|      [BlackTwitter]|\n",
      "|710499812223918080|3312143142|        28568|2016-03-17 16:15:00|  []|!!!!!!DONT LET TH...|            en|     17639|                  []|\n",
      "|711543567387332608|3312143142|        25169|2016-03-20 13:23:00|  []|He didn’t want a ...|            en|     14748|                  []|\n",
      "|708741988481282048|3312143142|        16670|2016-03-12 19:50:00|  []|#AnthonyCage was ...|            en|      6606|[AnthonyCage, Tru...|\n",
      "|784182493868023808|4437233895|        16627|2016-10-07 00:04:00|  []|Normal???  Anti-r...|            en|     15020|                  []|\n",
      "|777989058689536000|4437233895|        16104|2016-09-19 21:53:00|  []|\"\"\"His life matte...|            en|     15185|   [TerenceCrutcher]|\n",
      "|750507193967845376|4437233895|        15985|2016-07-06 01:50:00|  []|He really shot #A...|            en|      8107|     [AltonSterling]|\n",
      "|793890171058085888|4224729994|        15548|2016-11-02 18:59:00|  []|BREAKING: #VoterF...|            en|     10172|        [VoterFraud]|\n",
      "|685799271761838080|3312143142|        15385|2016-01-09 12:24:00|  []|Every person on b...|            en|      9070|                  []|\n",
      "+------------------+----------+-------------+-------------------+----+--------------------+--------------+----------+--------------------+\n",
      "only showing top 10 rows\n",
      "\n"
     ]
    }
   ],
   "source": [
    "# get the 1000 (it could be more or less) most RT tweets for period 4\n",
    "\n",
    "period_4_rt_counts_top_query =     \"\"\"SELECT tweetid,userid,retweet_count,tweet_time,urls,tweet_text,tweet_language,like_count,hashtags\n",
    "                                      FROM normal_tweets_texts_p4_sql\n",
    "                                      ORDER BY retweet_count DESC\n",
    "                                      LIMIT 1000\n",
    "                                   \"\"\"\n",
    "period_4_rt_counts_top_df = spark.sql(period_4_rt_counts_top_query)\n",
    "\n",
    "# create temporary Spark SQL view \n",
    "period_4_rt_counts_top_df.createOrReplaceTempView(\"period_4_rt_counts_top_sql\")\n",
    "\n",
    "period_4_rt_counts_top_df.show(10)"
   ]
  },
  {
   "cell_type": "code",
   "execution_count": 82,
   "metadata": {},
   "outputs": [
    {
     "data": {
      "text/html": [
       "<div>\n",
       "<style scoped>\n",
       "    .dataframe tbody tr th:only-of-type {\n",
       "        vertical-align: middle;\n",
       "    }\n",
       "\n",
       "    .dataframe tbody tr th {\n",
       "        vertical-align: top;\n",
       "    }\n",
       "\n",
       "    .dataframe thead th {\n",
       "        text-align: right;\n",
       "    }\n",
       "</style>\n",
       "<table border=\"1\" class=\"dataframe\">\n",
       "  <thead>\n",
       "    <tr style=\"text-align: right;\">\n",
       "      <th></th>\n",
       "      <th>tweetid</th>\n",
       "      <th>userid</th>\n",
       "      <th>retweet_count</th>\n",
       "      <th>tweet_time</th>\n",
       "      <th>urls</th>\n",
       "      <th>tweet_text</th>\n",
       "      <th>tweet_language</th>\n",
       "      <th>like_count</th>\n",
       "      <th>hashtags</th>\n",
       "    </tr>\n",
       "  </thead>\n",
       "  <tbody>\n",
       "    <tr>\n",
       "      <th>0</th>\n",
       "      <td>780901314079318016</td>\n",
       "      <td>4437233895</td>\n",
       "      <td>97498</td>\n",
       "      <td>2016-09-27 22:45:00</td>\n",
       "      <td>[]</td>\n",
       "      <td>These emotions... You can hear the pain in her...</td>\n",
       "      <td>en</td>\n",
       "      <td>136013</td>\n",
       "      <td>[]</td>\n",
       "    </tr>\n",
       "    <tr>\n",
       "      <th>1</th>\n",
       "      <td>785614679682846720</td>\n",
       "      <td>4437233895</td>\n",
       "      <td>41089</td>\n",
       "      <td>2016-10-10 22:55:00</td>\n",
       "      <td>[]</td>\n",
       "      <td>When It’s slowly becoming illegal for black pe...</td>\n",
       "      <td>en</td>\n",
       "      <td>46606</td>\n",
       "      <td>[BlackTwitter]</td>\n",
       "    </tr>\n",
       "    <tr>\n",
       "      <th>2</th>\n",
       "      <td>784182493868023808</td>\n",
       "      <td>4437233895</td>\n",
       "      <td>16627</td>\n",
       "      <td>2016-10-07 00:04:00</td>\n",
       "      <td>[]</td>\n",
       "      <td>Normal???  Anti-racism poster gone horribly wr...</td>\n",
       "      <td>en</td>\n",
       "      <td>15020</td>\n",
       "      <td>[]</td>\n",
       "    </tr>\n",
       "    <tr>\n",
       "      <th>3</th>\n",
       "      <td>777989058689536000</td>\n",
       "      <td>4437233895</td>\n",
       "      <td>16104</td>\n",
       "      <td>2016-09-19 21:53:00</td>\n",
       "      <td>[]</td>\n",
       "      <td>\"\"\"His life mattered.\"\"   #TerenceCrutcher's t...</td>\n",
       "      <td>en</td>\n",
       "      <td>15185</td>\n",
       "      <td>[TerenceCrutcher]</td>\n",
       "    </tr>\n",
       "    <tr>\n",
       "      <th>4</th>\n",
       "      <td>793890171058085888</td>\n",
       "      <td>4224729994</td>\n",
       "      <td>15548</td>\n",
       "      <td>2016-11-02 18:59:00</td>\n",
       "      <td>[]</td>\n",
       "      <td>BREAKING: #VoterFraud by counting tens of thou...</td>\n",
       "      <td>en</td>\n",
       "      <td>10172</td>\n",
       "      <td>[VoterFraud]</td>\n",
       "    </tr>\n",
       "    <tr>\n",
       "      <th>5</th>\n",
       "      <td>792117761631588352</td>\n",
       "      <td>4437233895</td>\n",
       "      <td>14433</td>\n",
       "      <td>2016-10-28 21:36:00</td>\n",
       "      <td>[]</td>\n",
       "      <td>Bus driver sexually assaulted teen girl. Black...</td>\n",
       "      <td>en</td>\n",
       "      <td>10772</td>\n",
       "      <td>[]</td>\n",
       "    </tr>\n",
       "    <tr>\n",
       "      <th>6</th>\n",
       "      <td>778619154660204544</td>\n",
       "      <td>1687183549</td>\n",
       "      <td>13316</td>\n",
       "      <td>2016-09-21 15:37:00</td>\n",
       "      <td>[]</td>\n",
       "      <td>Wow. Hadn't thought of it that way but that's ...</td>\n",
       "      <td>en</td>\n",
       "      <td>11709</td>\n",
       "      <td>[BlackLivesMatter]</td>\n",
       "    </tr>\n",
       "    <tr>\n",
       "      <th>7</th>\n",
       "      <td>785663973613899776</td>\n",
       "      <td>4224729994</td>\n",
       "      <td>12716</td>\n",
       "      <td>2016-10-11 02:11:00</td>\n",
       "      <td>[]</td>\n",
       "      <td>OMG, this new Anti-Hillary ad is brilliant!👌 I...</td>\n",
       "      <td>en</td>\n",
       "      <td>10756</td>\n",
       "      <td>[]</td>\n",
       "    </tr>\n",
       "    <tr>\n",
       "      <th>8</th>\n",
       "      <td>790699646096056321</td>\n",
       "      <td>4437233895</td>\n",
       "      <td>11838</td>\n",
       "      <td>2016-10-24 23:41:00</td>\n",
       "      <td>[]</td>\n",
       "      <td>Let this picture sink in. Maximize it. Zoom in...</td>\n",
       "      <td>en</td>\n",
       "      <td>7419</td>\n",
       "      <td>[]</td>\n",
       "    </tr>\n",
       "    <tr>\n",
       "      <th>9</th>\n",
       "      <td>788450633896562689</td>\n",
       "      <td>4224729994</td>\n",
       "      <td>10824</td>\n",
       "      <td>2016-10-18 18:44:00</td>\n",
       "      <td>[]</td>\n",
       "      <td>RT the hell out of it:  Dem party operatives: ...</td>\n",
       "      <td>en</td>\n",
       "      <td>6772</td>\n",
       "      <td>[EvangelicalTrump]</td>\n",
       "    </tr>\n",
       "  </tbody>\n",
       "</table>\n",
       "</div>"
      ],
      "text/plain": [
       "              tweetid      userid  retweet_count          tweet_time urls  \\\n",
       "0  780901314079318016  4437233895          97498 2016-09-27 22:45:00   []   \n",
       "1  785614679682846720  4437233895          41089 2016-10-10 22:55:00   []   \n",
       "2  784182493868023808  4437233895          16627 2016-10-07 00:04:00   []   \n",
       "3  777989058689536000  4437233895          16104 2016-09-19 21:53:00   []   \n",
       "4  793890171058085888  4224729994          15548 2016-11-02 18:59:00   []   \n",
       "5  792117761631588352  4437233895          14433 2016-10-28 21:36:00   []   \n",
       "6  778619154660204544  1687183549          13316 2016-09-21 15:37:00   []   \n",
       "7  785663973613899776  4224729994          12716 2016-10-11 02:11:00   []   \n",
       "8  790699646096056321  4437233895          11838 2016-10-24 23:41:00   []   \n",
       "9  788450633896562689  4224729994          10824 2016-10-18 18:44:00   []   \n",
       "\n",
       "                                          tweet_text tweet_language  \\\n",
       "0  These emotions... You can hear the pain in her...             en   \n",
       "1  When It’s slowly becoming illegal for black pe...             en   \n",
       "2  Normal???  Anti-racism poster gone horribly wr...             en   \n",
       "3  \"\"\"His life mattered.\"\"   #TerenceCrutcher's t...             en   \n",
       "4  BREAKING: #VoterFraud by counting tens of thou...             en   \n",
       "5  Bus driver sexually assaulted teen girl. Black...             en   \n",
       "6  Wow. Hadn't thought of it that way but that's ...             en   \n",
       "7  OMG, this new Anti-Hillary ad is brilliant!👌 I...             en   \n",
       "8  Let this picture sink in. Maximize it. Zoom in...             en   \n",
       "9  RT the hell out of it:  Dem party operatives: ...             en   \n",
       "\n",
       "   like_count            hashtags  \n",
       "0      136013                  []  \n",
       "1       46606      [BlackTwitter]  \n",
       "2       15020                  []  \n",
       "3       15185   [TerenceCrutcher]  \n",
       "4       10172        [VoterFraud]  \n",
       "5       10772                  []  \n",
       "6       11709  [BlackLivesMatter]  \n",
       "7       10756                  []  \n",
       "8        7419                  []  \n",
       "9        6772  [EvangelicalTrump]  "
      ]
     },
     "execution_count": 82,
     "metadata": {},
     "output_type": "execute_result"
    }
   ],
   "source": [
    "# get the 1000 (it could be more or less) most RT tweets for period 4 || after primaries and before final votes\n",
    "\n",
    "ap_period_4_rt_counts_top_query =  \"\"\"SELECT tweetid,userid,retweet_count,tweet_time,urls,tweet_text,tweet_language,like_count,hashtags\n",
    "                                      FROM normal_tweets_texts_p4_sql\n",
    "                                      WHERE tweet_time >= \"2016-07-07\"\n",
    "                                      ORDER BY retweet_count DESC\n",
    "                                      LIMIT 1000\n",
    "                                   \"\"\"\n",
    "ap_period_4_rt_counts_top_df = spark.sql(ap_period_4_rt_counts_top_query)\n",
    "\n",
    "# create temporary Spark SQL view \n",
    "ap_period_4_rt_counts_top_df.createOrReplaceTempView(\"ap_period_4_rt_counts_top_sql\")\n",
    "\n",
    "# to Pandas for further analysis\n",
    "ap_period_4_rt_counts_top_pd = ap_period_4_rt_counts_top_df.toPandas()\n",
    "\n",
    "ap_period_4_rt_counts_top_pd.head(10)"
   ]
  },
  {
   "cell_type": "code",
   "execution_count": 83,
   "metadata": {},
   "outputs": [
    {
     "data": {
      "text/plain": [
       "\"OMG, this new Anti-Hillary ad is brilliant!👌 It's fantastic!!!!!!  Spread it far &amp; wide! https://t.co/v7zrP8iDl7\""
      ]
     },
     "execution_count": 83,
     "metadata": {},
     "output_type": "execute_result"
    }
   ],
   "source": [
    "ap_period_4_rt_counts_top_pd.loc[7]['tweet_text']"
   ]
  },
  {
   "cell_type": "code",
   "execution_count": 84,
   "metadata": {},
   "outputs": [],
   "source": [
    "# interesting account\n",
    "troll_example_p4 = ap_period_4_rt_counts_top_pd[ap_period_4_rt_counts_top_pd.userid=='4224729994']"
   ]
  },
  {
   "cell_type": "code",
   "execution_count": 85,
   "metadata": {},
   "outputs": [
    {
     "data": {
      "text/plain": [
       "(567, 9)"
      ]
     },
     "execution_count": 85,
     "metadata": {},
     "output_type": "execute_result"
    }
   ],
   "source": [
    "troll_example_p4.shape"
   ]
  },
  {
   "cell_type": "markdown",
   "metadata": {},
   "source": [
    "$56.8\\%$ of the 1000 (and $47\\%$ of the 100) most RT tweets on the period (July 2016 - November 2016 ; after primaries before final votes) are written by only one troll account ! "
   ]
  },
  {
   "cell_type": "code",
   "execution_count": 86,
   "metadata": {},
   "outputs": [
    {
     "data": {
      "text/html": [
       "<div>\n",
       "<style scoped>\n",
       "    .dataframe tbody tr th:only-of-type {\n",
       "        vertical-align: middle;\n",
       "    }\n",
       "\n",
       "    .dataframe tbody tr th {\n",
       "        vertical-align: top;\n",
       "    }\n",
       "\n",
       "    .dataframe thead th {\n",
       "        text-align: right;\n",
       "    }\n",
       "</style>\n",
       "<table border=\"1\" class=\"dataframe\">\n",
       "  <thead>\n",
       "    <tr style=\"text-align: right;\">\n",
       "      <th></th>\n",
       "      <th>tweetid</th>\n",
       "      <th>userid</th>\n",
       "      <th>retweet_count</th>\n",
       "      <th>tweet_time</th>\n",
       "      <th>urls</th>\n",
       "      <th>tweet_text</th>\n",
       "      <th>tweet_language</th>\n",
       "      <th>like_count</th>\n",
       "      <th>hashtags</th>\n",
       "    </tr>\n",
       "  </thead>\n",
       "  <tbody>\n",
       "    <tr>\n",
       "      <th>4</th>\n",
       "      <td>793890171058085888</td>\n",
       "      <td>4224729994</td>\n",
       "      <td>15548</td>\n",
       "      <td>2016-11-02 18:59:00</td>\n",
       "      <td>[]</td>\n",
       "      <td>BREAKING: #VoterFraud by counting tens of thou...</td>\n",
       "      <td>en</td>\n",
       "      <td>10172</td>\n",
       "      <td>[VoterFraud]</td>\n",
       "    </tr>\n",
       "    <tr>\n",
       "      <th>7</th>\n",
       "      <td>785663973613899776</td>\n",
       "      <td>4224729994</td>\n",
       "      <td>12716</td>\n",
       "      <td>2016-10-11 02:11:00</td>\n",
       "      <td>[]</td>\n",
       "      <td>OMG, this new Anti-Hillary ad is brilliant!👌 I...</td>\n",
       "      <td>en</td>\n",
       "      <td>10756</td>\n",
       "      <td>[]</td>\n",
       "    </tr>\n",
       "    <tr>\n",
       "      <th>9</th>\n",
       "      <td>788450633896562689</td>\n",
       "      <td>4224729994</td>\n",
       "      <td>10824</td>\n",
       "      <td>2016-10-18 18:44:00</td>\n",
       "      <td>[]</td>\n",
       "      <td>RT the hell out of it:  Dem party operatives: ...</td>\n",
       "      <td>en</td>\n",
       "      <td>6772</td>\n",
       "      <td>[EvangelicalTrump]</td>\n",
       "    </tr>\n",
       "    <tr>\n",
       "      <th>14</th>\n",
       "      <td>788978081293819904</td>\n",
       "      <td>4224729994</td>\n",
       "      <td>9323</td>\n",
       "      <td>2016-10-20 05:40:00</td>\n",
       "      <td>[]</td>\n",
       "      <td>BREAKING🚨   Hillary shuts down press conferenc...</td>\n",
       "      <td>en</td>\n",
       "      <td>8927</td>\n",
       "      <td>[VoterFraud, debatenight, TrumpBookReport]</td>\n",
       "    </tr>\n",
       "    <tr>\n",
       "      <th>16</th>\n",
       "      <td>788532197506572296</td>\n",
       "      <td>4224729994</td>\n",
       "      <td>8574</td>\n",
       "      <td>2016-10-19 00:08:00</td>\n",
       "      <td>[]</td>\n",
       "      <td>BREAKING🚨  Thousands of names changed on voter...</td>\n",
       "      <td>en</td>\n",
       "      <td>7092</td>\n",
       "      <td>[VoterFraud, DrainTheSwamp]</td>\n",
       "    </tr>\n",
       "    <tr>\n",
       "      <th>23</th>\n",
       "      <td>788169033841577985</td>\n",
       "      <td>4224729994</td>\n",
       "      <td>6676</td>\n",
       "      <td>2016-10-18 00:05:00</td>\n",
       "      <td>[]</td>\n",
       "      <td>OMFG! This is EXPLOSIVE!  THE MOST IMPORTANT V...</td>\n",
       "      <td>en</td>\n",
       "      <td>4218</td>\n",
       "      <td>[BillyBushMadeMeDoIt]</td>\n",
       "    </tr>\n",
       "    <tr>\n",
       "      <th>25</th>\n",
       "      <td>788098438915297280</td>\n",
       "      <td>4224729994</td>\n",
       "      <td>6303</td>\n",
       "      <td>2016-10-17 19:24:00</td>\n",
       "      <td>[]</td>\n",
       "      <td>\"This is sickening. Hillary using the \"\"Mental...</td>\n",
       "      <td>en</td>\n",
       "      <td>4573</td>\n",
       "      <td>[FreeJulian, BirdDogging, PodestaEmails10]</td>\n",
       "    </tr>\n",
       "    <tr>\n",
       "      <th>29</th>\n",
       "      <td>792802334602592258</td>\n",
       "      <td>4224729994</td>\n",
       "      <td>5799</td>\n",
       "      <td>2016-10-30 18:56:00</td>\n",
       "      <td>[]</td>\n",
       "      <td>RT if you also think that @LorettaLynch should...</td>\n",
       "      <td>en</td>\n",
       "      <td>5210</td>\n",
       "      <td>[gohillary]</td>\n",
       "    </tr>\n",
       "    <tr>\n",
       "      <th>32</th>\n",
       "      <td>783728674390544384</td>\n",
       "      <td>4224729994</td>\n",
       "      <td>5058</td>\n",
       "      <td>2016-10-05 18:00:00</td>\n",
       "      <td>[]</td>\n",
       "      <td>BREAKING🚨 Hillary caught using a child actor‼️...</td>\n",
       "      <td>en</td>\n",
       "      <td>3413</td>\n",
       "      <td>[WorldTeachersDay]</td>\n",
       "    </tr>\n",
       "    <tr>\n",
       "      <th>35</th>\n",
       "      <td>785621909677285376</td>\n",
       "      <td>4224729994</td>\n",
       "      <td>4708</td>\n",
       "      <td>2016-10-10 23:23:00</td>\n",
       "      <td>[]</td>\n",
       "      <td>\".@AnnCoulter: \"\"If Hillary wins</td>\n",
       "      <td>en</td>\n",
       "      <td>4857</td>\n",
       "      <td>[]</td>\n",
       "    </tr>\n",
       "    <tr>\n",
       "      <th>36</th>\n",
       "      <td>788949979729653760</td>\n",
       "      <td>4224729994</td>\n",
       "      <td>4650</td>\n",
       "      <td>2016-10-20 03:48:00</td>\n",
       "      <td>[]</td>\n",
       "      <td>🚨DISGUSTING  Watch: Hillary laughing when Trum...</td>\n",
       "      <td>en</td>\n",
       "      <td>3762</td>\n",
       "      <td>[debatenight, trumpwon, debate]</td>\n",
       "    </tr>\n",
       "    <tr>\n",
       "      <th>37</th>\n",
       "      <td>795388818908217344</td>\n",
       "      <td>4224729994</td>\n",
       "      <td>4628</td>\n",
       "      <td>2016-11-06 22:14:00</td>\n",
       "      <td>[]</td>\n",
       "      <td>RT if you also think that FBI Director Comey s...</td>\n",
       "      <td>en</td>\n",
       "      <td>3887</td>\n",
       "      <td>[]</td>\n",
       "    </tr>\n",
       "    <tr>\n",
       "      <th>38</th>\n",
       "      <td>764938582167400448</td>\n",
       "      <td>4224729994</td>\n",
       "      <td>4561</td>\n",
       "      <td>2016-08-14 21:35:00</td>\n",
       "      <td>[]</td>\n",
       "      <td>Rumors: Hillary hates this photo &amp;amp; wants t...</td>\n",
       "      <td>en</td>\n",
       "      <td>2719</td>\n",
       "      <td>[]</td>\n",
       "    </tr>\n",
       "    <tr>\n",
       "      <th>40</th>\n",
       "      <td>779855189431967744</td>\n",
       "      <td>4224729994</td>\n",
       "      <td>4332</td>\n",
       "      <td>2016-09-25 01:29:00</td>\n",
       "      <td>[]</td>\n",
       "      <td>Every time you RT this pic it will notify @Hil...</td>\n",
       "      <td>en</td>\n",
       "      <td>2333</td>\n",
       "      <td>[Benghazi]</td>\n",
       "    </tr>\n",
       "    <tr>\n",
       "      <th>41</th>\n",
       "      <td>791044898266943493</td>\n",
       "      <td>4224729994</td>\n",
       "      <td>4257</td>\n",
       "      <td>2016-10-25 22:32:00</td>\n",
       "      <td>[]</td>\n",
       "      <td>🚨BREAKING   Texas voting machines switching Tr...</td>\n",
       "      <td>en</td>\n",
       "      <td>3018</td>\n",
       "      <td>[VoterFraud]</td>\n",
       "    </tr>\n",
       "    <tr>\n",
       "      <th>42</th>\n",
       "      <td>788134438937001988</td>\n",
       "      <td>4224729994</td>\n",
       "      <td>4122</td>\n",
       "      <td>2016-10-17 21:47:00</td>\n",
       "      <td>[]</td>\n",
       "      <td>Q: Why are Hillary supporters so violent?   A:...</td>\n",
       "      <td>en</td>\n",
       "      <td>3051</td>\n",
       "      <td>[PodestaEmails10]</td>\n",
       "    </tr>\n",
       "    <tr>\n",
       "      <th>44</th>\n",
       "      <td>789899363715846147</td>\n",
       "      <td>4224729994</td>\n",
       "      <td>3970</td>\n",
       "      <td>2016-10-22 18:40:00</td>\n",
       "      <td>[]</td>\n",
       "      <td>This is not about Democrats vs Republicans. Th...</td>\n",
       "      <td>en</td>\n",
       "      <td>4233</td>\n",
       "      <td>[Gettysburg]</td>\n",
       "    </tr>\n",
       "    <tr>\n",
       "      <th>48</th>\n",
       "      <td>779785751370272768</td>\n",
       "      <td>4224729994</td>\n",
       "      <td>3916</td>\n",
       "      <td>2016-09-24 20:53:00</td>\n",
       "      <td>[]</td>\n",
       "      <td>Remember Hillary saying this about Bill's rape...</td>\n",
       "      <td>en</td>\n",
       "      <td>3515</td>\n",
       "      <td>[Debates2016]</td>\n",
       "    </tr>\n",
       "    <tr>\n",
       "      <th>49</th>\n",
       "      <td>795341435654565888</td>\n",
       "      <td>4224729994</td>\n",
       "      <td>3897</td>\n",
       "      <td>2016-11-06 19:05:00</td>\n",
       "      <td>[]</td>\n",
       "      <td>#FakeVotingFacts: Obama is now openly on live ...</td>\n",
       "      <td>en</td>\n",
       "      <td>2617</td>\n",
       "      <td>[FakeVotingFacts]</td>\n",
       "    </tr>\n",
       "    <tr>\n",
       "      <th>51</th>\n",
       "      <td>785323261546541057</td>\n",
       "      <td>4224729994</td>\n",
       "      <td>3819</td>\n",
       "      <td>2016-10-10 03:37:00</td>\n",
       "      <td>[]</td>\n",
       "      <td>DONALD TRUMP to Hillary: “You’d Be in Jail!”  ...</td>\n",
       "      <td>en</td>\n",
       "      <td>4345</td>\n",
       "      <td>[debate]</td>\n",
       "    </tr>\n",
       "    <tr>\n",
       "      <th>52</th>\n",
       "      <td>786658813936009216</td>\n",
       "      <td>4224729994</td>\n",
       "      <td>3812</td>\n",
       "      <td>2016-10-13 20:04:00</td>\n",
       "      <td>[]</td>\n",
       "      <td>While Michelle Obama campaigning for Hillary A...</td>\n",
       "      <td>en</td>\n",
       "      <td>3970</td>\n",
       "      <td>[TrumpDrSeuss]</td>\n",
       "    </tr>\n",
       "    <tr>\n",
       "      <th>55</th>\n",
       "      <td>791400637300895744</td>\n",
       "      <td>4224729994</td>\n",
       "      <td>3672</td>\n",
       "      <td>2016-10-26 22:06:00</td>\n",
       "      <td>[]</td>\n",
       "      <td>The #VoterFraud is now proven. 18 Million Inva...</td>\n",
       "      <td>en</td>\n",
       "      <td>2155</td>\n",
       "      <td>[VoterFraud]</td>\n",
       "    </tr>\n",
       "    <tr>\n",
       "      <th>56</th>\n",
       "      <td>788525745576509441</td>\n",
       "      <td>4224729994</td>\n",
       "      <td>3668</td>\n",
       "      <td>2016-10-18 23:42:00</td>\n",
       "      <td>[]</td>\n",
       "      <td>Election expert: there are 4 Million DEAD peop...</td>\n",
       "      <td>en</td>\n",
       "      <td>2557</td>\n",
       "      <td>[VoterFraud, draintheswamp]</td>\n",
       "    </tr>\n",
       "    <tr>\n",
       "      <th>58</th>\n",
       "      <td>776879408724541444</td>\n",
       "      <td>4224729994</td>\n",
       "      <td>3584</td>\n",
       "      <td>2016-09-16 20:24:00</td>\n",
       "      <td>[]</td>\n",
       "      <td>\"Flashback to 2008: Michelle Obama slams Hilla...</td>\n",
       "      <td>en</td>\n",
       "      <td>2847</td>\n",
       "      <td>[birtherism]</td>\n",
       "    </tr>\n",
       "    <tr>\n",
       "      <th>59</th>\n",
       "      <td>788083595827183637</td>\n",
       "      <td>4224729994</td>\n",
       "      <td>3559</td>\n",
       "      <td>2016-10-17 18:25:00</td>\n",
       "      <td>[]</td>\n",
       "      <td>Breaking🚨  Wikileaks emails confirm that Dems ...</td>\n",
       "      <td>en</td>\n",
       "      <td>2074</td>\n",
       "      <td>[BirdDogging]</td>\n",
       "    </tr>\n",
       "    <tr>\n",
       "      <th>60</th>\n",
       "      <td>787055855988510721</td>\n",
       "      <td>4224729994</td>\n",
       "      <td>3558</td>\n",
       "      <td>2016-10-14 22:21:00</td>\n",
       "      <td>[]</td>\n",
       "      <td>\"Thousands of deplorables chanting to the medi...</td>\n",
       "      <td>en</td>\n",
       "      <td>3041</td>\n",
       "      <td>[FridayFeeling, TrumpTrain]</td>\n",
       "    </tr>\n",
       "    <tr>\n",
       "      <th>61</th>\n",
       "      <td>776860996988178432</td>\n",
       "      <td>4224729994</td>\n",
       "      <td>3554</td>\n",
       "      <td>2016-09-16 19:11:00</td>\n",
       "      <td>[]</td>\n",
       "      <td>Watch: Barack Obama admits he was born in Keny...</td>\n",
       "      <td>en</td>\n",
       "      <td>3011</td>\n",
       "      <td>[birtherism]</td>\n",
       "    </tr>\n",
       "    <tr>\n",
       "      <th>63</th>\n",
       "      <td>788605279361433601</td>\n",
       "      <td>4224729994</td>\n",
       "      <td>3506</td>\n",
       "      <td>2016-10-19 04:58:00</td>\n",
       "      <td>[]</td>\n",
       "      <td>PAID protestors pepper spray kids at Trump ral...</td>\n",
       "      <td>en</td>\n",
       "      <td>1768</td>\n",
       "      <td>[]</td>\n",
       "    </tr>\n",
       "    <tr>\n",
       "      <th>65</th>\n",
       "      <td>770063539180404736</td>\n",
       "      <td>4224729994</td>\n",
       "      <td>3490</td>\n",
       "      <td>2016-08-29 01:00:00</td>\n",
       "      <td>[]</td>\n",
       "      <td>Muslims Slaughter Over 10,000 Christians and D...</td>\n",
       "      <td>en</td>\n",
       "      <td>1688</td>\n",
       "      <td>[]</td>\n",
       "    </tr>\n",
       "    <tr>\n",
       "      <th>67</th>\n",
       "      <td>785556619237228544</td>\n",
       "      <td>4224729994</td>\n",
       "      <td>3460</td>\n",
       "      <td>2016-10-10 19:04:00</td>\n",
       "      <td>[]</td>\n",
       "      <td>BOMBSHELL  In private, Dems agree that Muslim ...</td>\n",
       "      <td>en</td>\n",
       "      <td>2395</td>\n",
       "      <td>[PodestaEmails2]</td>\n",
       "    </tr>\n",
       "    <tr>\n",
       "      <th>...</th>\n",
       "      <td>...</td>\n",
       "      <td>...</td>\n",
       "      <td>...</td>\n",
       "      <td>...</td>\n",
       "      <td>...</td>\n",
       "      <td>...</td>\n",
       "      <td>...</td>\n",
       "      <td>...</td>\n",
       "      <td>...</td>\n",
       "    </tr>\n",
       "    <tr>\n",
       "      <th>932</th>\n",
       "      <td>765309774233690112</td>\n",
       "      <td>4224729994</td>\n",
       "      <td>697</td>\n",
       "      <td>2016-08-15 22:10:00</td>\n",
       "      <td>[]</td>\n",
       "      <td>France: 83 yo man attacked &amp;amp; robbed by a r...</td>\n",
       "      <td>en</td>\n",
       "      <td>343</td>\n",
       "      <td>[]</td>\n",
       "    </tr>\n",
       "    <tr>\n",
       "      <th>933</th>\n",
       "      <td>791096792284852224</td>\n",
       "      <td>4224729994</td>\n",
       "      <td>697</td>\n",
       "      <td>2016-10-26 01:59:00</td>\n",
       "      <td>[]</td>\n",
       "      <td>BREAKING🚨  Company that supplies voting machin...</td>\n",
       "      <td>en</td>\n",
       "      <td>366</td>\n",
       "      <td>[VoterFraud]</td>\n",
       "    </tr>\n",
       "    <tr>\n",
       "      <th>934</th>\n",
       "      <td>794011782780243968</td>\n",
       "      <td>4224729994</td>\n",
       "      <td>696</td>\n",
       "      <td>2016-11-03 03:02:00</td>\n",
       "      <td>[]</td>\n",
       "      <td>\"Jill Stein: \"\"How Much More Evidence Does Gov...</td>\n",
       "      <td>en</td>\n",
       "      <td>670</td>\n",
       "      <td>[]</td>\n",
       "    </tr>\n",
       "    <tr>\n",
       "      <th>935</th>\n",
       "      <td>781474110673006592</td>\n",
       "      <td>4224729994</td>\n",
       "      <td>696</td>\n",
       "      <td>2016-09-29 12:42:00</td>\n",
       "      <td>[]</td>\n",
       "      <td>You will never see this pic on the nightly new...</td>\n",
       "      <td>en</td>\n",
       "      <td>562</td>\n",
       "      <td>[]</td>\n",
       "    </tr>\n",
       "    <tr>\n",
       "      <th>937</th>\n",
       "      <td>775001718383718400</td>\n",
       "      <td>4224729994</td>\n",
       "      <td>694</td>\n",
       "      <td>2016-09-11 16:03:00</td>\n",
       "      <td>[]</td>\n",
       "      <td>\"\"\"This isn't a Justice Department anymore. Th...</td>\n",
       "      <td>en</td>\n",
       "      <td>595</td>\n",
       "      <td>[]</td>\n",
       "    </tr>\n",
       "    <tr>\n",
       "      <th>938</th>\n",
       "      <td>759243897805471744</td>\n",
       "      <td>4224729994</td>\n",
       "      <td>694</td>\n",
       "      <td>2016-07-30 04:27:00</td>\n",
       "      <td>[]</td>\n",
       "      <td>'I swear if they bomb Russia, in half an hour ...</td>\n",
       "      <td>en</td>\n",
       "      <td>697</td>\n",
       "      <td>[]</td>\n",
       "    </tr>\n",
       "    <tr>\n",
       "      <th>942</th>\n",
       "      <td>786359044126699520</td>\n",
       "      <td>4224729994</td>\n",
       "      <td>691</td>\n",
       "      <td>2016-10-13 00:13:00</td>\n",
       "      <td>[]</td>\n",
       "      <td>Willie Robertson: “Mr. Trump is a real leader....</td>\n",
       "      <td>en</td>\n",
       "      <td>750</td>\n",
       "      <td>[]</td>\n",
       "    </tr>\n",
       "    <tr>\n",
       "      <th>945</th>\n",
       "      <td>792145674116603904</td>\n",
       "      <td>4224729994</td>\n",
       "      <td>690</td>\n",
       "      <td>2016-10-28 23:27:00</td>\n",
       "      <td>[]</td>\n",
       "      <td>\"Newt Gingrich: \"\"Hillary is the most dishones...</td>\n",
       "      <td>en</td>\n",
       "      <td>677</td>\n",
       "      <td>[FridayFeeling]</td>\n",
       "    </tr>\n",
       "    <tr>\n",
       "      <th>947</th>\n",
       "      <td>759134967603474432</td>\n",
       "      <td>4224729994</td>\n",
       "      <td>689</td>\n",
       "      <td>2016-07-29 21:14:00</td>\n",
       "      <td>[]</td>\n",
       "      <td>WATCH: During #DemConvention protests black te...</td>\n",
       "      <td>en</td>\n",
       "      <td>706</td>\n",
       "      <td>[DemConvention]</td>\n",
       "    </tr>\n",
       "    <tr>\n",
       "      <th>949</th>\n",
       "      <td>786652135454892033</td>\n",
       "      <td>4224729994</td>\n",
       "      <td>689</td>\n",
       "      <td>2016-10-13 19:37:00</td>\n",
       "      <td>[]</td>\n",
       "      <td>11 cops shot in Boston, 2 in critical conditio...</td>\n",
       "      <td>en</td>\n",
       "      <td>436</td>\n",
       "      <td>[ThursdayThoughts]</td>\n",
       "    </tr>\n",
       "    <tr>\n",
       "      <th>954</th>\n",
       "      <td>778723494687223808</td>\n",
       "      <td>4224729994</td>\n",
       "      <td>688</td>\n",
       "      <td>2016-09-21 22:32:00</td>\n",
       "      <td>[]</td>\n",
       "      <td>\"\"\"Any Muslim in the US who believes in Sharia...</td>\n",
       "      <td>en</td>\n",
       "      <td>735</td>\n",
       "      <td>[]</td>\n",
       "    </tr>\n",
       "    <tr>\n",
       "      <th>956</th>\n",
       "      <td>767390573556752384</td>\n",
       "      <td>4224729994</td>\n",
       "      <td>687</td>\n",
       "      <td>2016-08-21 15:59:00</td>\n",
       "      <td>[]</td>\n",
       "      <td>Marine Le Pen: “They kill our children, murder...</td>\n",
       "      <td>en</td>\n",
       "      <td>503</td>\n",
       "      <td>[]</td>\n",
       "    </tr>\n",
       "    <tr>\n",
       "      <th>961</th>\n",
       "      <td>762404760188100608</td>\n",
       "      <td>4224729994</td>\n",
       "      <td>683</td>\n",
       "      <td>2016-08-07 21:47:00</td>\n",
       "      <td>[]</td>\n",
       "      <td>Lying Mainstream Media will never show you thi...</td>\n",
       "      <td>en</td>\n",
       "      <td>597</td>\n",
       "      <td>[HillaryCoverageIsCrap]</td>\n",
       "    </tr>\n",
       "    <tr>\n",
       "      <th>965</th>\n",
       "      <td>764505302649581571</td>\n",
       "      <td>4224729994</td>\n",
       "      <td>682</td>\n",
       "      <td>2016-08-13 16:54:00</td>\n",
       "      <td>[]</td>\n",
       "      <td>Muslims united against Trump.. Have you ever s...</td>\n",
       "      <td>en</td>\n",
       "      <td>494</td>\n",
       "      <td>[]</td>\n",
       "    </tr>\n",
       "    <tr>\n",
       "      <th>966</th>\n",
       "      <td>793924026485784576</td>\n",
       "      <td>4224729994</td>\n",
       "      <td>681</td>\n",
       "      <td>2016-11-02 21:13:00</td>\n",
       "      <td>[]</td>\n",
       "      <td>NEW AD: People stand united ready to replace d...</td>\n",
       "      <td>en</td>\n",
       "      <td>535</td>\n",
       "      <td>[]</td>\n",
       "    </tr>\n",
       "    <tr>\n",
       "      <th>968</th>\n",
       "      <td>759448398730854400</td>\n",
       "      <td>4224729994</td>\n",
       "      <td>680</td>\n",
       "      <td>2016-07-30 17:59:00</td>\n",
       "      <td>[]</td>\n",
       "      <td>\"BOOM💥 @IceCube ENDORSED Donald Trump: ‘He is ...</td>\n",
       "      <td>en</td>\n",
       "      <td>701</td>\n",
       "      <td>[]</td>\n",
       "    </tr>\n",
       "    <tr>\n",
       "      <th>969</th>\n",
       "      <td>788558305744527365</td>\n",
       "      <td>4224729994</td>\n",
       "      <td>680</td>\n",
       "      <td>2016-10-19 01:52:00</td>\n",
       "      <td>[]</td>\n",
       "      <td>I think @Project_Veritas has done great servic...</td>\n",
       "      <td>en</td>\n",
       "      <td>710</td>\n",
       "      <td>[DrainTheSwamp]</td>\n",
       "    </tr>\n",
       "    <tr>\n",
       "      <th>970</th>\n",
       "      <td>756360398467588102</td>\n",
       "      <td>4224729994</td>\n",
       "      <td>680</td>\n",
       "      <td>2016-07-22 05:29:00</td>\n",
       "      <td>[]</td>\n",
       "      <td>'The movement of Muslims, into Europe and the ...</td>\n",
       "      <td>en</td>\n",
       "      <td>512</td>\n",
       "      <td>[RNCinCLE]</td>\n",
       "    </tr>\n",
       "    <tr>\n",
       "      <th>972</th>\n",
       "      <td>788460971908034560</td>\n",
       "      <td>4224729994</td>\n",
       "      <td>679</td>\n",
       "      <td>2016-10-18 19:25:00</td>\n",
       "      <td>[]</td>\n",
       "      <td>\"Watch thousands of deplorables chanting: \"\"lo...</td>\n",
       "      <td>en</td>\n",
       "      <td>741</td>\n",
       "      <td>[EvangelicalTrump]</td>\n",
       "    </tr>\n",
       "    <tr>\n",
       "      <th>977</th>\n",
       "      <td>751959045108600832</td>\n",
       "      <td>4224729994</td>\n",
       "      <td>677</td>\n",
       "      <td>2016-07-10 01:59:00</td>\n",
       "      <td>[]</td>\n",
       "      <td>\".@SheriffClarke: \"\"That is not peaceful prote...</td>\n",
       "      <td>en</td>\n",
       "      <td>582</td>\n",
       "      <td>[]</td>\n",
       "    </tr>\n",
       "    <tr>\n",
       "      <th>978</th>\n",
       "      <td>781216962848419840</td>\n",
       "      <td>4224729994</td>\n",
       "      <td>677</td>\n",
       "      <td>2016-09-28 19:40:00</td>\n",
       "      <td>[]</td>\n",
       "      <td>Breaking🚨  House overrides @POTUS veto of 9/11...</td>\n",
       "      <td>en</td>\n",
       "      <td>571</td>\n",
       "      <td>[JASTA]</td>\n",
       "    </tr>\n",
       "    <tr>\n",
       "      <th>979</th>\n",
       "      <td>772235374848606208</td>\n",
       "      <td>4224729994</td>\n",
       "      <td>677</td>\n",
       "      <td>2016-09-04 00:50:00</td>\n",
       "      <td>[]</td>\n",
       "      <td>Danny Trejo: You can be proud of your Mexican ...</td>\n",
       "      <td>en</td>\n",
       "      <td>817</td>\n",
       "      <td>[]</td>\n",
       "    </tr>\n",
       "    <tr>\n",
       "      <th>983</th>\n",
       "      <td>788939645446914048</td>\n",
       "      <td>4224729994</td>\n",
       "      <td>676</td>\n",
       "      <td>2016-10-20 03:07:00</td>\n",
       "      <td>[]</td>\n",
       "      <td>Hillary Clinton is the most corrupt candidate ...</td>\n",
       "      <td>en</td>\n",
       "      <td>947</td>\n",
       "      <td>[debate, DebateNight]</td>\n",
       "    </tr>\n",
       "    <tr>\n",
       "      <th>985</th>\n",
       "      <td>773313828851322880</td>\n",
       "      <td>4224729994</td>\n",
       "      <td>676</td>\n",
       "      <td>2016-09-07 00:15:00</td>\n",
       "      <td>[]</td>\n",
       "      <td>Pundits keep saying that Trump doesn't have su...</td>\n",
       "      <td>en</td>\n",
       "      <td>798</td>\n",
       "      <td>[]</td>\n",
       "    </tr>\n",
       "    <tr>\n",
       "      <th>986</th>\n",
       "      <td>793106509802577920</td>\n",
       "      <td>4224729994</td>\n",
       "      <td>676</td>\n",
       "      <td>2016-10-31 15:05:00</td>\n",
       "      <td>[]</td>\n",
       "      <td>Crooked Media can't stop common sense! More li...</td>\n",
       "      <td>en</td>\n",
       "      <td>661</td>\n",
       "      <td>[DemExit]</td>\n",
       "    </tr>\n",
       "    <tr>\n",
       "      <th>989</th>\n",
       "      <td>791323342825545728</td>\n",
       "      <td>4224729994</td>\n",
       "      <td>674</td>\n",
       "      <td>2016-10-26 16:59:00</td>\n",
       "      <td>[]</td>\n",
       "      <td>Video of a man destroying Donald Trump's Holly...</td>\n",
       "      <td>en</td>\n",
       "      <td>342</td>\n",
       "      <td>[]</td>\n",
       "    </tr>\n",
       "    <tr>\n",
       "      <th>990</th>\n",
       "      <td>786778563961905152</td>\n",
       "      <td>4224729994</td>\n",
       "      <td>674</td>\n",
       "      <td>2016-10-14 04:00:00</td>\n",
       "      <td>[]</td>\n",
       "      <td>.@OMAROSA: The African-American community has ...</td>\n",
       "      <td>en</td>\n",
       "      <td>595</td>\n",
       "      <td>[]</td>\n",
       "    </tr>\n",
       "    <tr>\n",
       "      <th>991</th>\n",
       "      <td>790014969060483076</td>\n",
       "      <td>4224729994</td>\n",
       "      <td>674</td>\n",
       "      <td>2016-10-23 02:20:00</td>\n",
       "      <td>[]</td>\n",
       "      <td>\"\"\"We should be very grateful that the Age of ...</td>\n",
       "      <td>en</td>\n",
       "      <td>685</td>\n",
       "      <td>[FixMyLife]</td>\n",
       "    </tr>\n",
       "    <tr>\n",
       "      <th>995</th>\n",
       "      <td>788923243709235201</td>\n",
       "      <td>4224729994</td>\n",
       "      <td>673</td>\n",
       "      <td>2016-10-20 02:02:00</td>\n",
       "      <td>[]</td>\n",
       "      <td>The Clinton Foundation is the most corrupt ent...</td>\n",
       "      <td>en</td>\n",
       "      <td>766</td>\n",
       "      <td>[debate, debatenight]</td>\n",
       "    </tr>\n",
       "    <tr>\n",
       "      <th>997</th>\n",
       "      <td>791752586667982849</td>\n",
       "      <td>4224729994</td>\n",
       "      <td>672</td>\n",
       "      <td>2016-10-27 21:25:00</td>\n",
       "      <td>[]</td>\n",
       "      <td>Why the hell It's fine for Mexico to have a wa...</td>\n",
       "      <td>en</td>\n",
       "      <td>565</td>\n",
       "      <td>[]</td>\n",
       "    </tr>\n",
       "  </tbody>\n",
       "</table>\n",
       "<p>567 rows × 9 columns</p>\n",
       "</div>"
      ],
      "text/plain": [
       "                tweetid      userid  retweet_count          tweet_time urls  \\\n",
       "4    793890171058085888  4224729994          15548 2016-11-02 18:59:00   []   \n",
       "7    785663973613899776  4224729994          12716 2016-10-11 02:11:00   []   \n",
       "9    788450633896562689  4224729994          10824 2016-10-18 18:44:00   []   \n",
       "14   788978081293819904  4224729994           9323 2016-10-20 05:40:00   []   \n",
       "16   788532197506572296  4224729994           8574 2016-10-19 00:08:00   []   \n",
       "23   788169033841577985  4224729994           6676 2016-10-18 00:05:00   []   \n",
       "25   788098438915297280  4224729994           6303 2016-10-17 19:24:00   []   \n",
       "29   792802334602592258  4224729994           5799 2016-10-30 18:56:00   []   \n",
       "32   783728674390544384  4224729994           5058 2016-10-05 18:00:00   []   \n",
       "35   785621909677285376  4224729994           4708 2016-10-10 23:23:00   []   \n",
       "36   788949979729653760  4224729994           4650 2016-10-20 03:48:00   []   \n",
       "37   795388818908217344  4224729994           4628 2016-11-06 22:14:00   []   \n",
       "38   764938582167400448  4224729994           4561 2016-08-14 21:35:00   []   \n",
       "40   779855189431967744  4224729994           4332 2016-09-25 01:29:00   []   \n",
       "41   791044898266943493  4224729994           4257 2016-10-25 22:32:00   []   \n",
       "42   788134438937001988  4224729994           4122 2016-10-17 21:47:00   []   \n",
       "44   789899363715846147  4224729994           3970 2016-10-22 18:40:00   []   \n",
       "48   779785751370272768  4224729994           3916 2016-09-24 20:53:00   []   \n",
       "49   795341435654565888  4224729994           3897 2016-11-06 19:05:00   []   \n",
       "51   785323261546541057  4224729994           3819 2016-10-10 03:37:00   []   \n",
       "52   786658813936009216  4224729994           3812 2016-10-13 20:04:00   []   \n",
       "55   791400637300895744  4224729994           3672 2016-10-26 22:06:00   []   \n",
       "56   788525745576509441  4224729994           3668 2016-10-18 23:42:00   []   \n",
       "58   776879408724541444  4224729994           3584 2016-09-16 20:24:00   []   \n",
       "59   788083595827183637  4224729994           3559 2016-10-17 18:25:00   []   \n",
       "60   787055855988510721  4224729994           3558 2016-10-14 22:21:00   []   \n",
       "61   776860996988178432  4224729994           3554 2016-09-16 19:11:00   []   \n",
       "63   788605279361433601  4224729994           3506 2016-10-19 04:58:00   []   \n",
       "65   770063539180404736  4224729994           3490 2016-08-29 01:00:00   []   \n",
       "67   785556619237228544  4224729994           3460 2016-10-10 19:04:00   []   \n",
       "..                  ...         ...            ...                 ...  ...   \n",
       "932  765309774233690112  4224729994            697 2016-08-15 22:10:00   []   \n",
       "933  791096792284852224  4224729994            697 2016-10-26 01:59:00   []   \n",
       "934  794011782780243968  4224729994            696 2016-11-03 03:02:00   []   \n",
       "935  781474110673006592  4224729994            696 2016-09-29 12:42:00   []   \n",
       "937  775001718383718400  4224729994            694 2016-09-11 16:03:00   []   \n",
       "938  759243897805471744  4224729994            694 2016-07-30 04:27:00   []   \n",
       "942  786359044126699520  4224729994            691 2016-10-13 00:13:00   []   \n",
       "945  792145674116603904  4224729994            690 2016-10-28 23:27:00   []   \n",
       "947  759134967603474432  4224729994            689 2016-07-29 21:14:00   []   \n",
       "949  786652135454892033  4224729994            689 2016-10-13 19:37:00   []   \n",
       "954  778723494687223808  4224729994            688 2016-09-21 22:32:00   []   \n",
       "956  767390573556752384  4224729994            687 2016-08-21 15:59:00   []   \n",
       "961  762404760188100608  4224729994            683 2016-08-07 21:47:00   []   \n",
       "965  764505302649581571  4224729994            682 2016-08-13 16:54:00   []   \n",
       "966  793924026485784576  4224729994            681 2016-11-02 21:13:00   []   \n",
       "968  759448398730854400  4224729994            680 2016-07-30 17:59:00   []   \n",
       "969  788558305744527365  4224729994            680 2016-10-19 01:52:00   []   \n",
       "970  756360398467588102  4224729994            680 2016-07-22 05:29:00   []   \n",
       "972  788460971908034560  4224729994            679 2016-10-18 19:25:00   []   \n",
       "977  751959045108600832  4224729994            677 2016-07-10 01:59:00   []   \n",
       "978  781216962848419840  4224729994            677 2016-09-28 19:40:00   []   \n",
       "979  772235374848606208  4224729994            677 2016-09-04 00:50:00   []   \n",
       "983  788939645446914048  4224729994            676 2016-10-20 03:07:00   []   \n",
       "985  773313828851322880  4224729994            676 2016-09-07 00:15:00   []   \n",
       "986  793106509802577920  4224729994            676 2016-10-31 15:05:00   []   \n",
       "989  791323342825545728  4224729994            674 2016-10-26 16:59:00   []   \n",
       "990  786778563961905152  4224729994            674 2016-10-14 04:00:00   []   \n",
       "991  790014969060483076  4224729994            674 2016-10-23 02:20:00   []   \n",
       "995  788923243709235201  4224729994            673 2016-10-20 02:02:00   []   \n",
       "997  791752586667982849  4224729994            672 2016-10-27 21:25:00   []   \n",
       "\n",
       "                                            tweet_text tweet_language  \\\n",
       "4    BREAKING: #VoterFraud by counting tens of thou...             en   \n",
       "7    OMG, this new Anti-Hillary ad is brilliant!👌 I...             en   \n",
       "9    RT the hell out of it:  Dem party operatives: ...             en   \n",
       "14   BREAKING🚨   Hillary shuts down press conferenc...             en   \n",
       "16   BREAKING🚨  Thousands of names changed on voter...             en   \n",
       "23   OMFG! This is EXPLOSIVE!  THE MOST IMPORTANT V...             en   \n",
       "25   \"This is sickening. Hillary using the \"\"Mental...             en   \n",
       "29   RT if you also think that @LorettaLynch should...             en   \n",
       "32   BREAKING🚨 Hillary caught using a child actor‼️...             en   \n",
       "35                    \".@AnnCoulter: \"\"If Hillary wins             en   \n",
       "36   🚨DISGUSTING  Watch: Hillary laughing when Trum...             en   \n",
       "37   RT if you also think that FBI Director Comey s...             en   \n",
       "38   Rumors: Hillary hates this photo &amp; wants t...             en   \n",
       "40   Every time you RT this pic it will notify @Hil...             en   \n",
       "41   🚨BREAKING   Texas voting machines switching Tr...             en   \n",
       "42   Q: Why are Hillary supporters so violent?   A:...             en   \n",
       "44   This is not about Democrats vs Republicans. Th...             en   \n",
       "48   Remember Hillary saying this about Bill's rape...             en   \n",
       "49   #FakeVotingFacts: Obama is now openly on live ...             en   \n",
       "51   DONALD TRUMP to Hillary: “You’d Be in Jail!”  ...             en   \n",
       "52   While Michelle Obama campaigning for Hillary A...             en   \n",
       "55   The #VoterFraud is now proven. 18 Million Inva...             en   \n",
       "56   Election expert: there are 4 Million DEAD peop...             en   \n",
       "58   \"Flashback to 2008: Michelle Obama slams Hilla...             en   \n",
       "59   Breaking🚨  Wikileaks emails confirm that Dems ...             en   \n",
       "60   \"Thousands of deplorables chanting to the medi...             en   \n",
       "61   Watch: Barack Obama admits he was born in Keny...             en   \n",
       "63   PAID protestors pepper spray kids at Trump ral...             en   \n",
       "65   Muslims Slaughter Over 10,000 Christians and D...             en   \n",
       "67   BOMBSHELL  In private, Dems agree that Muslim ...             en   \n",
       "..                                                 ...            ...   \n",
       "932  France: 83 yo man attacked &amp; robbed by a r...             en   \n",
       "933  BREAKING🚨  Company that supplies voting machin...             en   \n",
       "934  \"Jill Stein: \"\"How Much More Evidence Does Gov...             en   \n",
       "935  You will never see this pic on the nightly new...             en   \n",
       "937  \"\"\"This isn't a Justice Department anymore. Th...             en   \n",
       "938  'I swear if they bomb Russia, in half an hour ...             en   \n",
       "942  Willie Robertson: “Mr. Trump is a real leader....             en   \n",
       "945  \"Newt Gingrich: \"\"Hillary is the most dishones...             en   \n",
       "947  WATCH: During #DemConvention protests black te...             en   \n",
       "949  11 cops shot in Boston, 2 in critical conditio...             en   \n",
       "954  \"\"\"Any Muslim in the US who believes in Sharia...             en   \n",
       "956  Marine Le Pen: “They kill our children, murder...             en   \n",
       "961  Lying Mainstream Media will never show you thi...             en   \n",
       "965  Muslims united against Trump.. Have you ever s...             en   \n",
       "966  NEW AD: People stand united ready to replace d...             en   \n",
       "968  \"BOOM💥 @IceCube ENDORSED Donald Trump: ‘He is ...             en   \n",
       "969  I think @Project_Veritas has done great servic...             en   \n",
       "970  'The movement of Muslims, into Europe and the ...             en   \n",
       "972  \"Watch thousands of deplorables chanting: \"\"lo...             en   \n",
       "977  \".@SheriffClarke: \"\"That is not peaceful prote...             en   \n",
       "978  Breaking🚨  House overrides @POTUS veto of 9/11...             en   \n",
       "979  Danny Trejo: You can be proud of your Mexican ...             en   \n",
       "983  Hillary Clinton is the most corrupt candidate ...             en   \n",
       "985  Pundits keep saying that Trump doesn't have su...             en   \n",
       "986  Crooked Media can't stop common sense! More li...             en   \n",
       "989  Video of a man destroying Donald Trump's Holly...             en   \n",
       "990  .@OMAROSA: The African-American community has ...             en   \n",
       "991  \"\"\"We should be very grateful that the Age of ...             en   \n",
       "995  The Clinton Foundation is the most corrupt ent...             en   \n",
       "997  Why the hell It's fine for Mexico to have a wa...             en   \n",
       "\n",
       "     like_count                                    hashtags  \n",
       "4         10172                                [VoterFraud]  \n",
       "7         10756                                          []  \n",
       "9          6772                          [EvangelicalTrump]  \n",
       "14         8927  [VoterFraud, debatenight, TrumpBookReport]  \n",
       "16         7092                 [VoterFraud, DrainTheSwamp]  \n",
       "23         4218                       [BillyBushMadeMeDoIt]  \n",
       "25         4573  [FreeJulian, BirdDogging, PodestaEmails10]  \n",
       "29         5210                                 [gohillary]  \n",
       "32         3413                          [WorldTeachersDay]  \n",
       "35         4857                                          []  \n",
       "36         3762             [debatenight, trumpwon, debate]  \n",
       "37         3887                                          []  \n",
       "38         2719                                          []  \n",
       "40         2333                                  [Benghazi]  \n",
       "41         3018                                [VoterFraud]  \n",
       "42         3051                           [PodestaEmails10]  \n",
       "44         4233                                [Gettysburg]  \n",
       "48         3515                               [Debates2016]  \n",
       "49         2617                           [FakeVotingFacts]  \n",
       "51         4345                                    [debate]  \n",
       "52         3970                              [TrumpDrSeuss]  \n",
       "55         2155                                [VoterFraud]  \n",
       "56         2557                 [VoterFraud, draintheswamp]  \n",
       "58         2847                                [birtherism]  \n",
       "59         2074                               [BirdDogging]  \n",
       "60         3041                 [FridayFeeling, TrumpTrain]  \n",
       "61         3011                                [birtherism]  \n",
       "63         1768                                          []  \n",
       "65         1688                                          []  \n",
       "67         2395                            [PodestaEmails2]  \n",
       "..          ...                                         ...  \n",
       "932         343                                          []  \n",
       "933         366                                [VoterFraud]  \n",
       "934         670                                          []  \n",
       "935         562                                          []  \n",
       "937         595                                          []  \n",
       "938         697                                          []  \n",
       "942         750                                          []  \n",
       "945         677                             [FridayFeeling]  \n",
       "947         706                             [DemConvention]  \n",
       "949         436                          [ThursdayThoughts]  \n",
       "954         735                                          []  \n",
       "956         503                                          []  \n",
       "961         597                     [HillaryCoverageIsCrap]  \n",
       "965         494                                          []  \n",
       "966         535                                          []  \n",
       "968         701                                          []  \n",
       "969         710                             [DrainTheSwamp]  \n",
       "970         512                                  [RNCinCLE]  \n",
       "972         741                          [EvangelicalTrump]  \n",
       "977         582                                          []  \n",
       "978         571                                     [JASTA]  \n",
       "979         817                                          []  \n",
       "983         947                       [debate, DebateNight]  \n",
       "985         798                                          []  \n",
       "986         661                                   [DemExit]  \n",
       "989         342                                          []  \n",
       "990         595                                          []  \n",
       "991         685                                 [FixMyLife]  \n",
       "995         766                       [debate, debatenight]  \n",
       "997         565                                          []  \n",
       "\n",
       "[567 rows x 9 columns]"
      ]
     },
     "execution_count": 86,
     "metadata": {},
     "output_type": "execute_result"
    }
   ],
   "source": [
    "troll_example_p4"
   ]
  },
  {
   "cell_type": "markdown",
   "metadata": {},
   "source": [
    "### Time window : Period 5 (*Ukraine's War & Presidential Instability*)\n",
    "\n",
    "In this time window we did observe two main events that pushed massively troll accounts to their keyboards ! "
   ]
  },
  {
   "cell_type": "code",
   "execution_count": 87,
   "metadata": {},
   "outputs": [],
   "source": [
    "# get the corresponding tweets for period 5\n",
    "normal_tweets_p5_query = \"\"\"SELECT * \n",
    "                            FROM normal_tweets_sql\n",
    "                            WHERE tweet_time > \"2016-10-31\" AND tweet_time <= \"2017-10-31\"\n",
    "                        \"\"\"\n",
    "normal_tweets_p5_df  = spark.sql(normal_tweets_p5_query)\n",
    "\n",
    "normal_tweets_p5_df.createOrReplaceTempView(\"normal_tweets_p5_sql\")"
   ]
  },
  {
   "cell_type": "code",
   "execution_count": 88,
   "metadata": {},
   "outputs": [],
   "source": [
    "# group and count by weeks (only the weeks of interest corresponding to the current time window) \n",
    "normal_dates_w_p5_query = \"\"\"SELECT COUNT(tweetid) AS count,MAX(tweet_time) AS time \n",
    "                             FROM normal_tweets_p5_sql \n",
    "                             GROUP BY CAST(DATEDIFF(tweet_time,\"2016-10-31\")/7 AS int)\n",
    "                             ORDER BY time ASC\n",
    "                          \"\"\"\n",
    "normal_dates_w_p5_df = spark.sql(normal_dates_w_p5_query)\n",
    "\n",
    "# store as a Panda dataframe (very small, absolutely no problem with the memory)\n",
    "normal_dates_w_p5_pd = normal_dates_w_p5_df.toPandas()"
   ]
  },
  {
   "cell_type": "code",
   "execution_count": 89,
   "metadata": {},
   "outputs": [
    {
     "data": {
      "image/png": "[encoded data removed]",
      "text/plain": [
       "<Figure size 576x432 with 1 Axes>"
      ]
     },
     "metadata": {
      "needs_background": "light"
     },
     "output_type": "display_data"
    }
   ],
   "source": [
    "plt.figure(figsize=(8,6))\n",
    "\n",
    "# /!\\ occured the 8th of November 2016 => we keep counts even for January 2017 since the investiture occurs in 2017 and \n",
    "# the transition time between the efficient transfer power was a really 'hectic' time\n",
    "peak_victory = normal_dates_w_p5_pd[(normal_dates_w_p5_pd.time>=\"2016-11-08\") & (normal_dates_w_p5_pd.time<=\"2017-01-31\")]\n",
    "\n",
    "# /!\\ Times' revealings\n",
    "peak_gate = normal_dates_w_p5_pd[(normal_dates_w_p5_pd.time>=\"2017-07-25\") & (normal_dates_w_p5_pd.time<=\"2017-08-31\")]\n",
    "\n",
    "plt.plot(normal_dates_w_p5_pd[\"time\"],normal_dates_w_p5_pd[\"count\"],color=\"purple\",marker='+')\n",
    "plt.plot(peak_victory[\"time\"],peak_victory[\"count\"],color=\"lightblue\",marker='o')\n",
    "plt.plot(peak_gate[\"time\"],peak_gate[\"count\"],color=\"yellowgreen\",marker='o')\n",
    "plt.title('Evolution with time of the number of normal tweets sent by troll accounts')\n",
    "plt.grid()\n",
    "plt.xlabel('time (weeks spacing)')\n",
    "plt.ylabel('count')\n",
    "plt.legend(['period 5','peak : Trump\"s victory','peak : Times revealings'],loc=2);"
   ]
  },
  {
   "cell_type": "markdown",
   "metadata": {},
   "source": [
    "On this graph, *Trump's* win for US2016 elections isn't noticeable : one more time this supports the thesis for which IRA troll farm isn't only focusing on the american elections : there's so much more at stake ! Again '*war*' in Ukrain is still undergoing in the background and that's why the troll tweets volume seem to be rather stable despite the victory of Trump. We discuss the huge peak of July 2017 below ! "
   ]
  },
  {
   "cell_type": "code",
   "execution_count": 90,
   "metadata": {},
   "outputs": [],
   "source": [
    "# get texts of the normal tweets corresponding to period 5\n",
    "normal_tweets_texts_p5_query = \"\"\" SELECT normal_tweets_p5_sql.tweetid,tweet_language,tweet_text,userid,tweet_time,like_count,retweet_count,hashtags,urls\n",
    "                                   FROM tweets_text_sql JOIN normal_tweets_p5_sql ON tweets_text_sql.tweetid == normal_tweets_p5_sql.tweetid\n",
    "                               \"\"\"\n",
    "\n",
    "normal_tweets_texts_p5_df = spark.sql(normal_tweets_texts_p5_query)\n",
    "\n",
    "\n",
    "## Parquet transformation \n",
    "\n",
    "# @comment if Parquet already built\n",
    "#normal_tweets_texts_p5_df.write.mode('overwrite').parquet(\"normal_tweets_texts_p5_df\")\n",
    "\n",
    "normal_tweets_texts_p5_df = spark.read.parquet(\"normal_tweets_texts_p5_df\")\n",
    "\n",
    "# replace/update previous Spark SQL temporary view\n",
    "normal_tweets_texts_p5_df.createOrReplaceTempView(\"normal_tweets_texts_p5_sql\")\n"
   ]
  },
  {
   "cell_type": "code",
   "execution_count": 91,
   "metadata": {},
   "outputs": [],
   "source": [
    "political_normal_tweets_texts_p5_df = normal_tweets_texts_p5_df.rdd.filter(lambda x: any(word in x.tweet_text for word in stop_words_political))\n",
    "\n",
    "# @comment if Parquet already built\n",
    "#political_normal_tweets_texts_p5_df.toDF().write.mode('overwrite').parquet(\"political_tweets_texts_p5_df\")\n",
    "\n",
    "political_normal_tweets_texts_p5_df = spark.read.parquet(\"political_tweets_texts_p5_df\")"
   ]
  },
  {
   "cell_type": "code",
   "execution_count": 92,
   "metadata": {},
   "outputs": [],
   "source": [
    "political_normal_tweets_texts_p5_df.createOrReplaceTempView(\"political_normal_tweets_p5_sql\")\n",
    "\n",
    "# group and count by weeks (only the weeks of interest corresponding to the current time window) \n",
    "political_normal_dates_w_p5_query = \"\"\"SELECT COUNT(tweetid) AS count,MAX(tweet_time) AS time \n",
    "                                       FROM political_normal_tweets_p5_sql \n",
    "                                       GROUP BY CAST(DATEDIFF(tweet_time,\"2016-10-31\")/7 AS int)\n",
    "                                       ORDER BY time ASC\n",
    "                                    \"\"\"\n",
    "political_normal_dates_w_p5_df = spark.sql(political_normal_dates_w_p5_query)\n",
    "\n",
    "# store as a Panda dataframe (very small, absolutely no problem with the memory)\n",
    "political_normal_dates_w_p5_pd = political_normal_dates_w_p5_df.toPandas()"
   ]
  },
  {
   "cell_type": "code",
   "execution_count": 93,
   "metadata": {},
   "outputs": [
    {
     "data": {
      "image/png": "[encoded data removed]",
      "text/plain": [
       "<Figure size 576x432 with 1 Axes>"
      ]
     },
     "metadata": {
      "needs_background": "light"
     },
     "output_type": "display_data"
    }
   ],
   "source": [
    "plt.figure(figsize=(8,6))\n",
    "\n",
    "# /!\\ occured the 8th of November 2016 => we keep counts even for January 2017 since the investiture occurs in 2017 and \n",
    "# the transition time between the efficient transfer power was a really 'hectic' time\n",
    "peak_victory = political_normal_dates_w_p5_pd[(political_normal_dates_w_p5_pd.time>=\"2016-11-08\") & (political_normal_dates_w_p5_pd.time<=\"2017-01-31\")]\n",
    "\n",
    "# /!\\ Times' revealings\n",
    "peak_gate = political_normal_dates_w_p5_pd[(political_normal_dates_w_p5_pd.time>=\"2017-07-25\") & (political_normal_dates_w_p5_pd.time<=\"2017-08-31\")]\n",
    "\n",
    "plt.plot(political_normal_dates_w_p5_pd[\"time\"],political_normal_dates_w_p5_pd[\"count\"],color=\"purple\",marker='+')\n",
    "plt.plot(peak_victory[\"time\"],peak_victory[\"count\"],color=\"lightblue\",marker='o')\n",
    "plt.plot(peak_gate[\"time\"],peak_gate[\"count\"],color=\"yellowgreen\",marker='o')\n",
    "plt.title('Evolution with time of the number of direct political normal tweets sent by troll accounts')\n",
    "plt.grid()\n",
    "plt.xlabel('time (weeks spacing)')\n",
    "plt.ylabel('count')\n",
    "plt.legend(['period 5','peak : Trump\"s victory','peak : Times revealings'],loc=1);"
   ]
  },
  {
   "cell_type": "markdown",
   "metadata": {},
   "source": [
    "In order to be sure what for the second peak stands for we investigate its content : "
   ]
  },
  {
   "cell_type": "code",
   "execution_count": 94,
   "metadata": {},
   "outputs": [],
   "source": [
    "# group and count by weeks (only the weeks of interest corresponding to the current time window) \n",
    "political_normal_event_p5_query = \"\"\" SELECT * \n",
    "                                       FROM political_normal_tweets_p5_sql \n",
    "                                       WHERE tweet_time>=\"2017-07-25\" AND tweet_time<=\"2017-08-20\"\n",
    "                                       ORDER BY retweet_count DESC\n",
    "                                       LIMIT 10 \n",
    "                                    \"\"\"\n",
    "political_normal_event_p5_df = spark.sql(political_normal_event_p5_query)\n",
    "\n",
    "# store as a Panda dataframe (very small, absolutely no problem with the memory)\n",
    "political_normal_event_p5_pd = political_normal_event_p5_df.toPandas()"
   ]
  },
  {
   "cell_type": "code",
   "execution_count": 95,
   "metadata": {},
   "outputs": [
    {
     "name": "stdout",
     "output_type": "stream",
     "text": [
      "JULIAN ASSANGE: I investigated both presidential candidates — Hillary was the only one with corrupt ties to Russia https://t.co/MVVPkLORTb\n",
      "Acosta just asked Trump why he isn't taking more questions.  Trump:  I like real news, not fake news, and you are fake news.  Priceless! 😄 https://t.co/MBsUQS7Q8L\n",
      "RT lowt3ch: Soros funded media matters is working with Facebook and Twitter to kill pro trump articles https://t.co/zwDCm4to59\n",
      "President Trump calling Jim Acosta/CNN fake news is officially the best thing I've seen this week.  Cry baby Jim, cry!\n",
      "Шериф с помощниками пытают задержанного (т.е. это даже не заключённый). Ашленд Сити, штат Теннесси, самая демократичная страна в мире https://t.co/Rah6Eohs8K\n",
      "So CNN fired Jeffrey Lord for tweets but did nothing about Philip Mudd making threats against President trump on live TV? https://t.co/HZ6Tul09Bj\n",
      "\"\"\"The problems that are facing our nation has no color. We want jobs. We want economic opportunities. We want closed borders\"\"~ @brunelldonald https://t.co/1dlPBpj7jo\"\n",
      "JULIAN ASSANGE: I investigated both presidential candidates — Hillary was the only one with corrupt ties to Russia! https://t.co/qEuRIeDt1i\n",
      "So much evidence that Comey covered up civil rights abuses. Certainly a bigger story than that Russian #fakenews https://t.co/OqKw5dqU19\n",
      "Protesters in NYC heading to trump Tower. Beautiful. ❤️ #RESIST https://t.co/nfkHPdti8E\n"
     ]
    }
   ],
   "source": [
    "# print troll tweet_texts (not all relevant)\n",
    "for elem in political_normal_event_p5_pd.tweet_text:\n",
    "    print(elem)"
   ]
  },
  {
   "cell_type": "markdown",
   "metadata": {},
   "source": [
    "Those tweets are reactions about that \"*scandale*\" earlier in 2017 about *Trump's* collaboration with Russia and his false statements on social medias. \n",
    "\n",
    "Looking at the global timeline of events during the campaign : around July 2017 8th, Times revealed (accused) *Trump* had been negociating with russian contacts in Trump's tower. It was proven 6 months later to be true but didn't fail to attract a lot of mediatic buzz. As the *tweet_texts* mention it there was also *Comey*'s gate (FBI former director) ! \n",
    "\n",
    "Trolls here are just using the most basic technique : ***bad faith*** ! \n",
    "\n",
    "The most retweeted tweets speak for themselves : \n",
    "\n",
    "        - Comey is a liar and shouldn't investigate about Trump's legitimacy. \n",
    "        - Hillary is the only one corrupted w/ russians. \n",
    "        - To Trump, journalist Acosta is \"fake news\" (it launched a new trend by the way)"
   ]
  },
  {
   "cell_type": "markdown",
   "metadata": {},
   "source": [
    "----------------------------------------------------------------------"
   ]
  },
  {
   "cell_type": "markdown",
   "metadata": {},
   "source": [
    "#### CONCLUSION \n",
    "@comment"
   ]
  }
 ],
 "metadata": {
  "kernelspec": {
   "display_name": "Python [conda env:ada]",
   "language": "python",
   "name": "conda-env-ada-py"
  },
  "language_info": {
   "codemirror_mode": {
    "name": "ipython",
    "version": 3
   },
   "file_extension": ".py",
   "mimetype": "text/x-python",
   "name": "python",
   "nbconvert_exporter": "python",
   "pygments_lexer": "ipython3",
   "version": "3.6.6"
  }
 },
 "nbformat": 4,
 "nbformat_minor": 2
}
